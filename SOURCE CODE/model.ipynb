{
  "cells": [
    {
      "cell_type": "code",
      "execution_count": null,
      "metadata": {
        "colab": {
          "base_uri": "https://localhost:8080/"
        },
        "id": "zYgPGybb-Rem",
        "outputId": "a7b97e2e-3962-4177-9cd3-da534a89fe1e"
      },
      "outputs": [
        {
          "name": "stdout",
          "output_type": "stream",
          "text": [
            "Sun Oct 31 12:52:24 2021       \n",
            "+-----------------------------------------------------------------------------+\n",
            "| NVIDIA-SMI 495.29.05    Driver Version: 460.32.03    CUDA Version: 11.2     |\n",
            "|-------------------------------+----------------------+----------------------+\n",
            "| GPU  Name        Persistence-M| Bus-Id        Disp.A | Volatile Uncorr. ECC |\n",
            "| Fan  Temp  Perf  Pwr:Usage/Cap|         Memory-Usage | GPU-Util  Compute M. |\n",
            "|                               |                      |               MIG M. |\n",
            "|===============================+======================+======================|\n",
            "|   0  Tesla P100-PCIE...  Off  | 00000000:00:04.0 Off |                    0 |\n",
            "| N/A   37C    P0    26W / 250W |      0MiB / 16280MiB |      0%      Default |\n",
            "|                               |                      |                  N/A |\n",
            "+-------------------------------+----------------------+----------------------+\n",
            "                                                                               \n",
            "+-----------------------------------------------------------------------------+\n",
            "| Processes:                                                                  |\n",
            "|  GPU   GI   CI        PID   Type   Process name                  GPU Memory |\n",
            "|        ID   ID                                                   Usage      |\n",
            "|=============================================================================|\n",
            "|  No running processes found                                                 |\n",
            "+-----------------------------------------------------------------------------+\n"
          ]
        }
      ],
      "source": [
        "#Handy code to check Google Colab GPU status\n",
        "gpu_info = !nvidia-smi\n",
        "gpu_info = '\\n'.join(gpu_info)\n",
        "if gpu_info.find('failed') >= 0:\n",
        "  print('Not connected to a GPU')\n",
        "else:\n",
        "  print(gpu_info)"
      ]
    },
    {
      "cell_type": "code",
      "execution_count": null,
      "metadata": {
        "colab": {
          "base_uri": "https://localhost:8080/"
        },
        "id": "--0WoxyuAe3_",
        "outputId": "d7ba5936-de40-4c46-c429-8d8b332ece71"
      },
      "outputs": [
        {
          "name": "stdout",
          "output_type": "stream",
          "text": [
            "Model name:          Intel(R) Xeon(R) CPU @ 2.20GHz\n",
            "Core(s) per socket:  2\n",
            "Thread(s) per core:  2\n",
            "26G\n"
          ]
        }
      ],
      "source": [
        "#Handy code to check specs of current Google Colab Virtual Instance\n",
        "!lscpu |grep 'Model name'\n",
        "!lscpu | grep 'Core(s) per socket:'\n",
        "!lscpu | grep 'Thread(s) per core'\n",
        "!free -h --si | awk  '/Mem:/{print $2}'"
      ]
    },
    {
      "cell_type": "code",
      "execution_count": null,
      "metadata": {
        "colab": {
          "base_uri": "https://localhost:8080/"
        },
        "id": "1MjZOkNdYdB7",
        "outputId": "a79f724f-1da3-464c-96e2-9bfe78f84922"
      },
      "outputs": [
        {
          "name": "stdout",
          "output_type": "stream",
          "text": [
            "Go to this URL in a browser: https://accounts.google.com/o/oauth2/auth?client_id=947318989803-6bn6qk8qdgf4n4g3pfee6491hc0brc4i.apps.googleusercontent.com&redirect_uri=urn%3aietf%3awg%3aoauth%3a2.0%3aoob&scope=email%20https%3a%2f%2fwww.googleapis.com%2fauth%2fdocs.test%20https%3a%2f%2fwww.googleapis.com%2fauth%2fdrive%20https%3a%2f%2fwww.googleapis.com%2fauth%2fdrive.photos.readonly%20https%3a%2f%2fwww.googleapis.com%2fauth%2fpeopleapi.readonly%20https%3a%2f%2fwww.googleapis.com%2fauth%2fdrive.activity.readonly%20https%3a%2f%2fwww.googleapis.com%2fauth%2fexperimentsandconfigs%20https%3a%2f%2fwww.googleapis.com%2fauth%2fphotos.native&response_type=code\n",
            "\n",
            "Enter your authorization code:\n",
            "4/1AX4XfWi5PF5mian16Lkc7u3RMpMdxfRBYkfNKNLpLmDKjO9v_wFeMV_MHTE\n"
          ]
        }
      ],
      "source": [
        "#Connect to Google Drive to import dataset\n",
        "from google.colab import drive\n",
        "drive.mount('/content/drive')"
      ]
    },
    {
      "cell_type": "code",
      "execution_count": null,
      "metadata": {
        "id": "sBRcQrhqyJ7p"
      },
      "outputs": [],
      "source": [
        "#Import the dataset constructed in dataset.ipynb\n",
        "import pandas as pd\n",
        "df=pd.read_csv(\"/content/drive/MyDrive/small.csv\",index_col=0)"
      ]
    },
    {
      "cell_type": "code",
      "execution_count": null,
      "metadata": {
        "id": "6QH7RxdhUshd"
      },
      "outputs": [],
      "source": [
        "#Again, define the fixed length of text segments\n",
        "SEQ_LEN=1024"
      ]
    },
    {
      "cell_type": "code",
      "execution_count": null,
      "metadata": {
        "colab": {
          "base_uri": "https://localhost:8080/"
        },
        "id": "JPep_ptw9wOr",
        "outputId": "5c005ae4-a962-4dcc-b057-f79cbe1a2dd1"
      },
      "outputs": [
        {
          "name": "stdout",
          "output_type": "stream",
          "text": [
            "Collecting transformers\n",
            "  Downloading transformers-4.12.5-py3-none-any.whl (3.1 MB)\n",
            "\u001b[?25l\r\u001b[K     |                                | 10 kB 41.1 MB/s eta 0:00:01\r\u001b[K     |▏                               | 20 kB 23.8 MB/s eta 0:00:01\r\u001b[K     |▎                               | 30 kB 17.1 MB/s eta 0:00:01\r\u001b[K     |▍                               | 40 kB 14.9 MB/s eta 0:00:01\r\u001b[K     |▌                               | 51 kB 8.7 MB/s eta 0:00:01\r\u001b[K     |▋                               | 61 kB 8.5 MB/s eta 0:00:01\r\u001b[K     |▊                               | 71 kB 8.1 MB/s eta 0:00:01\r\u001b[K     |▉                               | 81 kB 9.1 MB/s eta 0:00:01\r\u001b[K     |█                               | 92 kB 9.3 MB/s eta 0:00:01\r\u001b[K     |█                               | 102 kB 8.3 MB/s eta 0:00:01\r\u001b[K     |█▏                              | 112 kB 8.3 MB/s eta 0:00:01\r\u001b[K     |█▎                              | 122 kB 8.3 MB/s eta 0:00:01\r\u001b[K     |█▍                              | 133 kB 8.3 MB/s eta 0:00:01\r\u001b[K     |█▌                              | 143 kB 8.3 MB/s eta 0:00:01\r\u001b[K     |█▋                              | 153 kB 8.3 MB/s eta 0:00:01\r\u001b[K     |█▊                              | 163 kB 8.3 MB/s eta 0:00:01\r\u001b[K     |█▉                              | 174 kB 8.3 MB/s eta 0:00:01\r\u001b[K     |██                              | 184 kB 8.3 MB/s eta 0:00:01\r\u001b[K     |██                              | 194 kB 8.3 MB/s eta 0:00:01\r\u001b[K     |██▏                             | 204 kB 8.3 MB/s eta 0:00:01\r\u001b[K     |██▎                             | 215 kB 8.3 MB/s eta 0:00:01\r\u001b[K     |██▍                             | 225 kB 8.3 MB/s eta 0:00:01\r\u001b[K     |██▌                             | 235 kB 8.3 MB/s eta 0:00:01\r\u001b[K     |██▋                             | 245 kB 8.3 MB/s eta 0:00:01\r\u001b[K     |██▊                             | 256 kB 8.3 MB/s eta 0:00:01\r\u001b[K     |██▊                             | 266 kB 8.3 MB/s eta 0:00:01\r\u001b[K     |██▉                             | 276 kB 8.3 MB/s eta 0:00:01\r\u001b[K     |███                             | 286 kB 8.3 MB/s eta 0:00:01\r\u001b[K     |███                             | 296 kB 8.3 MB/s eta 0:00:01\r\u001b[K     |███▏                            | 307 kB 8.3 MB/s eta 0:00:01\r\u001b[K     |███▎                            | 317 kB 8.3 MB/s eta 0:00:01\r\u001b[K     |███▍                            | 327 kB 8.3 MB/s eta 0:00:01\r\u001b[K     |███▌                            | 337 kB 8.3 MB/s eta 0:00:01\r\u001b[K     |███▋                            | 348 kB 8.3 MB/s eta 0:00:01\r\u001b[K     |███▊                            | 358 kB 8.3 MB/s eta 0:00:01\r\u001b[K     |███▉                            | 368 kB 8.3 MB/s eta 0:00:01\r\u001b[K     |████                            | 378 kB 8.3 MB/s eta 0:00:01\r\u001b[K     |████                            | 389 kB 8.3 MB/s eta 0:00:01\r\u001b[K     |████▏                           | 399 kB 8.3 MB/s eta 0:00:01\r\u001b[K     |████▎                           | 409 kB 8.3 MB/s eta 0:00:01\r\u001b[K     |████▍                           | 419 kB 8.3 MB/s eta 0:00:01\r\u001b[K     |████▌                           | 430 kB 8.3 MB/s eta 0:00:01\r\u001b[K     |████▋                           | 440 kB 8.3 MB/s eta 0:00:01\r\u001b[K     |████▊                           | 450 kB 8.3 MB/s eta 0:00:01\r\u001b[K     |████▉                           | 460 kB 8.3 MB/s eta 0:00:01\r\u001b[K     |█████                           | 471 kB 8.3 MB/s eta 0:00:01\r\u001b[K     |█████                           | 481 kB 8.3 MB/s eta 0:00:01\r\u001b[K     |█████▏                          | 491 kB 8.3 MB/s eta 0:00:01\r\u001b[K     |█████▎                          | 501 kB 8.3 MB/s eta 0:00:01\r\u001b[K     |█████▍                          | 512 kB 8.3 MB/s eta 0:00:01\r\u001b[K     |█████▌                          | 522 kB 8.3 MB/s eta 0:00:01\r\u001b[K     |█████▌                          | 532 kB 8.3 MB/s eta 0:00:01\r\u001b[K     |█████▋                          | 542 kB 8.3 MB/s eta 0:00:01\r\u001b[K     |█████▊                          | 552 kB 8.3 MB/s eta 0:00:01\r\u001b[K     |█████▉                          | 563 kB 8.3 MB/s eta 0:00:01\r\u001b[K     |██████                          | 573 kB 8.3 MB/s eta 0:00:01\r\u001b[K     |██████                          | 583 kB 8.3 MB/s eta 0:00:01\r\u001b[K     |██████▏                         | 593 kB 8.3 MB/s eta 0:00:01\r\u001b[K     |██████▎                         | 604 kB 8.3 MB/s eta 0:00:01\r\u001b[K     |██████▍                         | 614 kB 8.3 MB/s eta 0:00:01\r\u001b[K     |██████▌                         | 624 kB 8.3 MB/s eta 0:00:01\r\u001b[K     |██████▋                         | 634 kB 8.3 MB/s eta 0:00:01\r\u001b[K     |██████▊                         | 645 kB 8.3 MB/s eta 0:00:01\r\u001b[K     |██████▉                         | 655 kB 8.3 MB/s eta 0:00:01\r\u001b[K     |███████                         | 665 kB 8.3 MB/s eta 0:00:01\r\u001b[K     |███████                         | 675 kB 8.3 MB/s eta 0:00:01\r\u001b[K     |███████▏                        | 686 kB 8.3 MB/s eta 0:00:01\r\u001b[K     |███████▎                        | 696 kB 8.3 MB/s eta 0:00:01\r\u001b[K     |███████▍                        | 706 kB 8.3 MB/s eta 0:00:01\r\u001b[K     |███████▌                        | 716 kB 8.3 MB/s eta 0:00:01\r\u001b[K     |███████▋                        | 727 kB 8.3 MB/s eta 0:00:01\r\u001b[K     |███████▊                        | 737 kB 8.3 MB/s eta 0:00:01\r\u001b[K     |███████▉                        | 747 kB 8.3 MB/s eta 0:00:01\r\u001b[K     |████████                        | 757 kB 8.3 MB/s eta 0:00:01\r\u001b[K     |████████                        | 768 kB 8.3 MB/s eta 0:00:01\r\u001b[K     |████████▏                       | 778 kB 8.3 MB/s eta 0:00:01\r\u001b[K     |████████▎                       | 788 kB 8.3 MB/s eta 0:00:01\r\u001b[K     |████████▎                       | 798 kB 8.3 MB/s eta 0:00:01\r\u001b[K     |████████▍                       | 808 kB 8.3 MB/s eta 0:00:01\r\u001b[K     |████████▌                       | 819 kB 8.3 MB/s eta 0:00:01\r\u001b[K     |████████▋                       | 829 kB 8.3 MB/s eta 0:00:01\r\u001b[K     |████████▊                       | 839 kB 8.3 MB/s eta 0:00:01\r\u001b[K     |████████▉                       | 849 kB 8.3 MB/s eta 0:00:01\r\u001b[K     |█████████                       | 860 kB 8.3 MB/s eta 0:00:01\r\u001b[K     |█████████                       | 870 kB 8.3 MB/s eta 0:00:01\r\u001b[K     |█████████▏                      | 880 kB 8.3 MB/s eta 0:00:01\r\u001b[K     |█████████▎                      | 890 kB 8.3 MB/s eta 0:00:01\r\u001b[K     |█████████▍                      | 901 kB 8.3 MB/s eta 0:00:01\r\u001b[K     |█████████▌                      | 911 kB 8.3 MB/s eta 0:00:01\r\u001b[K     |█████████▋                      | 921 kB 8.3 MB/s eta 0:00:01\r\u001b[K     |█████████▊                      | 931 kB 8.3 MB/s eta 0:00:01\r\u001b[K     |█████████▉                      | 942 kB 8.3 MB/s eta 0:00:01\r\u001b[K     |██████████                      | 952 kB 8.3 MB/s eta 0:00:01\r\u001b[K     |██████████                      | 962 kB 8.3 MB/s eta 0:00:01\r\u001b[K     |██████████▏                     | 972 kB 8.3 MB/s eta 0:00:01\r\u001b[K     |██████████▎                     | 983 kB 8.3 MB/s eta 0:00:01\r\u001b[K     |██████████▍                     | 993 kB 8.3 MB/s eta 0:00:01\r\u001b[K     |██████████▌                     | 1.0 MB 8.3 MB/s eta 0:00:01\r\u001b[K     |██████████▋                     | 1.0 MB 8.3 MB/s eta 0:00:01\r\u001b[K     |██████████▊                     | 1.0 MB 8.3 MB/s eta 0:00:01\r\u001b[K     |██████████▉                     | 1.0 MB 8.3 MB/s eta 0:00:01\r\u001b[K     |███████████                     | 1.0 MB 8.3 MB/s eta 0:00:01\r\u001b[K     |███████████                     | 1.1 MB 8.3 MB/s eta 0:00:01\r\u001b[K     |███████████                     | 1.1 MB 8.3 MB/s eta 0:00:01\r\u001b[K     |███████████▏                    | 1.1 MB 8.3 MB/s eta 0:00:01\r\u001b[K     |███████████▎                    | 1.1 MB 8.3 MB/s eta 0:00:01\r\u001b[K     |███████████▍                    | 1.1 MB 8.3 MB/s eta 0:00:01\r\u001b[K     |███████████▌                    | 1.1 MB 8.3 MB/s eta 0:00:01\r\u001b[K     |███████████▋                    | 1.1 MB 8.3 MB/s eta 0:00:01\r\u001b[K     |███████████▊                    | 1.1 MB 8.3 MB/s eta 0:00:01\r\u001b[K     |███████████▉                    | 1.1 MB 8.3 MB/s eta 0:00:01\r\u001b[K     |████████████                    | 1.1 MB 8.3 MB/s eta 0:00:01\r\u001b[K     |████████████                    | 1.2 MB 8.3 MB/s eta 0:00:01\r\u001b[K     |████████████▏                   | 1.2 MB 8.3 MB/s eta 0:00:01\r\u001b[K     |████████████▎                   | 1.2 MB 8.3 MB/s eta 0:00:01\r\u001b[K     |████████████▍                   | 1.2 MB 8.3 MB/s eta 0:00:01\r\u001b[K     |████████████▌                   | 1.2 MB 8.3 MB/s eta 0:00:01\r\u001b[K     |████████████▋                   | 1.2 MB 8.3 MB/s eta 0:00:01\r\u001b[K     |████████████▊                   | 1.2 MB 8.3 MB/s eta 0:00:01\r\u001b[K     |████████████▉                   | 1.2 MB 8.3 MB/s eta 0:00:01\r\u001b[K     |█████████████                   | 1.2 MB 8.3 MB/s eta 0:00:01\r\u001b[K     |█████████████                   | 1.2 MB 8.3 MB/s eta 0:00:01\r\u001b[K     |█████████████▏                  | 1.3 MB 8.3 MB/s eta 0:00:01\r\u001b[K     |█████████████▎                  | 1.3 MB 8.3 MB/s eta 0:00:01\r\u001b[K     |█████████████▍                  | 1.3 MB 8.3 MB/s eta 0:00:01\r\u001b[K     |█████████████▌                  | 1.3 MB 8.3 MB/s eta 0:00:01\r\u001b[K     |█████████████▋                  | 1.3 MB 8.3 MB/s eta 0:00:01\r\u001b[K     |█████████████▊                  | 1.3 MB 8.3 MB/s eta 0:00:01\r\u001b[K     |█████████████▉                  | 1.3 MB 8.3 MB/s eta 0:00:01\r\u001b[K     |█████████████▉                  | 1.3 MB 8.3 MB/s eta 0:00:01\r\u001b[K     |██████████████                  | 1.3 MB 8.3 MB/s eta 0:00:01\r\u001b[K     |██████████████                  | 1.4 MB 8.3 MB/s eta 0:00:01\r\u001b[K     |██████████████▏                 | 1.4 MB 8.3 MB/s eta 0:00:01\r\u001b[K     |██████████████▎                 | 1.4 MB 8.3 MB/s eta 0:00:01\r\u001b[K     |██████████████▍                 | 1.4 MB 8.3 MB/s eta 0:00:01\r\u001b[K     |██████████████▌                 | 1.4 MB 8.3 MB/s eta 0:00:01\r\u001b[K     |██████████████▋                 | 1.4 MB 8.3 MB/s eta 0:00:01\r\u001b[K     |██████████████▊                 | 1.4 MB 8.3 MB/s eta 0:00:01\r\u001b[K     |██████████████▉                 | 1.4 MB 8.3 MB/s eta 0:00:01\r\u001b[K     |███████████████                 | 1.4 MB 8.3 MB/s eta 0:00:01\r\u001b[K     |███████████████                 | 1.4 MB 8.3 MB/s eta 0:00:01\r\u001b[K     |███████████████▏                | 1.5 MB 8.3 MB/s eta 0:00:01\r\u001b[K     |███████████████▎                | 1.5 MB 8.3 MB/s eta 0:00:01\r\u001b[K     |███████████████▍                | 1.5 MB 8.3 MB/s eta 0:00:01\r\u001b[K     |███████████████▌                | 1.5 MB 8.3 MB/s eta 0:00:01\r\u001b[K     |███████████████▋                | 1.5 MB 8.3 MB/s eta 0:00:01\r\u001b[K     |███████████████▊                | 1.5 MB 8.3 MB/s eta 0:00:01\r\u001b[K     |███████████████▉                | 1.5 MB 8.3 MB/s eta 0:00:01\r\u001b[K     |████████████████                | 1.5 MB 8.3 MB/s eta 0:00:01\r\u001b[K     |████████████████                | 1.5 MB 8.3 MB/s eta 0:00:01\r\u001b[K     |████████████████▏               | 1.5 MB 8.3 MB/s eta 0:00:01\r\u001b[K     |████████████████▎               | 1.6 MB 8.3 MB/s eta 0:00:01\r\u001b[K     |████████████████▍               | 1.6 MB 8.3 MB/s eta 0:00:01\r\u001b[K     |████████████████▌               | 1.6 MB 8.3 MB/s eta 0:00:01\r\u001b[K     |████████████████▋               | 1.6 MB 8.3 MB/s eta 0:00:01\r\u001b[K     |████████████████▋               | 1.6 MB 8.3 MB/s eta 0:00:01\r\u001b[K     |████████████████▊               | 1.6 MB 8.3 MB/s eta 0:00:01\r\u001b[K     |████████████████▉               | 1.6 MB 8.3 MB/s eta 0:00:01\r\u001b[K     |█████████████████               | 1.6 MB 8.3 MB/s eta 0:00:01\r\u001b[K     |█████████████████               | 1.6 MB 8.3 MB/s eta 0:00:01\r\u001b[K     |█████████████████▏              | 1.6 MB 8.3 MB/s eta 0:00:01\r\u001b[K     |█████████████████▎              | 1.7 MB 8.3 MB/s eta 0:00:01\r\u001b[K     |█████████████████▍              | 1.7 MB 8.3 MB/s eta 0:00:01\r\u001b[K     |█████████████████▌              | 1.7 MB 8.3 MB/s eta 0:00:01\r\u001b[K     |█████████████████▋              | 1.7 MB 8.3 MB/s eta 0:00:01\r\u001b[K     |█████████████████▊              | 1.7 MB 8.3 MB/s eta 0:00:01\r\u001b[K     |█████████████████▉              | 1.7 MB 8.3 MB/s eta 0:00:01\r\u001b[K     |██████████████████              | 1.7 MB 8.3 MB/s eta 0:00:01\r\u001b[K     |██████████████████              | 1.7 MB 8.3 MB/s eta 0:00:01\r\u001b[K     |██████████████████▏             | 1.7 MB 8.3 MB/s eta 0:00:01\r\u001b[K     |██████████████████▎             | 1.8 MB 8.3 MB/s eta 0:00:01\r\u001b[K     |██████████████████▍             | 1.8 MB 8.3 MB/s eta 0:00:01\r\u001b[K     |██████████████████▌             | 1.8 MB 8.3 MB/s eta 0:00:01\r\u001b[K     |██████████████████▋             | 1.8 MB 8.3 MB/s eta 0:00:01\r\u001b[K     |██████████████████▊             | 1.8 MB 8.3 MB/s eta 0:00:01\r\u001b[K     |██████████████████▉             | 1.8 MB 8.3 MB/s eta 0:00:01\r\u001b[K     |███████████████████             | 1.8 MB 8.3 MB/s eta 0:00:01\r\u001b[K     |███████████████████             | 1.8 MB 8.3 MB/s eta 0:00:01\r\u001b[K     |███████████████████▏            | 1.8 MB 8.3 MB/s eta 0:00:01\r\u001b[K     |███████████████████▎            | 1.8 MB 8.3 MB/s eta 0:00:01\r\u001b[K     |███████████████████▍            | 1.9 MB 8.3 MB/s eta 0:00:01\r\u001b[K     |███████████████████▍            | 1.9 MB 8.3 MB/s eta 0:00:01\r\u001b[K     |███████████████████▌            | 1.9 MB 8.3 MB/s eta 0:00:01\r\u001b[K     |███████████████████▋            | 1.9 MB 8.3 MB/s eta 0:00:01\r\u001b[K     |███████████████████▊            | 1.9 MB 8.3 MB/s eta 0:00:01\r\u001b[K     |███████████████████▉            | 1.9 MB 8.3 MB/s eta 0:00:01\r\u001b[K     |████████████████████            | 1.9 MB 8.3 MB/s eta 0:00:01\r\u001b[K     |████████████████████            | 1.9 MB 8.3 MB/s eta 0:00:01\r\u001b[K     |████████████████████▏           | 1.9 MB 8.3 MB/s eta 0:00:01\r\u001b[K     |████████████████████▎           | 1.9 MB 8.3 MB/s eta 0:00:01\r\u001b[K     |████████████████████▍           | 2.0 MB 8.3 MB/s eta 0:00:01\r\u001b[K     |████████████████████▌           | 2.0 MB 8.3 MB/s eta 0:00:01\r\u001b[K     |████████████████████▋           | 2.0 MB 8.3 MB/s eta 0:00:01\r\u001b[K     |████████████████████▊           | 2.0 MB 8.3 MB/s eta 0:00:01\r\u001b[K     |████████████████████▉           | 2.0 MB 8.3 MB/s eta 0:00:01\r\u001b[K     |█████████████████████           | 2.0 MB 8.3 MB/s eta 0:00:01\r\u001b[K     |█████████████████████           | 2.0 MB 8.3 MB/s eta 0:00:01\r\u001b[K     |█████████████████████▏          | 2.0 MB 8.3 MB/s eta 0:00:01\r\u001b[K     |█████████████████████▎          | 2.0 MB 8.3 MB/s eta 0:00:01\r\u001b[K     |█████████████████████▍          | 2.0 MB 8.3 MB/s eta 0:00:01\r\u001b[K     |█████████████████████▌          | 2.1 MB 8.3 MB/s eta 0:00:01\r\u001b[K     |█████████████████████▋          | 2.1 MB 8.3 MB/s eta 0:00:01\r\u001b[K     |█████████████████████▊          | 2.1 MB 8.3 MB/s eta 0:00:01\r\u001b[K     |█████████████████████▉          | 2.1 MB 8.3 MB/s eta 0:00:01\r\u001b[K     |██████████████████████          | 2.1 MB 8.3 MB/s eta 0:00:01\r\u001b[K     |██████████████████████          | 2.1 MB 8.3 MB/s eta 0:00:01\r\u001b[K     |██████████████████████▏         | 2.1 MB 8.3 MB/s eta 0:00:01\r\u001b[K     |██████████████████████▏         | 2.1 MB 8.3 MB/s eta 0:00:01\r\u001b[K     |██████████████████████▎         | 2.1 MB 8.3 MB/s eta 0:00:01\r\u001b[K     |██████████████████████▍         | 2.2 MB 8.3 MB/s eta 0:00:01\r\u001b[K     |██████████████████████▌         | 2.2 MB 8.3 MB/s eta 0:00:01\r\u001b[K     |██████████████████████▋         | 2.2 MB 8.3 MB/s eta 0:00:01\r\u001b[K     |██████████████████████▊         | 2.2 MB 8.3 MB/s eta 0:00:01\r\u001b[K     |██████████████████████▉         | 2.2 MB 8.3 MB/s eta 0:00:01\r\u001b[K     |███████████████████████         | 2.2 MB 8.3 MB/s eta 0:00:01\r\u001b[K     |███████████████████████         | 2.2 MB 8.3 MB/s eta 0:00:01\r\u001b[K     |███████████████████████▏        | 2.2 MB 8.3 MB/s eta 0:00:01\r\u001b[K     |███████████████████████▎        | 2.2 MB 8.3 MB/s eta 0:00:01\r\u001b[K     |███████████████████████▍        | 2.2 MB 8.3 MB/s eta 0:00:01\r\u001b[K     |███████████████████████▌        | 2.3 MB 8.3 MB/s eta 0:00:01\r\u001b[K     |███████████████████████▋        | 2.3 MB 8.3 MB/s eta 0:00:01\r\u001b[K     |███████████████████████▊        | 2.3 MB 8.3 MB/s eta 0:00:01\r\u001b[K     |███████████████████████▉        | 2.3 MB 8.3 MB/s eta 0:00:01\r\u001b[K     |████████████████████████        | 2.3 MB 8.3 MB/s eta 0:00:01\r\u001b[K     |████████████████████████        | 2.3 MB 8.3 MB/s eta 0:00:01\r\u001b[K     |████████████████████████▏       | 2.3 MB 8.3 MB/s eta 0:00:01\r\u001b[K     |████████████████████████▎       | 2.3 MB 8.3 MB/s eta 0:00:01\r\u001b[K     |████████████████████████▍       | 2.3 MB 8.3 MB/s eta 0:00:01\r\u001b[K     |████████████████████████▌       | 2.3 MB 8.3 MB/s eta 0:00:01\r\u001b[K     |████████████████████████▋       | 2.4 MB 8.3 MB/s eta 0:00:01\r\u001b[K     |████████████████████████▊       | 2.4 MB 8.3 MB/s eta 0:00:01\r\u001b[K     |████████████████████████▉       | 2.4 MB 8.3 MB/s eta 0:00:01\r\u001b[K     |█████████████████████████       | 2.4 MB 8.3 MB/s eta 0:00:01\r\u001b[K     |█████████████████████████       | 2.4 MB 8.3 MB/s eta 0:00:01\r\u001b[K     |█████████████████████████       | 2.4 MB 8.3 MB/s eta 0:00:01\r\u001b[K     |█████████████████████████▏      | 2.4 MB 8.3 MB/s eta 0:00:01\r\u001b[K     |█████████████████████████▎      | 2.4 MB 8.3 MB/s eta 0:00:01\r\u001b[K     |█████████████████████████▍      | 2.4 MB 8.3 MB/s eta 0:00:01\r\u001b[K     |█████████████████████████▌      | 2.4 MB 8.3 MB/s eta 0:00:01\r\u001b[K     |█████████████████████████▋      | 2.5 MB 8.3 MB/s eta 0:00:01\r\u001b[K     |█████████████████████████▊      | 2.5 MB 8.3 MB/s eta 0:00:01\r\u001b[K     |█████████████████████████▉      | 2.5 MB 8.3 MB/s eta 0:00:01\r\u001b[K     |██████████████████████████      | 2.5 MB 8.3 MB/s eta 0:00:01\r\u001b[K     |██████████████████████████      | 2.5 MB 8.3 MB/s eta 0:00:01\r\u001b[K     |██████████████████████████▏     | 2.5 MB 8.3 MB/s eta 0:00:01\r\u001b[K     |██████████████████████████▎     | 2.5 MB 8.3 MB/s eta 0:00:01\r\u001b[K     |██████████████████████████▍     | 2.5 MB 8.3 MB/s eta 0:00:01\r\u001b[K     |██████████████████████████▌     | 2.5 MB 8.3 MB/s eta 0:00:01\r\u001b[K     |██████████████████████████▋     | 2.5 MB 8.3 MB/s eta 0:00:01\r\u001b[K     |██████████████████████████▊     | 2.6 MB 8.3 MB/s eta 0:00:01\r\u001b[K     |██████████████████████████▉     | 2.6 MB 8.3 MB/s eta 0:00:01\r\u001b[K     |███████████████████████████     | 2.6 MB 8.3 MB/s eta 0:00:01\r\u001b[K     |███████████████████████████     | 2.6 MB 8.3 MB/s eta 0:00:01\r\u001b[K     |███████████████████████████▏    | 2.6 MB 8.3 MB/s eta 0:00:01\r\u001b[K     |███████████████████████████▎    | 2.6 MB 8.3 MB/s eta 0:00:01\r\u001b[K     |███████████████████████████▍    | 2.6 MB 8.3 MB/s eta 0:00:01\r\u001b[K     |███████████████████████████▌    | 2.6 MB 8.3 MB/s eta 0:00:01\r\u001b[K     |███████████████████████████▋    | 2.6 MB 8.3 MB/s eta 0:00:01\r\u001b[K     |███████████████████████████▊    | 2.7 MB 8.3 MB/s eta 0:00:01\r\u001b[K     |███████████████████████████▊    | 2.7 MB 8.3 MB/s eta 0:00:01\r\u001b[K     |███████████████████████████▉    | 2.7 MB 8.3 MB/s eta 0:00:01\r\u001b[K     |████████████████████████████    | 2.7 MB 8.3 MB/s eta 0:00:01\r\u001b[K     |████████████████████████████    | 2.7 MB 8.3 MB/s eta 0:00:01\r\u001b[K     |████████████████████████████▏   | 2.7 MB 8.3 MB/s eta 0:00:01\r\u001b[K     |████████████████████████████▎   | 2.7 MB 8.3 MB/s eta 0:00:01\r\u001b[K     |████████████████████████████▍   | 2.7 MB 8.3 MB/s eta 0:00:01\r\u001b[K     |████████████████████████████▌   | 2.7 MB 8.3 MB/s eta 0:00:01\r\u001b[K     |████████████████████████████▋   | 2.7 MB 8.3 MB/s eta 0:00:01\r\u001b[K     |████████████████████████████▊   | 2.8 MB 8.3 MB/s eta 0:00:01\r\u001b[K     |████████████████████████████▉   | 2.8 MB 8.3 MB/s eta 0:00:01\r\u001b[K     |█████████████████████████████   | 2.8 MB 8.3 MB/s eta 0:00:01\r\u001b[K     |█████████████████████████████   | 2.8 MB 8.3 MB/s eta 0:00:01\r\u001b[K     |█████████████████████████████▏  | 2.8 MB 8.3 MB/s eta 0:00:01\r\u001b[K     |█████████████████████████████▎  | 2.8 MB 8.3 MB/s eta 0:00:01\r\u001b[K     |█████████████████████████████▍  | 2.8 MB 8.3 MB/s eta 0:00:01\r\u001b[K     |█████████████████████████████▌  | 2.8 MB 8.3 MB/s eta 0:00:01\r\u001b[K     |█████████████████████████████▋  | 2.8 MB 8.3 MB/s eta 0:00:01\r\u001b[K     |█████████████████████████████▊  | 2.8 MB 8.3 MB/s eta 0:00:01\r\u001b[K     |█████████████████████████████▉  | 2.9 MB 8.3 MB/s eta 0:00:01\r\u001b[K     |██████████████████████████████  | 2.9 MB 8.3 MB/s eta 0:00:01\r\u001b[K     |██████████████████████████████  | 2.9 MB 8.3 MB/s eta 0:00:01\r\u001b[K     |██████████████████████████████▏ | 2.9 MB 8.3 MB/s eta 0:00:01\r\u001b[K     |██████████████████████████████▎ | 2.9 MB 8.3 MB/s eta 0:00:01\r\u001b[K     |██████████████████████████████▍ | 2.9 MB 8.3 MB/s eta 0:00:01\r\u001b[K     |██████████████████████████████▌ | 2.9 MB 8.3 MB/s eta 0:00:01\r\u001b[K     |██████████████████████████████▌ | 2.9 MB 8.3 MB/s eta 0:00:01\r\u001b[K     |██████████████████████████████▋ | 2.9 MB 8.3 MB/s eta 0:00:01\r\u001b[K     |██████████████████████████████▊ | 2.9 MB 8.3 MB/s eta 0:00:01\r\u001b[K     |██████████████████████████████▉ | 3.0 MB 8.3 MB/s eta 0:00:01\r\u001b[K     |███████████████████████████████ | 3.0 MB 8.3 MB/s eta 0:00:01\r\u001b[K     |███████████████████████████████ | 3.0 MB 8.3 MB/s eta 0:00:01\r\u001b[K     |███████████████████████████████▏| 3.0 MB 8.3 MB/s eta 0:00:01\r\u001b[K     |███████████████████████████████▎| 3.0 MB 8.3 MB/s eta 0:00:01\r\u001b[K     |███████████████████████████████▍| 3.0 MB 8.3 MB/s eta 0:00:01\r\u001b[K     |███████████████████████████████▌| 3.0 MB 8.3 MB/s eta 0:00:01\r\u001b[K     |███████████████████████████████▋| 3.0 MB 8.3 MB/s eta 0:00:01\r\u001b[K     |███████████████████████████████▊| 3.0 MB 8.3 MB/s eta 0:00:01\r\u001b[K     |███████████████████████████████▉| 3.1 MB 8.3 MB/s eta 0:00:01\r\u001b[K     |████████████████████████████████| 3.1 MB 8.3 MB/s eta 0:00:01\r\u001b[K     |████████████████████████████████| 3.1 MB 8.3 MB/s \n",
            "\u001b[?25hRequirement already satisfied: importlib-metadata in /usr/local/lib/python3.7/dist-packages (from transformers) (4.8.2)\n",
            "Requirement already satisfied: numpy>=1.17 in /usr/local/lib/python3.7/dist-packages (from transformers) (1.19.5)\n",
            "Requirement already satisfied: packaging>=20.0 in /usr/local/lib/python3.7/dist-packages (from transformers) (21.3)\n",
            "Collecting tokenizers<0.11,>=0.10.1\n",
            "  Downloading tokenizers-0.10.3-cp37-cp37m-manylinux_2_5_x86_64.manylinux1_x86_64.manylinux_2_12_x86_64.manylinux2010_x86_64.whl (3.3 MB)\n",
            "\u001b[K     |████████████████████████████████| 3.3 MB 66.2 MB/s \n",
            "\u001b[?25hCollecting sacremoses\n",
            "  Downloading sacremoses-0.0.46-py3-none-any.whl (895 kB)\n",
            "\u001b[K     |████████████████████████████████| 895 kB 89.0 MB/s \n",
            "\u001b[?25hRequirement already satisfied: regex!=2019.12.17 in /usr/local/lib/python3.7/dist-packages (from transformers) (2019.12.20)\n",
            "Collecting pyyaml>=5.1\n",
            "  Downloading PyYAML-6.0-cp37-cp37m-manylinux_2_5_x86_64.manylinux1_x86_64.manylinux_2_12_x86_64.manylinux2010_x86_64.whl (596 kB)\n",
            "\u001b[K     |████████████████████████████████| 596 kB 80.3 MB/s \n",
            "\u001b[?25hRequirement already satisfied: tqdm>=4.27 in /usr/local/lib/python3.7/dist-packages (from transformers) (4.62.3)\n",
            "Requirement already satisfied: requests in /usr/local/lib/python3.7/dist-packages (from transformers) (2.23.0)\n",
            "Requirement already satisfied: filelock in /usr/local/lib/python3.7/dist-packages (from transformers) (3.4.0)\n",
            "Collecting huggingface-hub<1.0,>=0.1.0\n",
            "  Downloading huggingface_hub-0.1.2-py3-none-any.whl (59 kB)\n",
            "\u001b[K     |████████████████████████████████| 59 kB 8.2 MB/s \n",
            "\u001b[?25hRequirement already satisfied: typing-extensions>=3.7.4.3 in /usr/local/lib/python3.7/dist-packages (from huggingface-hub<1.0,>=0.1.0->transformers) (3.10.0.2)\n",
            "Requirement already satisfied: pyparsing!=3.0.5,>=2.0.2 in /usr/local/lib/python3.7/dist-packages (from packaging>=20.0->transformers) (3.0.6)\n",
            "Requirement already satisfied: zipp>=0.5 in /usr/local/lib/python3.7/dist-packages (from importlib-metadata->transformers) (3.6.0)\n",
            "Requirement already satisfied: urllib3!=1.25.0,!=1.25.1,<1.26,>=1.21.1 in /usr/local/lib/python3.7/dist-packages (from requests->transformers) (1.24.3)\n",
            "Requirement already satisfied: chardet<4,>=3.0.2 in /usr/local/lib/python3.7/dist-packages (from requests->transformers) (3.0.4)\n",
            "Requirement already satisfied: idna<3,>=2.5 in /usr/local/lib/python3.7/dist-packages (from requests->transformers) (2.10)\n",
            "Requirement already satisfied: certifi>=2017.4.17 in /usr/local/lib/python3.7/dist-packages (from requests->transformers) (2021.10.8)\n",
            "Requirement already satisfied: six in /usr/local/lib/python3.7/dist-packages (from sacremoses->transformers) (1.15.0)\n",
            "Requirement already satisfied: joblib in /usr/local/lib/python3.7/dist-packages (from sacremoses->transformers) (1.1.0)\n",
            "Requirement already satisfied: click in /usr/local/lib/python3.7/dist-packages (from sacremoses->transformers) (7.1.2)\n",
            "Installing collected packages: pyyaml, tokenizers, sacremoses, huggingface-hub, transformers\n",
            "  Attempting uninstall: pyyaml\n",
            "    Found existing installation: PyYAML 3.13\n",
            "    Uninstalling PyYAML-3.13:\n",
            "      Successfully uninstalled PyYAML-3.13\n",
            "Successfully installed huggingface-hub-0.1.2 pyyaml-6.0 sacremoses-0.0.46 tokenizers-0.10.3 transformers-4.12.5\n"
          ]
        }
      ],
      "source": [
        "#Install Hugging Face's transformers package\n",
        "pip install transformers"
      ]
    },
    {
      "cell_type": "code",
      "execution_count": null,
      "metadata": {
        "colab": {
          "base_uri": "https://localhost:8080/"
        },
        "id": "uK1AWxtkUshe",
        "outputId": "c0e1bea0-489e-4325-e5fa-8ed040ece782"
      },
      "outputs": [
        {
          "name": "stdout",
          "output_type": "stream",
          "text": [
            "0\n",
            "10000\n",
            "20000\n",
            "30000\n",
            "40000\n",
            "50000\n",
            "60000\n"
          ]
        }
      ],
      "source": [
        "#Import model tokenizer and tokenize the dataset\n",
        "from transformers import AutoTokenizer, GPT2Tokenizer,BertTokenizerFast,LongformerTokenizerFast,RobertaTokenizerFast\n",
        "import numpy as np\n",
        "\n",
        "tokenizer = BertTokenizerFast.from_pretrained('bert-large-uncased')\n",
        "tokenizer.eos_token = \"[PAD]\"\n",
        "tokenizer.pad_token = tokenizer.eos_token\n",
        "\n",
        "def tokenize(sentence):\n",
        "    tokens = tokenizer.encode_plus(sentence, max_length=SEQ_LEN,\n",
        "                                   truncation=True, padding='max_length',\n",
        "                                   return_attention_mask=True,\n",
        "                                   return_token_type_ids=False, return_tensors='tf')\n",
        "    return tokens['input_ids'], tokens['attention_mask']\n",
        "\n",
        "#Initialize two arrays for input tensors\n",
        "Xids = np.zeros((len(df), SEQ_LEN))\n",
        "Xmask = np.zeros((len(df), SEQ_LEN))\n",
        "\n",
        "for i, sentence in enumerate(df['Text']):\n",
        "    Xids[i, :], Xmask[i, :] = tokenize(sentence)\n",
        "    if i % 10000 == 0:\n",
        "        print(i, \"samples completed\") "
      ]
    },
    {
      "cell_type": "code",
      "execution_count": null,
      "metadata": {
        "id": "YX4pL541Ushe"
      },
      "outputs": [],
      "source": [
        "import tensorflow as tf\n",
        "import numpy as np\n",
        "\n",
        "BATCH_SIZE = 4  \n",
        "\n",
        "#Load arrays from the tokenizer into a tensorflow dataset\n",
        "dataset = tf.data.Dataset.from_tensor_slices((Xids, Xmask, np.array(df[\"Label\"])))\n",
        "\n",
        "#Restructure dataset\n",
        "def map_func(input_ids, masks, labels):\n",
        "    return {'input_ids': input_ids, 'attention_mask': masks}, labels\n",
        "\n",
        "dataset = dataset.map(map_func)\n",
        "\n",
        "#Shuffle data and batch it\n",
        "dataset = dataset.shuffle(100000).batch(BATCH_SIZE)"
      ]
    },
    {
      "cell_type": "code",
      "execution_count": null,
      "metadata": {
        "id": "G1cMGHzc_T2M"
      },
      "outputs": [],
      "source": [
        "#Delete dataframe dataset to save space (as we have constructed a tensorflow dataset for model use)\n",
        "del df"
      ]
    },
    {
      "cell_type": "code",
      "execution_count": null,
      "metadata": {
        "id": "AW2mAYGyUshf"
      },
      "outputs": [],
      "source": [
        "#Get the length of the batched dataset\n",
        "DS_LEN = len([0 for batch in dataset])\n",
        "SPLIT = 0.8  # 80-20 split\n",
        "\n",
        "train = dataset.take(round(DS_LEN*SPLIT))  #Get first 80% of batches\n",
        "val = dataset.skip(round(DS_LEN*SPLIT))  #Skip first 80% and keep final 20%\n",
        "\n",
        "del dataset  #Delete full dataset to save space (as we have split the full dataset into train and val subsets)"
      ]
    },
    {
      "cell_type": "code",
      "execution_count": null,
      "metadata": {
        "colab": {
          "base_uri": "https://localhost:8080/",
          "height": 35
        },
        "id": "gZZ6AUgaUshg",
        "outputId": "e6852f72-ee48-40b3-c860-c809f71013d2"
      },
      "outputs": [
        {
          "data": {
            "application/vnd.google.colaboratory.intrinsic+json": {
              "type": "string"
            },
            "text/plain": [
              "'\\nconfiguration = bert.config\\n'"
            ]
          },
          "execution_count": 17,
          "metadata": {},
          "output_type": "execute_result"
        }
      ],
      "source": [
        "#Load pre-trained transformer \n",
        "modelname = \"bert-large-uncased\"\n",
        "\n",
        "from transformers import TFBertModel, BertConfig,LongformerConfig,TFLongformerModel,TFAutoModel,TFRobertaModel,RobertaConfig,GPT2Config, AutoConfig\n",
        "\n",
        "#Initialize a model configuration\n",
        "configuration = AutoConfig.from_pretrained(modelname,n_positions=SEQ_LEN,num_labels=2)\n",
        "\n",
        "#Initialize a model from the configuration\n",
        "transformer = TFAutoModel.from_config(config=configuration)\n",
        "\n",
        "#Access the model configuration\n",
        "configuration = transformer.config\n"
      ]
    },
    {
      "cell_type": "code",
      "execution_count": null,
      "metadata": {
        "id": "2j3QjUAkUshg"
      },
      "outputs": [],
      "source": [
        "#Define the model architecture\n",
        "import tensorflow as tf\n",
        "input_ids = tf.keras.layers.Input(shape=(SEQ_LEN,), name='input_ids', dtype='int32')\n",
        "mask = tf.keras.layers.Input(shape=(SEQ_LEN,), name='attention_mask', dtype='int32')\n",
        "\n",
        "#Consume the last_hidden_state tensor from the transformer\n",
        "embeddings = transformer(input_ids, attention_mask=mask)[0]\n",
        "X = tf.keras.layers.GlobalMaxPool1D()(embeddings)\n",
        "X = tf.keras.layers.BatchNormalization()(X)\n",
        "X = tf.keras.layers.Dense(512, activation='relu')(X)\n",
        "X = tf.keras.layers.Dropout(0.1)(X)\n",
        "X = tf.keras.layers.Dense(64, activation='relu')(X)\n",
        "X = tf.keras.layers.Dense(4, activation='relu')(X)\n",
        "y = tf.keras.layers.Dense(1, activation='sigmoid', name='output')(X)\n",
        "\n",
        "#Define input and output layers of the model\n",
        "model = tf.keras.Model(inputs=[input_ids, mask], outputs=y)\n",
        "\n",
        "#Freeze the transformer layer\n",
        "model.layers[2].trainable = False"
      ]
    },
    {
      "cell_type": "code",
      "execution_count": null,
      "metadata": {
        "colab": {
          "base_uri": "https://localhost:8080/"
        },
        "id": "o_GzKpHzUshg",
        "outputId": "0f20f948-6498-4a26-e472-7537c2ea1ad2"
      },
      "outputs": [
        {
          "name": "stdout",
          "output_type": "stream",
          "text": [
            "Model: \"model\"\n",
            "__________________________________________________________________________________________________\n",
            " Layer (type)                   Output Shape         Param #     Connected to                     \n",
            "==================================================================================================\n",
            " input_ids (InputLayer)         [(None, 1024)]       0           []                               \n",
            "                                                                                                  \n",
            " attention_mask (InputLayer)    [(None, 1024)]       0           []                               \n",
            "                                                                                                  \n",
            " tf_bert_model_1 (TFBertModel)  TFBaseModelOutputWi  335141888   ['input_ids[0][0]',              \n",
            "                                thPoolingAndCrossAt               'attention_mask[0][0]']         \n",
            "                                tentions(last_hidde                                               \n",
            "                                n_state=(None, 1024                                               \n",
            "                                , 1024),                                                          \n",
            "                                 pooler_output=(Non                                               \n",
            "                                e, 1024),                                                         \n",
            "                                 past_key_values=No                                               \n",
            "                                ne, hidden_states=N                                               \n",
            "                                one, attentions=Non                                               \n",
            "                                e, cross_attentions                                               \n",
            "                                =None)                                                            \n",
            "                                                                                                  \n",
            " global_max_pooling1d (GlobalMa  (None, 1024)        0           ['tf_bert_model_1[0][0]']        \n",
            " xPooling1D)                                                                                      \n",
            "                                                                                                  \n",
            " batch_normalization (BatchNorm  (None, 1024)        4096        ['global_max_pooling1d[0][0]']   \n",
            " alization)                                                                                       \n",
            "                                                                                                  \n",
            " dense (Dense)                  (None, 512)          524800      ['batch_normalization[0][0]']    \n",
            "                                                                                                  \n",
            " dropout_146 (Dropout)          (None, 512)          0           ['dense[0][0]']                  \n",
            "                                                                                                  \n",
            " dense_1 (Dense)                (None, 64)           32832       ['dropout_146[0][0]']            \n",
            "                                                                                                  \n",
            " dense_2 (Dense)                (None, 4)            260         ['dense_1[0][0]']                \n",
            "                                                                                                  \n",
            " output (Dense)                 (None, 1)            5           ['dense_2[0][0]']                \n",
            "                                                                                                  \n",
            "==================================================================================================\n",
            "Total params: 335,703,881\n",
            "Trainable params: 559,945\n",
            "Non-trainable params: 335,143,936\n",
            "__________________________________________________________________________________________________\n"
          ]
        }
      ],
      "source": [
        "#Show model summary\n",
        "model.summary()"
      ]
    },
    {
      "cell_type": "code",
      "execution_count": null,
      "metadata": {
        "colab": {
          "base_uri": "https://localhost:8080/"
        },
        "id": "m73kNEkdUshg",
        "outputId": "ca02c2b2-3e92-46d0-eb30-37200db0a6d5"
      },
      "outputs": [
        {
          "name": "stdout",
          "output_type": "stream",
          "text": [
            "WARNING:tensorflow:Mixed precision compatibility check (mixed_float16): WARNING\n",
            "Your GPU may run slowly with dtype policy mixed_float16 because it does not have compute capability of at least 7.0. Your GPU:\n",
            "  Tesla P100-PCIE-16GB, compute capability 6.0\n",
            "See https://developer.nvidia.com/cuda-gpus for a list of GPUs and their compute capabilities.\n",
            "If you will use compatible GPU(s) not attached to this host, e.g. by running a multi-worker model, you can ignore this warning. This message will only be logged once\n"
          ]
        }
      ],
      "source": [
        "#Use mixed float 16 to save training time\n",
        "policy=tf.keras.mixed_precision.Policy(\"mixed_float16\")\n",
        "tf.keras.mixed_precision.set_global_policy(policy)\n"
      ]
    },
    {
      "cell_type": "code",
      "execution_count": null,
      "metadata": {
        "colab": {
          "base_uri": "https://localhost:8080/"
        },
        "id": "0Lqfj5NhUshh",
        "outputId": "4294e6b5-3b19-4268-8af2-ad8aa41630f0"
      },
      "outputs": [
        {
          "name": "stdout",
          "output_type": "stream",
          "text": [
            "Epoch 1/20\n",
            "120/120 [==============================] - 466s 4s/step - loss: 0.6701 - accuracy: 0.6286 - auc: 0.5364 - val_loss: 0.6791 - val_accuracy: 0.6292 - val_auc: 0.5632\n",
            "Epoch 2/20\n",
            "120/120 [==============================] - 437s 4s/step - loss: 0.6547 - accuracy: 0.6578 - auc: 0.5554 - val_loss: 0.6636 - val_accuracy: 0.6542 - val_auc: 0.6126\n",
            "Epoch 3/20\n",
            "120/120 [==============================] - 437s 4s/step - loss: 0.6547 - accuracy: 0.6292 - auc: 0.5827 - val_loss: 0.8255 - val_accuracy: 0.6479 - val_auc: 0.6776\n",
            "Epoch 4/20\n",
            "120/120 [==============================] - 437s 4s/step - loss: 0.6316 - accuracy: 0.6490 - auc: 0.6073 - val_loss: 2.1447 - val_accuracy: 0.6208 - val_auc: 0.5776\n",
            "Epoch 5/20\n",
            "120/120 [==============================] - 437s 4s/step - loss: 0.6379 - accuracy: 0.6432 - auc: 0.6016 - val_loss: 1.8230 - val_accuracy: 0.6438 - val_auc: 0.6252\n",
            "Epoch 6/20\n",
            "120/120 [==============================] - 437s 4s/step - loss: 0.6458 - accuracy: 0.6245 - auc: 0.6085 - val_loss: 1.4863 - val_accuracy: 0.6604 - val_auc: 0.6766\n",
            "Epoch 7/20\n",
            "120/120 [==============================] - 438s 4s/step - loss: 0.6296 - accuracy: 0.6547 - auc: 0.6116 - val_loss: 1.2306 - val_accuracy: 0.6687 - val_auc: 0.6455\n",
            "Epoch 8/20\n",
            "120/120 [==============================] - 438s 4s/step - loss: 0.6328 - accuracy: 0.6547 - auc: 0.6145 - val_loss: 1.5243 - val_accuracy: 0.6458 - val_auc: 0.6785\n",
            "Epoch 9/20\n",
            "120/120 [==============================] - 438s 4s/step - loss: 0.6331 - accuracy: 0.6573 - auc: 0.6075 - val_loss: 2.0042 - val_accuracy: 0.6271 - val_auc: 0.6413\n",
            "Epoch 10/20\n",
            "120/120 [==============================] - 438s 4s/step - loss: 0.6246 - accuracy: 0.6531 - auc: 0.6318 - val_loss: 2.3897 - val_accuracy: 0.5958 - val_auc: 0.5471\n",
            "Epoch 11/20\n",
            "120/120 [==============================] - 437s 4s/step - loss: 0.6233 - accuracy: 0.6516 - auc: 0.6392 - val_loss: 2.7014 - val_accuracy: 0.6208 - val_auc: 0.5055\n",
            "Epoch 12/20\n",
            "120/120 [==============================] - 437s 4s/step - loss: 0.6244 - accuracy: 0.6536 - auc: 0.6239 - val_loss: 2.5010 - val_accuracy: 0.6500 - val_auc: 0.5000\n",
            "Epoch 13/20\n",
            "120/120 [==============================] - 437s 4s/step - loss: 0.6385 - accuracy: 0.6479 - auc: 0.6100 - val_loss: 2.4162 - val_accuracy: 0.6083 - val_auc: 0.5330\n",
            "Epoch 14/20\n",
            "120/120 [==============================] - 437s 4s/step - loss: 0.6253 - accuracy: 0.6635 - auc: 0.6401 - val_loss: 1.4732 - val_accuracy: 0.6104 - val_auc: 0.6718\n",
            "Epoch 15/20\n",
            "120/120 [==============================] - 437s 4s/step - loss: 0.6223 - accuracy: 0.6490 - auc: 0.6488 - val_loss: 2.0172 - val_accuracy: 0.6250 - val_auc: 0.6262\n",
            "Epoch 16/20\n",
            "120/120 [==============================] - 438s 4s/step - loss: 0.6330 - accuracy: 0.6578 - auc: 0.6050 - val_loss: 1.5050 - val_accuracy: 0.6687 - val_auc: 0.6477\n",
            "Epoch 17/20\n",
            "120/120 [==============================] - 438s 4s/step - loss: 0.6268 - accuracy: 0.6542 - auc: 0.6394 - val_loss: 1.7830 - val_accuracy: 0.6104 - val_auc: 0.6767\n",
            "Epoch 18/20\n",
            "120/120 [==============================] - 438s 4s/step - loss: 0.6327 - accuracy: 0.6427 - auc: 0.6234 - val_loss: 1.8211 - val_accuracy: 0.6271 - val_auc: 0.6108\n",
            "Epoch 19/20\n",
            "120/120 [==============================] - 437s 4s/step - loss: 0.6177 - accuracy: 0.6484 - auc: 0.6642 - val_loss: 1.3305 - val_accuracy: 0.6562 - val_auc: 0.7205\n",
            "Epoch 20/20\n",
            "120/120 [==============================] - 437s 4s/step - loss: 0.6376 - accuracy: 0.6464 - auc: 0.6151 - val_loss: 1.0227 - val_accuracy: 0.6146 - val_auc: 0.7246\n"
          ]
        }
      ],
      "source": [
        "#Compile and train the model\n",
        "optimizer = tf.keras.optimizers.Adam(0.001)\n",
        "loss = tf.keras.losses.BinaryCrossentropy()  \n",
        "acc = tf.keras.metrics.BinaryAccuracy('accuracy')\n",
        "auc=tf.keras.metrics.AUC()\n",
        "\n",
        "model.compile(optimizer=optimizer, loss=loss, metrics=[acc,auc])\n",
        "\n",
        "history = model.fit(train, validation_data=val,steps_per_epoch=120,validation_steps=30, epochs=20, batch_size=32)"
      ]
    },
    {
      "cell_type": "code",
      "execution_count": null,
      "metadata": {
        "colab": {
          "base_uri": "https://localhost:8080/",
          "height": 266
        },
        "id": "bD3fhkqoVMek",
        "outputId": "3c3d5bf9-4fcb-4fa0-e241-96c58a40a208"
      },
      "outputs": [
        {
          "ename": "NameError",
          "evalue": "ignored",
          "output_type": "error",
          "traceback": [
            "\u001b[0;31m---------------------------------------------------------------------------\u001b[0m",
            "\u001b[0;31mNameError\u001b[0m                                 Traceback (most recent call last)",
            "\u001b[0;32m<ipython-input-1-a23b15bcb282>\u001b[0m in \u001b[0;36m<module>\u001b[0;34m()\u001b[0m\n\u001b[0;32m----> 1\u001b[0;31m \u001b[0mhist_df\u001b[0m\u001b[0;34m=\u001b[0m\u001b[0mpd\u001b[0m\u001b[0;34m.\u001b[0m\u001b[0mDataFrame\u001b[0m\u001b[0;34m(\u001b[0m\u001b[0mhistory\u001b[0m\u001b[0;34m.\u001b[0m\u001b[0mhistory\u001b[0m\u001b[0;34m)\u001b[0m\u001b[0;34m\u001b[0m\u001b[0;34m\u001b[0m\u001b[0m\n\u001b[0m\u001b[1;32m      2\u001b[0m \u001b[0mhist_csv_file\u001b[0m \u001b[0;34m=\u001b[0m \u001b[0;34m'small_GPT2_history_4096_RELU_ADAM.001_EPOCH20_EPOCHSTEP120_VALSTEP30.csv'\u001b[0m\u001b[0;34m\u001b[0m\u001b[0;34m\u001b[0m\u001b[0m\n\u001b[1;32m      3\u001b[0m \u001b[0;32mwith\u001b[0m \u001b[0mopen\u001b[0m\u001b[0;34m(\u001b[0m\u001b[0mhist_csv_file\u001b[0m\u001b[0;34m,\u001b[0m \u001b[0mmode\u001b[0m\u001b[0;34m=\u001b[0m\u001b[0;34m'w'\u001b[0m\u001b[0;34m)\u001b[0m \u001b[0;32mas\u001b[0m \u001b[0mf\u001b[0m\u001b[0;34m:\u001b[0m\u001b[0;34m\u001b[0m\u001b[0;34m\u001b[0m\u001b[0m\n\u001b[1;32m      4\u001b[0m     \u001b[0mhist_df\u001b[0m\u001b[0;34m.\u001b[0m\u001b[0mto_csv\u001b[0m\u001b[0;34m(\u001b[0m\u001b[0mf\u001b[0m\u001b[0;34m)\u001b[0m\u001b[0;34m\u001b[0m\u001b[0;34m\u001b[0m\u001b[0m\n",
            "\u001b[0;31mNameError\u001b[0m: name 'pd' is not defined"
          ]
        }
      ],
      "source": [
        "#Save training history into .csv\n",
        "hist_df=pd.DataFrame(history.history)\n",
        "hist_csv_file = 'shortBERTAdam.001.csv'\n",
        "with open(hist_csv_file, mode='w') as f:\n",
        "    hist_df.to_csv(f)"
      ]
    },
    {
      "cell_type": "code",
      "execution_count": null,
      "metadata": {
        "colab": {
          "base_uri": "https://localhost:8080/",
          "height": 729
        },
        "id": "63mGg_lQWVBM",
        "outputId": "f1263f2e-63c1-4d59-ae15-ce419d3e8dda"
      },
      "outputs": [
        {
          "data": {
            "image/png": "[encoded data removed]",
            "text/plain": [
              "<Figure size 720x720 with 3 Axes>"
            ]
          },
          "metadata": {
            "needs_background": "light"
          },
          "output_type": "display_data"
        }
      ],
      "source": [
        "#Optional: Plot training process with Matplotlib\n",
        "import matplotlib.pyplot as plt\n",
        "\n",
        "plt.subplot(3,1,1)\n",
        "plt.plot(history.history['accuracy'])\n",
        "plt.plot(history.history['val_accuracy'])\n",
        "plt.title('Model accuracy')\n",
        "plt.ylabel('Accuracy')\n",
        "plt.xlabel('Epoch')\n",
        "plt.ylim(0.3,0.9)\n",
        "plt.rcParams[\"figure.figsize\"] = (10,10)\n",
        "plt.legend(['Train', 'Test'], loc='upper left')\n",
        "\n",
        "plt.subplot(3,1,2)\n",
        "plt.plot(history.history['loss'])\n",
        "plt.plot(history.history['val_loss'])\n",
        "plt.title('Model loss')\n",
        "plt.ylabel('Loss')\n",
        "plt.ylim(0.3,3)\n",
        "\n",
        "plt.xlabel('Epoch')\n",
        "\n",
        "plt.legend(['Train', 'Test'], loc='upper left')\n",
        "\n",
        "\n",
        "plt.subplot(3,1,3)\n",
        "plt.plot(history.history['auc'])\n",
        "plt.plot(history.history['val_auc'])\n",
        "plt.title('Model AUC')\n",
        "plt.ylabel('AUC')\n",
        "plt.ylim(0.3,0.9)\n",
        "\n",
        "plt.xlabel('Epoch')\n",
        "\n",
        "plt.legend(['Train', 'Test'], loc='upper left')\n",
        "\n",
        "\n",
        "plt.tight_layout()\n",
        "\n",
        "plt.savefig('plots.png',dpi=300)"
      ]
    }
  ],
  "metadata": {
    "accelerator": "GPU",
    "colab": {
      "collapsed_sections": [],
      "machine_shape": "hm",
      "name": "dataframe.ipynb",
      "provenance": []
    },
    "interpreter": {
      "hash": "ad9386d1fdf12fb6be7df9160160306360f24ff01ac4124a5626c699e6096229"
    },
    "kernelspec": {
      "display_name": "Python 3.8.3 64-bit ('base': conda)",
      "name": "python3"
    },
    "language_info": {
      "codemirror_mode": {
        "name": "ipython",
        "version": 3
      },
      "file_extension": ".py",
      "mimetype": "text/x-python",
      "name": "python",
      "nbconvert_exporter": "python",
      "pygments_lexer": "ipython3",
      "version": "3.8.3"
    },
    "orig_nbformat": 4
  },
  "nbformat": 4,
  "nbformat_minor": 0
}
