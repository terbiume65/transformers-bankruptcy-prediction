{
 "cells": [
  {
   "cell_type": "code",
   "execution_count": null,
   "metadata": {
    "cell_id": "00002-a2b94e3a-9081-4b34-9ab4-45f6e880f7c4",
    "deepnote_cell_type": "code",
    "deepnote_to_be_reexecuted": false,
    "execution_millis": 2528,
    "execution_start": 1634320868381,
    "source_hash": "c0a99a99",
    "tags": []
   },
   "outputs": [
    {
     "name": "stdout",
     "output_type": "stream",
     "text": [
      "          0         1          2     3      4         5         6   7     8   \\\n",
      "0      10000  68391610  683916100   NaN   7952  60007905     10396   3  3990   \n",
      "1      10001  36720410  367204104   NaN   7953  60007906     10398   2  4925   \n",
      "2      10002  05978R10  05978R107   NaN   7954  60007907     10399   3  6020   \n",
      "3      10003  39031810  390318103   NaN   7957  60007910     10404   3  6020   \n",
      "4      10004  18906310  189063100   NaN   7960  60007913     10407   3  5330   \n",
      "...      ...       ...        ...   ...    ...       ...       ...  ..   ...   \n",
      "34424  93432  47737R10  47737R101   NaN  53450  70060329  70065498   3  7389   \n",
      "34425  93433  92870X30  92870X309   NaN  53451  60069700     66040   3  9999   \n",
      "34426  93434  78513510  785135104  SANW  53427  60069484     66342   3  9999   \n",
      "34427  93435  82936G20  82936G200   NaN  53452  60021572     29092   3  6163   \n",
      "34428  93436  88160R10  88160R101  TSLA  53453  60069832     66252   3  9999   \n",
      "\n",
      "               9           10   11                             12     13  \\\n",
      "0      1986-01-07  1987-06-11  560      OPTIMUM MANUFACTURING INC  OMFGA   \n",
      "1      1986-01-09  2017-08-03  233                GAS NATURAL INC   EGAS   \n",
      "2      1986-01-10  2013-02-15  231  BANCTRUST FINANCIAL GROUP INC   BTFG   \n",
      "3      1986-01-14  1995-12-15  231     GREAT COUNTRY BK ASONIA CT   GCBK   \n",
      "4      1986-01-15  1986-01-17  575            CLOSE OUTS PLUS INC   CLSO   \n",
      "...           ...         ...  ...                            ...    ...   \n",
      "34424  2010-06-08  2011-05-31  585    JIANGBO PHARMACEUTICALS INC   JGBO   \n",
      "34425  2010-06-18  2016-12-22  584                   VOLTARI CORP   VLTC   \n",
      "34426  2010-06-14  2020-12-31  100                  S & W SEED CO   SANW   \n",
      "34427  2010-06-14  2012-05-18  584          SINO CLEAN ENERGY INC   SCEI   \n",
      "34428  2010-06-29  2020-12-31  100                      TESLA INC   TSLA   \n",
      "\n",
      "             14  15 16 17 18  \n",
      "0           NaN  10  Q  A  R  \n",
      "1      221210.0  11  A  A  R  \n",
      "2      551111.0  11  Q  A  R  \n",
      "3           NaN  11  Q  A  R  \n",
      "4           NaN  10  Q  A  R  \n",
      "...         ...  .. .. .. ..  \n",
      "34424  541870.0  11  Q  A  R  \n",
      "34425  511210.0  11  Q  A  R  \n",
      "34426  111998.0  11  Q  A  R  \n",
      "34427  522310.0  11  Q  A  R  \n",
      "34428  336111.0  11  Q  A  R  \n",
      "\n",
      "[34429 rows x 19 columns]\n"
     ]
    }
   ],
   "source": [
    "#Read CRSP database file\n",
    "import pandas as pd\n",
    "df = pd.read_csv('sfz_hdr.txt', sep=\"|\",header=None)\n",
    "print(df)"
   ]
  },
  {
   "cell_type": "code",
   "execution_count": null,
   "metadata": {
    "cell_id": "00001-004a2426-c0d8-4671-b564-4aedde2802cc",
    "deepnote_cell_type": "code",
    "deepnote_to_be_reexecuted": false,
    "execution_millis": 25,
    "execution_start": 1634320870913,
    "source_hash": "f2eb95b3",
    "tags": []
   },
   "outputs": [],
   "source": [
    "#Drop unnecessary columns\n",
    "df.drop([1,2,4,5,6,7,8,13,14,15,16,17,18],axis=1,inplace=True)"
   ]
  },
  {
   "cell_type": "code",
   "execution_count": null,
   "metadata": {
    "cell_id": "00002-4d1d15ba-ae8f-4264-a555-0879e3c25b10",
    "deepnote_cell_type": "code",
    "deepnote_to_be_reexecuted": false,
    "execution_millis": 25,
    "execution_start": 1634320871286,
    "source_hash": "13b38ac7",
    "tags": []
   },
   "outputs": [],
   "source": [
    "#Rename columns and use datetime format\n",
    "df.columns=[\"ID\",\"Ticker\",\"Start Date\",\"End Date\",\"Code\",\"Name\"]\n",
    "df['Start Date'] = pd.to_datetime(df['Start Date'])\n",
    "df['End Date'] = pd.to_datetime(df['End Date'])\n"
   ]
  },
  {
   "cell_type": "code",
   "execution_count": null,
   "metadata": {
    "cell_id": "00003-5efa7a28-7297-4500-9cd5-13a8deae62d4",
    "deepnote_cell_type": "code",
    "deepnote_to_be_reexecuted": false,
    "execution_millis": 16,
    "execution_start": 1634320872048,
    "source_hash": "c27e8e7a",
    "tags": []
   },
   "outputs": [],
   "source": [
    "#Find companies with bankrupt code\n",
    "bankrupt=df[df[\"Code\"]==574]"
   ]
  },
  {
   "cell_type": "code",
   "execution_count": null,
   "metadata": {
    "cell_id": "00004-cd389cf2-6fba-4b88-8f42-365542700875",
    "deepnote_cell_type": "code",
    "deepnote_to_be_reexecuted": false,
    "execution_millis": 74,
    "execution_start": 1634320872073,
    "source_hash": "d58fd442",
    "tags": []
   },
   "outputs": [
    {
     "data": {
      "application/vnd.deepnote.dataframe.v2+json": {
       "column_count": 6,
       "columns": [
        {
         "dtype": "int64",
         "name": "ID",
         "stats": {
          "histogram": [
           {
            "bin_end": 18455.5,
            "bin_start": 10125,
            "count": 116
           },
           {
            "bin_end": 26786,
            "bin_start": 18455.5,
            "count": 28
           },
           {
            "bin_end": 35116.5,
            "bin_start": 26786,
            "count": 50
           },
           {
            "bin_end": 43447,
            "bin_start": 35116.5,
            "count": 44
           },
           {
            "bin_end": 51777.5,
            "bin_start": 43447,
            "count": 53
           },
           {
            "bin_end": 60108,
            "bin_start": 51777.5,
            "count": 43
           },
           {
            "bin_end": 68438.5,
            "bin_start": 60108,
            "count": 96
           },
           {
            "bin_end": 76769,
            "bin_start": 68438.5,
            "count": 66
           },
           {
            "bin_end": 85099.5,
            "bin_start": 76769,
            "count": 222
           },
           {
            "bin_end": 93430,
            "bin_start": 85099.5,
            "count": 194
           }
          ],
          "max": "93430",
          "min": "10125",
          "nan_count": 0,
          "unique_count": 912
         }
        },
        {
         "dtype": "object",
         "name": "Ticker",
         "stats": {
          "categories": [
           {
            "count": 912,
            "name": "Missing"
           }
          ],
          "nan_count": 912,
          "unique_count": 0
         }
        },
        {
         "dtype": "datetime64[ns]",
         "name": "Start Date",
         "stats": {
          "histogram": [
           {
            "bin_end": -1095249600000000000,
            "bin_start": -1388620800000000000,
            "count": 31
           },
           {
            "bin_end": -801878400000000000,
            "bin_start": -1095249600000000000,
            "count": 7
           },
           {
            "bin_end": -508507200000000000,
            "bin_start": -801878400000000000,
            "count": 7
           },
           {
            "bin_end": -215136000000000000,
            "bin_start": -508507200000000000,
            "count": 55
           },
           {
            "bin_end": 78235200000000000,
            "bin_start": -215136000000000000,
            "count": 65
           },
           {
            "bin_end": 371606400000000000,
            "bin_start": 78235200000000000,
            "count": 153
           },
           {
            "bin_end": 664977600000000000,
            "bin_start": 371606400000000000,
            "count": 181
           },
           {
            "bin_end": 958348800000000000,
            "bin_start": 664977600000000000,
            "count": 255
           },
           {
            "bin_end": 1251720000000000000,
            "bin_start": 958348800000000000,
            "count": 97
           },
           {
            "bin_end": 1545091200000000000,
            "bin_start": 1251720000000000000,
            "count": 61
           }
          ],
          "max": "2018-12-18 00:00:00",
          "min": "1925-12-31 00:00:00",
          "nan_count": 0,
          "unique_count": 737
         }
        },
        {
         "dtype": "datetime64[ns]",
         "name": "End Date",
         "stats": {
          "histogram": [
           {
            "bin_end": -972561600000000000,
            "bin_start": -1259280000000000000,
            "count": 13
           },
           {
            "bin_end": -685843200000000000,
            "bin_start": -972561600000000000,
            "count": 1
           },
           {
            "bin_end": -399124800000000000,
            "bin_start": -685843200000000000,
            "count": 1
           },
           {
            "bin_end": -112406400000000000,
            "bin_start": -399124800000000000,
            "count": 7
           },
           {
            "bin_end": 174312000000000000,
            "bin_start": -112406400000000000,
            "count": 35
           },
           {
            "bin_end": 461030400000000000,
            "bin_start": 174312000000000000,
            "count": 71
           },
           {
            "bin_end": 747748800000000000,
            "bin_start": 461030400000000000,
            "count": 231
           },
           {
            "bin_end": 1034467200000000000,
            "bin_start": 747748800000000000,
            "count": 227
           },
           {
            "bin_end": 1321185600000000000,
            "bin_start": 1034467200000000000,
            "count": 170
           },
           {
            "bin_end": 1607904000000000000,
            "bin_start": 1321185600000000000,
            "count": 156
           }
          ],
          "max": "2020-12-14 00:00:00",
          "min": "1930-02-05 00:00:00",
          "nan_count": 0,
          "unique_count": 834
         }
        },
        {
         "dtype": "int64",
         "name": "Code",
         "stats": {
          "histogram": [
           {
            "bin_end": 573.6,
            "bin_start": 573.5,
            "count": 0
           },
           {
            "bin_end": 573.7,
            "bin_start": 573.6,
            "count": 0
           },
           {
            "bin_end": 573.8,
            "bin_start": 573.7,
            "count": 0
           },
           {
            "bin_end": 573.9,
            "bin_start": 573.8,
            "count": 0
           },
           {
            "bin_end": 574,
            "bin_start": 573.9,
            "count": 0
           },
           {
            "bin_end": 574.1,
            "bin_start": 574,
            "count": 912
           },
           {
            "bin_end": 574.2,
            "bin_start": 574.1,
            "count": 0
           },
           {
            "bin_end": 574.3,
            "bin_start": 574.2,
            "count": 0
           },
           {
            "bin_end": 574.4,
            "bin_start": 574.3,
            "count": 0
           },
           {
            "bin_end": 574.5,
            "bin_start": 574.4,
            "count": 0
           }
          ],
          "max": "574",
          "min": "574",
          "nan_count": 0,
          "unique_count": 1
         }
        },
        {
         "dtype": "object",
         "name": "Name",
         "stats": {
          "categories": [
           {
            "count": 2,
            "name": "WORLDCOM INC GA NEW"
           },
           {
            "count": 2,
            "name": "PACIFIC DRILLING S A"
           },
           {
            "count": 908,
            "name": "893 others"
           }
          ],
          "nan_count": 0,
          "unique_count": 895
         }
        },
        {
         "dtype": "int64",
         "name": "_deepnote_index_column"
        }
       ],
       "row_count": 912,
       "rows_bottom": [
        {
         "Code": 574,
         "End Date": "2005-07-27T00:00:00.000000",
         "ID": 89559,
         "Name": "ABLE LABORATORIES INC",
         "Start Date": "2002-11-19T00:00:00.000000",
         "Ticker": "nan",
         "_deepnote_index_column": 30715
        },
        {
         "Code": 574,
         "End Date": "2009-01-07T00:00:00.000000",
         "ID": 89566,
         "Name": "CONSTAR INTERNATIONAL INC NEW",
         "Start Date": "2002-11-15T00:00:00.000000",
         "Ticker": "nan",
         "_deepnote_index_column": 30722
        },
        {
         "Code": 574,
         "End Date": "2016-10-07T00:00:00.000000",
         "ID": 89567,
         "Name": "COSI INC",
         "Start Date": "2002-11-22T00:00:00.000000",
         "Ticker": "nan",
         "_deepnote_index_column": 30723
        },
        {
         "Code": 574,
         "End Date": "2009-05-06T00:00:00.000000",
         "ID": 89631,
         "Name": "ISOLAGEN INC",
         "Start Date": "2002-12-11T00:00:00.000000",
         "Ticker": "nan",
         "_deepnote_index_column": 30787
        },
        {
         "Code": 574,
         "End Date": "2008-10-23T00:00:00.000000",
         "ID": 89743,
         "Name": "BROOKE CORP",
         "Start Date": "2003-05-29T00:00:00.000000",
         "Ticker": "nan",
         "_deepnote_index_column": 30868
        },
        {
         "Code": 574,
         "End Date": "2009-11-17T00:00:00.000000",
         "ID": 89751,
         "Name": "TETON ENERGY CORP",
         "Start Date": "2003-05-06T00:00:00.000000",
         "Ticker": "nan",
         "_deepnote_index_column": 30876
        },
        {
         "Code": 574,
         "End Date": "2005-08-16T00:00:00.000000",
         "ID": 89829,
         "Name": "ANCHOR GLASS CONTAINER CORP NEW",
         "Start Date": "2003-09-25T00:00:00.000000",
         "Ticker": "nan",
         "_deepnote_index_column": 30950
        },
        {
         "Code": 574,
         "End Date": "2008-07-21T00:00:00.000000",
         "ID": 89831,
         "Name": "SYNTAX BRILLIAN CORP",
         "Start Date": "2003-09-16T00:00:00.000000",
         "Ticker": "nan",
         "_deepnote_index_column": 30952
        },
        {
         "Code": 574,
         "End Date": "2012-04-10T00:00:00.000000",
         "ID": 89919,
         "Name": "PINNACLE AIRLINES CORP",
         "Start Date": "2003-11-25T00:00:00.000000",
         "Ticker": "nan",
         "_deepnote_index_column": 31039
        },
        {
         "Code": 574,
         "End Date": "2009-05-20T00:00:00.000000",
         "ID": 89930,
         "Name": "HAYES LEMMERZ INTERNATIONAL INC",
         "Start Date": "2003-12-02T00:00:00.000000",
         "Ticker": "nan",
         "_deepnote_index_column": 31050
        },
        {
         "Code": 574,
         "End Date": "2016-03-07T00:00:00.000000",
         "ID": 90192,
         "Name": "REPUBLIC AIRWAYS HOLDINGS INC",
         "Start Date": "2004-05-27T00:00:00.000000",
         "Ticker": "nan",
         "_deepnote_index_column": 31283
        },
        {
         "Code": 574,
         "End Date": "2013-06-21T00:00:00.000000",
         "ID": 90196,
         "Name": "EXIDE TECHNOLOGIES",
         "Start Date": "2004-05-06T00:00:00.000000",
         "Ticker": "nan",
         "_deepnote_index_column": 31286
        },
        {
         "Code": 574,
         "End Date": "2014-10-07T00:00:00.000000",
         "ID": 90204,
         "Name": "ENDEAVOUR INTERNATIONAL CORP",
         "Start Date": "2004-06-15T00:00:00.000000",
         "Ticker": "nan",
         "_deepnote_index_column": 31294
        },
        {
         "Code": 574,
         "End Date": "2009-10-27T00:00:00.000000",
         "ID": 90229,
         "Name": "LEADIS TECHNOLOGY INC",
         "Start Date": "2004-06-16T00:00:00.000000",
         "Ticker": "nan",
         "_deepnote_index_column": 31319
        },
        {
         "Code": 574,
         "End Date": "2010-04-16T00:00:00.000000",
         "ID": 90317,
         "Name": "TAMALPAIS BANCORP",
         "Start Date": "2004-08-09T00:00:00.000000",
         "Ticker": "nan",
         "_deepnote_index_column": 31406
        },
        {
         "Code": 574,
         "End Date": "2020-07-06T00:00:00.000000",
         "ID": 90387,
         "Name": "R T W RETAILWINDS INC",
         "Start Date": "2004-10-07T00:00:00.000000",
         "Ticker": "nan",
         "_deepnote_index_column": 31472
        },
        {
         "Code": 574,
         "End Date": "2015-07-02T00:00:00.000000",
         "ID": 90411,
         "Name": "LOCAL CORP",
         "Start Date": "2004-10-19T00:00:00.000000",
         "Ticker": "nan",
         "_deepnote_index_column": 31496
        },
        {
         "Code": 574,
         "End Date": "2008-10-21T00:00:00.000000",
         "ID": 90437,
         "Name": "M P C CORPORATION",
         "Start Date": "2004-11-05T00:00:00.000000",
         "Ticker": "nan",
         "_deepnote_index_column": 31522
        },
        {
         "Code": 574,
         "End Date": "2009-08-11T00:00:00.000000",
         "ID": 90480,
         "Name": "FIRST STATE FINANCIAL CORP",
         "Start Date": "2004-12-10T00:00:00.000000",
         "Ticker": "nan",
         "_deepnote_index_column": 31565
        },
        {
         "Code": 574,
         "End Date": "2020-07-30T00:00:00.000000",
         "ID": 90537,
         "Name": "NOBLE CORP PLC",
         "Start Date": "1985-09-23T00:00:00.000000",
         "Ticker": "nan",
         "_deepnote_index_column": 31622
        },
        {
         "Code": 574,
         "End Date": "2014-04-16T00:00:00.000000",
         "ID": 90538,
         "Name": "JAMES RIVER COAL CO",
         "Start Date": "2005-01-25T00:00:00.000000",
         "Ticker": "nan",
         "_deepnote_index_column": 31623
        },
        {
         "Code": 574,
         "End Date": "2009-10-23T00:00:00.000000",
         "ID": 90555,
         "Name": "FAIRPOINT COMMUNICATIONS INC",
         "Start Date": "2005-02-04T00:00:00.000000",
         "Ticker": "nan",
         "_deepnote_index_column": 31640
        },
        {
         "Code": 574,
         "End Date": "2010-04-09T00:00:00.000000",
         "ID": 90719,
         "Name": "BEACH FIRST NATL BANCSHARES INC",
         "Start Date": "2005-06-09T00:00:00.000000",
         "Ticker": "nan",
         "_deepnote_index_column": 31786
        },
        {
         "Code": 574,
         "End Date": "2012-02-15T00:00:00.000000",
         "ID": 90746,
         "Name": "T B S INTL LTD NEW",
         "Start Date": "2005-06-24T00:00:00.000000",
         "Ticker": "nan",
         "_deepnote_index_column": 31812
        },
        {
         "Code": 574,
         "End Date": "2019-03-29T00:00:00.000000",
         "ID": 90791,
         "Name": "ORCHIDS PAPER PRODUCTS CO",
         "Start Date": "2005-07-15T00:00:00.000000",
         "Ticker": "nan",
         "_deepnote_index_column": 31857
        },
        {
         "Code": 574,
         "End Date": "2014-04-21T00:00:00.000000",
         "ID": 90813,
         "Name": "GENCO SHIPPING & TRADING LTD",
         "Start Date": "2005-07-22T00:00:00.000000",
         "Ticker": "nan",
         "_deepnote_index_column": 31879
        },
        {
         "Code": 574,
         "End Date": "2009-01-07T00:00:00.000000",
         "ID": 90826,
         "Name": "PARENT COMPANY",
         "Start Date": "2005-08-03T00:00:00.000000",
         "Ticker": "nan",
         "_deepnote_index_column": 31891
        },
        {
         "Code": 574,
         "End Date": "2008-10-29T00:00:00.000000",
         "ID": 90877,
         "Name": "WORLDSPACE INC",
         "Start Date": "2005-08-04T00:00:00.000000",
         "Ticker": "nan",
         "_deepnote_index_column": 31942
        },
        {
         "Code": 574,
         "End Date": "2009-02-25T00:00:00.000000",
         "ID": 90911,
         "Name": "TRUMP ENTERTAINMENT RESORTS INC",
         "Start Date": "2005-09-20T00:00:00.000000",
         "Ticker": "nan",
         "_deepnote_index_column": 31976
        },
        {
         "Code": 574,
         "End Date": "2016-06-14T00:00:00.000000",
         "ID": 90951,
         "Name": "HERCULES OFFSHORE INC",
         "Start Date": "2005-10-27T00:00:00.000000",
         "Ticker": "nan",
         "_deepnote_index_column": 32016
        },
        {
         "Code": 574,
         "End Date": "2016-08-03T00:00:00.000000",
         "ID": 90968,
         "Name": "EPIRUS BIOPHARMACEUTICALS INC",
         "Start Date": "2005-11-09T00:00:00.000000",
         "Ticker": "nan",
         "_deepnote_index_column": 32033
        },
        {
         "Code": 574,
         "End Date": "2010-07-07T00:00:00.000000",
         "ID": 90970,
         "Name": "FIRST NATIONAL BANCSHARES INC SC",
         "Start Date": "2005-11-01T00:00:00.000000",
         "Ticker": "nan",
         "_deepnote_index_column": 32035
        },
        {
         "Code": 574,
         "End Date": "2014-12-19T00:00:00.000000",
         "ID": 91014,
         "Name": "DELIA S INC NEW",
         "Start Date": "2005-12-20T00:00:00.000000",
         "Ticker": "nan",
         "_deepnote_index_column": 32079
        },
        {
         "Code": 574,
         "End Date": "2009-06-18T00:00:00.000000",
         "ID": 91036,
         "Name": "AVIZA TECHNOLOGY INC",
         "Start Date": "2005-12-02T00:00:00.000000",
         "Ticker": "nan",
         "_deepnote_index_column": 32101
        },
        {
         "Code": 574,
         "End Date": "2016-05-23T00:00:00.000000",
         "ID": 91081,
         "Name": "LINN ENERGY LLC",
         "Start Date": "2006-01-13T00:00:00.000000",
         "Ticker": "nan",
         "_deepnote_index_column": 32146
        },
        {
         "Code": 574,
         "End Date": "2011-07-18T00:00:00.000000",
         "ID": 91179,
         "Name": "OMEGA NAVIGATION ENTERPRISES INC",
         "Start Date": "2006-04-07T00:00:00.000000",
         "Ticker": "nan",
         "_deepnote_index_column": 32242
        },
        {
         "Code": 574,
         "End Date": "2009-07-24T00:00:00.000000",
         "ID": 91268,
         "Name": "BASIN WATER INC",
         "Start Date": "2006-05-12T00:00:00.000000",
         "Ticker": "nan",
         "_deepnote_index_column": 32306
        },
        {
         "Code": 574,
         "End Date": "2009-06-19T00:00:00.000000",
         "ID": 91280,
         "Name": "NORTHSTAR NEUROSCIENCE INC",
         "Start Date": "2006-05-05T00:00:00.000000",
         "Ticker": "nan",
         "_deepnote_index_column": 32318
        },
        {
         "Code": 574,
         "End Date": "2008-10-31T00:00:00.000000",
         "ID": 91322,
         "Name": "VERASUN ENERGY CORP",
         "Start Date": "2006-06-14T00:00:00.000000",
         "Ticker": "nan",
         "_deepnote_index_column": 32360
        },
        {
         "Code": 574,
         "End Date": "2009-11-24T00:00:00.000000",
         "ID": 91347,
         "Name": "GLOBAL ENERGY HOLDINGS GROUP INC",
         "Start Date": "2006-06-20T00:00:00.000000",
         "Ticker": "nan",
         "_deepnote_index_column": 32385
        },
        {
         "Code": 574,
         "End Date": "2012-01-27T00:00:00.000000",
         "ID": 91369,
         "Name": "TENNESSEE COMMERCE BANCORP INC",
         "Start Date": "2006-06-09T00:00:00.000000",
         "Ticker": "nan",
         "_deepnote_index_column": 32406
        },
        {
         "Code": 574,
         "End Date": "2019-03-05T00:00:00.000000",
         "ID": 91391,
         "Name": "WINDSTREAM HOLDINGS INC",
         "Start Date": "2006-07-18T00:00:00.000000",
         "Ticker": "nan",
         "_deepnote_index_column": 32428
        },
        {
         "Code": 574,
         "End Date": "2015-11-10T00:00:00.000000",
         "ID": 91419,
         "Name": "MAGNUM HUNTER RESOURCES CORP",
         "Start Date": "2006-08-29T00:00:00.000000",
         "Ticker": "nan",
         "_deepnote_index_column": 32456
        },
        {
         "Code": 574,
         "End Date": "2009-01-23T00:00:00.000000",
         "ID": 91420,
         "Name": "QIMONDA A G",
         "Start Date": "2006-08-09T00:00:00.000000",
         "Ticker": "nan",
         "_deepnote_index_column": 32457
        },
        {
         "Code": 574,
         "End Date": "2018-05-10T00:00:00.000000",
         "ID": 91489,
         "Name": "E V ENERGY PARTNERS L P",
         "Start Date": "2006-09-27T00:00:00.000000",
         "Ticker": "nan",
         "_deepnote_index_column": 32525
        },
        {
         "Code": 574,
         "End Date": "2016-05-24T00:00:00.000000",
         "ID": 91494,
         "Name": "BREITBURN ENERGY PARTNERS L P",
         "Start Date": "2006-10-04T00:00:00.000000",
         "Ticker": "nan",
         "_deepnote_index_column": 32530
        },
        {
         "Code": 574,
         "End Date": "2009-06-25T00:00:00.000000",
         "ID": 91496,
         "Name": "EDDIE BAUER HOLDINGS INC",
         "Start Date": "2006-10-12T00:00:00.000000",
         "Ticker": "nan",
         "_deepnote_index_column": 32532
        },
        {
         "Code": 574,
         "End Date": "2018-11-05T00:00:00.000000",
         "ID": 91655,
         "Name": "AEGEAN MARINE PETROLEUM NETW INC",
         "Start Date": "2006-12-08T00:00:00.000000",
         "Ticker": "nan",
         "_deepnote_index_column": 32690
        },
        {
         "Code": 574,
         "End Date": "2009-04-28T00:00:00.000000",
         "ID": 91663,
         "Name": "DAYTON SUPERIOR CORP",
         "Start Date": "2006-12-20T00:00:00.000000",
         "Ticker": "nan",
         "_deepnote_index_column": 32698
        },
        {
         "Code": 574,
         "End Date": "2009-05-11T00:00:00.000000",
         "ID": 91681,
         "Name": "W S B FINANCIAL GROUP",
         "Start Date": "2006-12-14T00:00:00.000000",
         "Ticker": "nan",
         "_deepnote_index_column": 32716
        },
        {
         "Code": 574,
         "End Date": "2004-09-21T00:00:00.000000",
         "ID": 91682,
         "Name": "U S AIRWAYS GROUP INC",
         "Start Date": "2003-10-21T00:00:00.000000",
         "Ticker": "nan",
         "_deepnote_index_column": 32717
        },
        {
         "Code": 574,
         "End Date": "2019-06-27T00:00:00.000000",
         "ID": 91739,
         "Name": "LEGACY RESERVES INC",
         "Start Date": "2007-01-12T00:00:00.000000",
         "Ticker": "nan",
         "_deepnote_index_column": 32774
        },
        {
         "Code": 574,
         "End Date": "2009-04-06T00:00:00.000000",
         "ID": 91740,
         "Name": "MERUELO MADDUX PROPERTIES INC",
         "Start Date": "2007-01-25T00:00:00.000000",
         "Ticker": "nan",
         "_deepnote_index_column": 32775
        },
        {
         "Code": 574,
         "End Date": "2010-12-20T00:00:00.000000",
         "ID": 91820,
         "Name": "MOLECULAR INSIGHT PHARMS INC",
         "Start Date": "2007-02-02T00:00:00.000000",
         "Ticker": "nan",
         "_deepnote_index_column": 32850
        },
        {
         "Code": 574,
         "End Date": "2008-11-06T00:00:00.000000",
         "ID": 91903,
         "Name": "HYDROGEN CORP",
         "Start Date": "2007-03-06T00:00:00.000000",
         "Ticker": "nan",
         "_deepnote_index_column": 32933
        },
        {
         "Code": 574,
         "End Date": "2015-03-09T00:00:00.000000",
         "ID": 91976,
         "Name": "ALLIED NEVADA GOLD CORP",
         "Start Date": "2007-05-10T00:00:00.000000",
         "Ticker": "nan",
         "_deepnote_index_column": 33004
        },
        {
         "Code": 574,
         "End Date": "2009-04-13T00:00:00.000000",
         "ID": 92012,
         "Name": "NOVA BIOSOURCE FUELS INC",
         "Start Date": "2007-05-14T00:00:00.000000",
         "Ticker": "nan",
         "_deepnote_index_column": 33040
        },
        {
         "Code": 574,
         "End Date": "2010-10-28T00:00:00.000000",
         "ID": 92099,
         "Name": "TERRESTAR CORP",
         "Start Date": "2007-06-20T00:00:00.000000",
         "Ticker": "nan",
         "_deepnote_index_column": 33109
        },
        {
         "Code": 574,
         "End Date": "2011-10-28T00:00:00.000000",
         "ID": 92190,
         "Name": "M F GLOBAL HOLDINGS LTD",
         "Start Date": "2007-07-19T00:00:00.000000",
         "Ticker": "nan",
         "_deepnote_index_column": 33200
        },
        {
         "Code": 574,
         "End Date": "2009-05-14T00:00:00.000000",
         "ID": 92193,
         "Name": "ALSIUS CORP DE",
         "Start Date": "2007-07-12T00:00:00.000000",
         "Ticker": "nan",
         "_deepnote_index_column": 33203
        },
        {
         "Code": 574,
         "End Date": "2016-04-22T00:00:00.000000",
         "ID": 92215,
         "Name": "ENERGY XXI LTD",
         "Start Date": "2007-08-01T00:00:00.000000",
         "Ticker": "nan",
         "_deepnote_index_column": 33225
        },
        {
         "Code": 574,
         "End Date": "2008-10-23T00:00:00.000000",
         "ID": 92235,
         "Name": "BROOKE CAPITAL CORP",
         "Start Date": "2007-08-30T00:00:00.000000",
         "Ticker": "nan",
         "_deepnote_index_column": 33245
        },
        {
         "Code": 574,
         "End Date": "2009-11-17T00:00:00.000000",
         "ID": 92284,
         "Name": "ADVANTA CORP",
         "Start Date": "1985-10-22T00:00:00.000000",
         "Ticker": "nan",
         "_deepnote_index_column": 33294
        },
        {
         "Code": 574,
         "End Date": "2009-11-05T00:00:00.000000",
         "ID": 92315,
         "Name": "SOUTH TEXAS OIL CO",
         "Start Date": "2007-10-31T00:00:00.000000",
         "Ticker": "nan",
         "_deepnote_index_column": 33325
        },
        {
         "Code": 574,
         "End Date": "2014-11-21T00:00:00.000000",
         "ID": 92319,
         "Name": "BAXANO SURGICAL INC",
         "Start Date": "2007-10-17T00:00:00.000000",
         "Ticker": "nan",
         "_deepnote_index_column": 33329
        },
        {
         "Code": 574,
         "End Date": "2012-07-09T00:00:00.000000",
         "ID": 92346,
         "Name": "PATRIOT COAL CORP",
         "Start Date": "2007-11-01T00:00:00.000000",
         "Ticker": "nan",
         "_deepnote_index_column": 33353
        },
        {
         "Code": 574,
         "End Date": "2017-02-10T00:00:00.000000",
         "ID": 92375,
         "Name": "VANGUARD NATURAL RESOURCES LLC",
         "Start Date": "2007-10-24T00:00:00.000000",
         "Ticker": "nan",
         "_deepnote_index_column": 33382
        },
        {
         "Code": 574,
         "End Date": "1997-11-17T00:00:00.000000",
         "ID": 92524,
         "Name": "TOWN & COUNTRY CORP",
         "Start Date": "1985-06-21T00:00:00.000000",
         "Ticker": "nan",
         "_deepnote_index_column": 33530
        },
        {
         "Code": 574,
         "End Date": "2016-03-01T00:00:00.000000",
         "ID": 92535,
         "Name": "GREENHUNTER RESOURCES INC",
         "Start Date": "2008-01-02T00:00:00.000000",
         "Ticker": "nan",
         "_deepnote_index_column": 33541
        },
        {
         "Code": 574,
         "End Date": "2015-06-19T00:00:00.000000",
         "ID": 92540,
         "Name": "MIDWAY GOLD CORP",
         "Start Date": "2008-01-03T00:00:00.000000",
         "Ticker": "nan",
         "_deepnote_index_column": 33546
        },
        {
         "Code": 574,
         "End Date": "2014-10-15T00:00:00.000000",
         "ID": 92758,
         "Name": "G T ADVANCED TECHNOLOGIES INC",
         "Start Date": "2008-07-24T00:00:00.000000",
         "Ticker": "nan",
         "_deepnote_index_column": 33758
        },
        {
         "Code": 574,
         "End Date": "1989-09-27T00:00:00.000000",
         "ID": 92946,
         "Name": "VYQUEST INC",
         "Start Date": "1972-05-04T00:00:00.000000",
         "Ticker": "nan",
         "_deepnote_index_column": 33943
        },
        {
         "Code": 574,
         "End Date": "2011-02-23T00:00:00.000000",
         "ID": 93006,
         "Name": "SEAHAWK DRILLING INC",
         "Start Date": "2009-08-25T00:00:00.000000",
         "Ticker": "nan",
         "_deepnote_index_column": 34002
        },
        {
         "Code": 574,
         "End Date": "2012-11-06T00:00:00.000000",
         "ID": 93037,
         "Name": "A123 SYSTEMS INC",
         "Start Date": "2009-09-24T00:00:00.000000",
         "Ticker": "nan",
         "_deepnote_index_column": 34032
        },
        {
         "Code": 574,
         "End Date": "2017-08-01T00:00:00.000000",
         "ID": 93078,
         "Name": "DRAGONWAVE INC",
         "Start Date": "2009-10-15T00:00:00.000000",
         "Ticker": "nan",
         "_deepnote_index_column": 34072
        },
        {
         "Code": 574,
         "End Date": "2018-04-25T00:00:00.000000",
         "ID": 93106,
         "Name": "ERIN ENERGY CORP",
         "Start Date": "2009-11-05T00:00:00.000000",
         "Ticker": "nan",
         "_deepnote_index_column": 34100
        },
        {
         "Code": 574,
         "End Date": "1986-10-14T00:00:00.000000",
         "ID": 93172,
         "Name": "WINN ENTERPRISES",
         "Start Date": "1972-12-14T00:00:00.000000",
         "Ticker": "nan",
         "_deepnote_index_column": 34166
        },
        {
         "Code": 574,
         "End Date": "2014-03-25T00:00:00.000000",
         "ID": 93317,
         "Name": "GLOBAL GEOPHYSICAL SERVICES INC",
         "Start Date": "2010-04-22T00:00:00.000000",
         "Ticker": "nan",
         "_deepnote_index_column": 34311
        },
        {
         "Code": 574,
         "End Date": "2011-01-19T00:00:00.000000",
         "ID": 93348,
         "Name": "CONSTAR INTERNATIONAL INC NEW",
         "Start Date": "2010-04-09T00:00:00.000000",
         "Ticker": "nan",
         "_deepnote_index_column": 34342
        },
        {
         "Code": 574,
         "End Date": "2013-12-26T00:00:00.000000",
         "ID": 93355,
         "Name": "O C Z TECHNOLOGY GROUP INC",
         "Start Date": "2010-04-23T00:00:00.000000",
         "Ticker": "nan",
         "_deepnote_index_column": 34349
        },
        {
         "Code": 574,
         "End Date": "2013-09-26T00:00:00.000000",
         "ID": 93391,
         "Name": "ECOTALITY INC",
         "Start Date": "2010-05-20T00:00:00.000000",
         "Ticker": "nan",
         "_deepnote_index_column": 34385
        },
        {
         "Code": 574,
         "End Date": "2020-10-09T00:00:00.000000",
         "ID": 93420,
         "Name": "OASIS PETROLEUM INC",
         "Start Date": "2010-06-17T00:00:00.000000",
         "Ticker": "nan",
         "_deepnote_index_column": 34412
        },
        {
         "Code": 574,
         "End Date": "2012-03-02T00:00:00.000000",
         "ID": 93430,
         "Name": "CYBERDEFENDER CORP",
         "Start Date": "2010-06-09T00:00:00.000000",
         "Ticker": "nan",
         "_deepnote_index_column": 34422
        }
       ],
       "rows_top": [
        {
         "Code": 574,
         "End Date": "1991-08-30T00:00:00.000000",
         "ID": 10125,
         "Name": "LEOS INDUSTRIES INC",
         "Start Date": "1986-03-20T00:00:00.000000",
         "Ticker": "nan",
         "_deepnote_index_column": 125
        },
        {
         "Code": 574,
         "End Date": "1993-02-26T00:00:00.000000",
         "ID": 10174,
         "Name": "JEFFERSON NATIONAL BANK NY",
         "Start Date": "1986-04-17T00:00:00.000000",
         "Ticker": "nan",
         "_deepnote_index_column": 174
        },
        {
         "Code": 574,
         "End Date": "1997-07-11T00:00:00.000000",
         "ID": 10175,
         "Name": "BARRYS JEWELERS INC",
         "Start Date": "1986-04-17T00:00:00.000000",
         "Ticker": "nan",
         "_deepnote_index_column": 175
        },
        {
         "Code": 574,
         "End Date": "2020-05-29T00:00:00.000000",
         "ID": 10180,
         "Name": "AKORN INC",
         "Start Date": "1988-04-08T00:00:00.000000",
         "Ticker": "nan",
         "_deepnote_index_column": 180
        },
        {
         "Code": 574,
         "End Date": "1992-01-17T00:00:00.000000",
         "ID": 10285,
         "Name": "A I M TELEPHONES INC",
         "Start Date": "1981-10-29T00:00:00.000000",
         "Ticker": "nan",
         "_deepnote_index_column": 285
        },
        {
         "Code": 574,
         "End Date": "2010-04-23T00:00:00.000000",
         "ID": 10304,
         "Name": "AMCORE FINANCIAL INC",
         "Start Date": "1986-05-29T00:00:00.000000",
         "Ticker": "nan",
         "_deepnote_index_column": 304
        },
        {
         "Code": 574,
         "End Date": "1988-05-16T00:00:00.000000",
         "ID": 10403,
         "Name": "WORLDS OF WONDER INC",
         "Start Date": "1986-06-20T00:00:00.000000",
         "Ticker": "nan",
         "_deepnote_index_column": 403
        },
        {
         "Code": 574,
         "End Date": "1930-02-05T00:00:00.000000",
         "ID": 10508,
         "Name": "ANN ARBOR RR CO",
         "Start Date": "1925-12-31T00:00:00.000000",
         "Ticker": "nan",
         "_deepnote_index_column": 508
        },
        {
         "Code": 574,
         "End Date": "2010-01-11T00:00:00.000000",
         "ID": 10563,
         "Name": "HORIZON FINANCIAL CORP WASH",
         "Start Date": "1986-08-12T00:00:00.000000",
         "Ticker": "nan",
         "_deepnote_index_column": 563
        },
        {
         "Code": 574,
         "End Date": "1988-05-24T00:00:00.000000",
         "ID": 10577,
         "Name": "MEDI RX AMERICA INC",
         "Start Date": "1986-08-14T00:00:00.000000",
         "Ticker": "nan",
         "_deepnote_index_column": 577
        },
        {
         "Code": 574,
         "End Date": "1988-03-09T00:00:00.000000",
         "ID": 10601,
         "Name": "CISTRON BIOTECHNOLOGY INC",
         "Start Date": "1986-08-21T00:00:00.000000",
         "Ticker": "nan",
         "_deepnote_index_column": 601
        },
        {
         "Code": 574,
         "End Date": "1998-09-28T00:00:00.000000",
         "ID": 10611,
         "Name": "ACME METALS INC",
         "Start Date": "1986-08-26T00:00:00.000000",
         "Ticker": "nan",
         "_deepnote_index_column": 611
        },
        {
         "Code": 574,
         "End Date": "1991-02-15T00:00:00.000000",
         "ID": 10653,
         "Name": "UNIVERSITY BANK NATL ASSN NWT MA",
         "Start Date": "1986-09-11T00:00:00.000000",
         "Ticker": "nan",
         "_deepnote_index_column": 653
        },
        {
         "Code": 574,
         "End Date": "2019-04-02T00:00:00.000000",
         "ID": 10656,
         "Name": "ACETO CORP",
         "Start Date": "1972-12-14T00:00:00.000000",
         "Ticker": "nan",
         "_deepnote_index_column": 656
        },
        {
         "Code": 574,
         "End Date": "1932-08-10T00:00:00.000000",
         "ID": 10663,
         "Name": "AUTOSALES CORP",
         "Start Date": "1925-12-31T00:00:00.000000",
         "Ticker": "nan",
         "_deepnote_index_column": 663
        },
        {
         "Code": 574,
         "End Date": "2001-05-30T00:00:00.000000",
         "ID": 10745,
         "Name": "BALDWIN PIANO & ORGAN CO",
         "Start Date": "1986-10-08T00:00:00.000000",
         "Ticker": "nan",
         "_deepnote_index_column": 745
        },
        {
         "Code": 574,
         "End Date": "1932-11-09T00:00:00.000000",
         "ID": 10794,
         "Name": "BOOTH FISHERIES CO",
         "Start Date": "1925-12-31T00:00:00.000000",
         "Ticker": "nan",
         "_deepnote_index_column": 794
        },
        {
         "Code": 574,
         "End Date": "1933-09-05T00:00:00.000000",
         "ID": 10882,
         "Name": "BRUNSWICK TERM & RY SEC CO",
         "Start Date": "1925-12-31T00:00:00.000000",
         "Ticker": "nan",
         "_deepnote_index_column": 882
        },
        {
         "Code": 574,
         "End Date": "1987-07-30T00:00:00.000000",
         "ID": 10919,
         "Name": "Z Z Z Z BEST CO INC",
         "Start Date": "1986-12-09T00:00:00.000000",
         "Ticker": "nan",
         "_deepnote_index_column": 919
        },
        {
         "Code": 574,
         "End Date": "1981-04-14T00:00:00.000000",
         "ID": 10971,
         "Name": "ADVENT CORP",
         "Start Date": "1972-12-14T00:00:00.000000",
         "Ticker": "nan",
         "_deepnote_index_column": 971
        },
        {
         "Code": 574,
         "End Date": "2002-07-29T00:00:00.000000",
         "ID": 11042,
         "Name": "WORLDCOM INC GA NEW",
         "Start Date": "1980-11-24T00:00:00.000000",
         "Ticker": "nan",
         "_deepnote_index_column": 1042
        },
        {
         "Code": 574,
         "End Date": "2003-08-13T00:00:00.000000",
         "ID": 11159,
         "Name": "D V I INC",
         "Start Date": "1987-03-10T00:00:00.000000",
         "Ticker": "nan",
         "_deepnote_index_column": 1159
        },
        {
         "Code": 574,
         "End Date": "2010-01-13T00:00:00.000000",
         "ID": 11162,
         "Name": "MESA AIR GROUP INC NEV",
         "Start Date": "1987-03-11T00:00:00.000000",
         "Ticker": "nan",
         "_deepnote_index_column": 1162
        },
        {
         "Code": 574,
         "End Date": "2008-02-28T00:00:00.000000",
         "ID": 11278,
         "Name": "SHARPER IMAGE CORP",
         "Start Date": "1987-04-28T00:00:00.000000",
         "Ticker": "nan",
         "_deepnote_index_column": 1278
        },
        {
         "Code": 574,
         "End Date": "1984-08-16T00:00:00.000000",
         "ID": 11317,
         "Name": "AIR FLORIDA SYSTEMS INC",
         "Start Date": "1972-12-14T00:00:00.000000",
         "Ticker": "nan",
         "_deepnote_index_column": 1317
        },
        {
         "Code": 574,
         "End Date": "1993-12-17T00:00:00.000000",
         "ID": 11453,
         "Name": "VALUE MERCHANTS INC",
         "Start Date": "1987-06-25T00:00:00.000000",
         "Ticker": "nan",
         "_deepnote_index_column": 1453
        },
        {
         "Code": 574,
         "End Date": "2000-04-13T00:00:00.000000",
         "ID": 11484,
         "Name": "MICROAGE INC",
         "Start Date": "1987-07-01T00:00:00.000000",
         "Ticker": "nan",
         "_deepnote_index_column": 1484
        },
        {
         "Code": 574,
         "End Date": "1992-06-04T00:00:00.000000",
         "ID": 11523,
         "Name": "HEALTH CONCEPTS IV INC",
         "Start Date": "1987-07-15T00:00:00.000000",
         "Ticker": "nan",
         "_deepnote_index_column": 1523
        },
        {
         "Code": 574,
         "End Date": "1993-01-11T00:00:00.000000",
         "ID": 11549,
         "Name": "EVEREX SYSTEMS INC",
         "Start Date": "1987-07-24T00:00:00.000000",
         "Ticker": "nan",
         "_deepnote_index_column": 1549
        },
        {
         "Code": 574,
         "End Date": "2004-01-21T00:00:00.000000",
         "ID": 11665,
         "Name": "FACTORY 2 U INC",
         "Start Date": "1987-09-03T00:00:00.000000",
         "Ticker": "nan",
         "_deepnote_index_column": 1665
        },
        {
         "Code": 574,
         "End Date": "1993-05-28T00:00:00.000000",
         "ID": 11792,
         "Name": "WESTERN ACCEPTANCE CORP",
         "Start Date": "1987-10-29T00:00:00.000000",
         "Ticker": "nan",
         "_deepnote_index_column": 1792
        },
        {
         "Code": 574,
         "End Date": "2000-12-13T00:00:00.000000",
         "ID": 11874,
         "Name": "IMPERIAL SUGAR CO NEW",
         "Start Date": "1988-04-27T00:00:00.000000",
         "Ticker": "nan",
         "_deepnote_index_column": 1874
        },
        {
         "Code": 574,
         "End Date": "2009-03-03T00:00:00.000000",
         "ID": 11881,
         "Name": "I L X RESORTS INC",
         "Start Date": "1988-02-16T00:00:00.000000",
         "Ticker": "nan",
         "_deepnote_index_column": 1881
        },
        {
         "Code": 574,
         "End Date": "2002-10-21T00:00:00.000000",
         "ID": 11895,
         "Name": "ADVANCED TISSUE SCIENCES INC",
         "Start Date": "1988-06-09T00:00:00.000000",
         "Ticker": "nan",
         "_deepnote_index_column": 1895
        },
        {
         "Code": 574,
         "End Date": "2009-02-06T00:00:00.000000",
         "ID": 11998,
         "Name": "CONCORD CAMERA CORP",
         "Start Date": "1988-07-12T00:00:00.000000",
         "Ticker": "nan",
         "_deepnote_index_column": 1998
        },
        {
         "Code": 574,
         "End Date": "2015-06-24T00:00:00.000000",
         "ID": 11999,
         "Name": "MOLYCORP INC DE",
         "Start Date": "2010-07-29T00:00:00.000000",
         "Ticker": "nan",
         "_deepnote_index_column": 1999
        },
        {
         "Code": 574,
         "End Date": "2018-10-08T00:00:00.000000",
         "ID": 12007,
         "Name": "WESTMORELAND RESOURCE PTNRS LP",
         "Start Date": "2010-07-14T00:00:00.000000",
         "Ticker": "nan",
         "_deepnote_index_column": 2007
        },
        {
         "Code": 574,
         "End Date": "2009-06-01T00:00:00.000000",
         "ID": 12079,
         "Name": "GENERAL MOTORS CORP",
         "Start Date": "1925-12-31T00:00:00.000000",
         "Ticker": "nan",
         "_deepnote_index_column": 2079
        },
        {
         "Code": 574,
         "End Date": "2017-03-21T00:00:00.000000",
         "ID": 12080,
         "Name": "GORDMANS STORES INC",
         "Start Date": "2010-08-05T00:00:00.000000",
         "Ticker": "nan",
         "_deepnote_index_column": 2080
        },
        {
         "Code": 574,
         "End Date": "1990-07-24T00:00:00.000000",
         "ID": 12091,
         "Name": "STOTLER GROUP INC",
         "Start Date": "1988-08-12T00:00:00.000000",
         "Ticker": "nan",
         "_deepnote_index_column": 2091
        },
        {
         "Code": 574,
         "End Date": "2011-05-16T00:00:00.000000",
         "ID": 12188,
         "Name": "HEARUSA INC",
         "Start Date": "1988-08-08T00:00:00.000000",
         "Ticker": "nan",
         "_deepnote_index_column": 2188
        },
        {
         "Code": 574,
         "End Date": "1984-02-17T00:00:00.000000",
         "ID": 12240,
         "Name": "AMAREX INC",
         "Start Date": "1972-12-14T00:00:00.000000",
         "Ticker": "nan",
         "_deepnote_index_column": 2240
        },
        {
         "Code": 574,
         "End Date": "2017-03-24T00:00:00.000000",
         "ID": 12389,
         "Name": "TRIANGLE PETROLEUM CORP",
         "Start Date": "2010-11-05T00:00:00.000000",
         "Ticker": "nan",
         "_deepnote_index_column": 2388
        },
        {
         "Code": 574,
         "End Date": "2015-06-03T00:00:00.000000",
         "ID": 12399,
         "Name": "IMRIS INC",
         "Start Date": "2010-11-19T00:00:00.000000",
         "Ticker": "nan",
         "_deepnote_index_column": 2397
        },
        {
         "Code": 574,
         "End Date": "2015-06-22T00:00:00.000000",
         "ID": 12440,
         "Name": "CTPARTNERS EXECUTIVE SEARCH INC",
         "Start Date": "2010-12-08T00:00:00.000000",
         "Ticker": "nan",
         "_deepnote_index_column": 2420
        },
        {
         "Code": 574,
         "End Date": "2017-09-11T00:00:00.000000",
         "ID": 12496,
         "Name": "UNI PIXEL INC",
         "Start Date": "2010-12-10T00:00:00.000000",
         "Ticker": "nan",
         "_deepnote_index_column": 2476
        },
        {
         "Code": 574,
         "End Date": "2016-03-22T00:00:00.000000",
         "ID": 12637,
         "Name": "EMERALD OIL INC",
         "Start Date": "2011-03-01T00:00:00.000000",
         "Ticker": "nan",
         "_deepnote_index_column": 2617
        },
        {
         "Code": 574,
         "End Date": "2020-06-29T00:00:00.000000",
         "ID": 12660,
         "Name": "G N C HOLDINGS INC",
         "Start Date": "2011-04-01T00:00:00.000000",
         "Ticker": "nan",
         "_deepnote_index_column": 2640
        },
        {
         "Code": 574,
         "End Date": "2002-12-18T00:00:00.000000",
         "ID": 12749,
         "Name": "K MART CORP",
         "Start Date": "1925-12-31T00:00:00.000000",
         "Ticker": "nan",
         "_deepnote_index_column": 2715
        },
        {
         "Code": 574,
         "End Date": "2020-08-03T00:00:00.000000",
         "ID": 12792,
         "Name": "GLOBAL EAGLE ENTERTAINMENT INC",
         "Start Date": "2011-05-27T00:00:00.000000",
         "Ticker": "nan",
         "_deepnote_index_column": 2757
        },
        {
         "Code": 574,
         "End Date": "2017-08-10T00:00:00.000000",
         "ID": 12797,
         "Name": "TERRAVIA HOLDINGS INC",
         "Start Date": "2011-05-27T00:00:00.000000",
         "Ticker": "nan",
         "_deepnote_index_column": 2762
        },
        {
         "Code": 574,
         "End Date": "1985-08-27T00:00:00.000000",
         "ID": 12889,
         "Name": "AMERICAN GENETICS INTL INC",
         "Start Date": "1983-08-29T00:00:00.000000",
         "Ticker": "nan",
         "_deepnote_index_column": 2832
        },
        {
         "Code": 574,
         "End Date": "2016-07-20T00:00:00.000000",
         "ID": 12894,
         "Name": "C & J ENERGY SERVICES LTD",
         "Start Date": "2011-07-29T00:00:00.000000",
         "Ticker": "nan",
         "_deepnote_index_column": 2837
        },
        {
         "Code": 574,
         "End Date": "2015-06-18T00:00:00.000000",
         "ID": 12903,
         "Name": "SARATOGA RESOURCES INC",
         "Start Date": "2011-07-20T00:00:00.000000",
         "Ticker": "nan",
         "_deepnote_index_column": 2846
        },
        {
         "Code": 574,
         "End Date": "2020-12-14T00:00:00.000000",
         "ID": 12915,
         "Name": "FRANCESCAS HOLDINGS CORP",
         "Start Date": "2011-07-22T00:00:00.000000",
         "Ticker": "nan",
         "_deepnote_index_column": 2858
        },
        {
         "Code": 574,
         "End Date": "1993-02-22T00:00:00.000000",
         "ID": 12933,
         "Name": "M E I DIVERSIFIED INC",
         "Start Date": "1925-12-31T00:00:00.000000",
         "Ticker": "nan",
         "_deepnote_index_column": 2872
        },
        {
         "Code": 574,
         "End Date": "1935-07-15T00:00:00.000000",
         "ID": 12992,
         "Name": "MALLINSON & CO INC",
         "Start Date": "1925-12-31T00:00:00.000000",
         "Ticker": "nan",
         "_deepnote_index_column": 2921
        },
        {
         "Code": 574,
         "End Date": "2017-09-12T00:00:00.000000",
         "ID": 13104,
         "Name": "PACIFIC DRILLING S A",
         "Start Date": "2011-11-11T00:00:00.000000",
         "Ticker": "nan",
         "_deepnote_index_column": 3013
        },
        {
         "Code": 574,
         "End Date": "2020-06-26T00:00:00.000000",
         "ID": 13113,
         "Name": "LILIS ENERGY INC",
         "Start Date": "2011-11-02T00:00:00.000000",
         "Ticker": "nan",
         "_deepnote_index_column": 3022
        },
        {
         "Code": 574,
         "End Date": "2013-06-25T00:00:00.000000",
         "ID": 13115,
         "Name": "ORCHARD SUPPLY HRDWRE STORES CP",
         "Start Date": "2012-01-03T00:00:00.000000",
         "Ticker": "nan",
         "_deepnote_index_column": 3024
        },
        {
         "Code": 574,
         "End Date": "2019-03-07T00:00:00.000000",
         "ID": 13167,
         "Name": "SYNERGY PHARMACEUTICALS INC",
         "Start Date": "2011-12-01T00:00:00.000000",
         "Ticker": "nan",
         "_deepnote_index_column": 3064
        },
        {
         "Code": 574,
         "End Date": "2020-01-10T00:00:00.000000",
         "ID": 13263,
         "Name": "MELINTA THERAPEUTICS INC",
         "Start Date": "2012-02-03T00:00:00.000000",
         "Ticker": "nan",
         "_deepnote_index_column": 3159
        },
        {
         "Code": 574,
         "End Date": "2016-11-18T00:00:00.000000",
         "ID": 13373,
         "Name": "ERICKSON INC",
         "Start Date": "2012-04-11T00:00:00.000000",
         "Ticker": "nan",
         "_deepnote_index_column": 3267
        },
        {
         "Code": 574,
         "End Date": "2015-04-16T00:00:00.000000",
         "ID": 13378,
         "Name": "EVERYWARE GLOBAL INC",
         "Start Date": "2012-04-20T00:00:00.000000",
         "Ticker": "nan",
         "_deepnote_index_column": 3272
        },
        {
         "Code": 574,
         "End Date": "2020-07-13T00:00:00.000000",
         "ID": 13544,
         "Name": "HI CRUSH INC",
         "Start Date": "2012-08-16T00:00:00.000000",
         "Ticker": "nan",
         "_deepnote_index_column": 3393
        },
        {
         "Code": 574,
         "End Date": "2016-05-23T00:00:00.000000",
         "ID": 13647,
         "Name": "LINNCO L L C",
         "Start Date": "2012-10-12T00:00:00.000000",
         "Ticker": "nan",
         "_deepnote_index_column": 3488
        },
        {
         "Code": 574,
         "End Date": "2020-05-18T00:00:00.000000",
         "ID": 13866,
         "Name": "INTELSAT S A",
         "Start Date": "2013-04-18T00:00:00.000000",
         "Ticker": "nan",
         "_deepnote_index_column": 3689
        },
        {
         "Code": 574,
         "End Date": "2016-05-13T00:00:00.000000",
         "ID": 13874,
         "Name": "FAIRWAY GROUP HOLDINGS CORP",
         "Start Date": "2013-04-17T00:00:00.000000",
         "Ticker": "nan",
         "_deepnote_index_column": 3697
        },
        {
         "Code": 574,
         "End Date": "2016-01-04T00:00:00.000000",
         "ID": 14004,
         "Name": "R C S CAPITAL CORP",
         "Start Date": "2013-06-05T00:00:00.000000",
         "Ticker": "nan",
         "_deepnote_index_column": 3826
        },
        {
         "Code": 574,
         "End Date": "2020-10-09T00:00:00.000000",
         "ID": 14011,
         "Name": "MALLINCKRODT PLC",
         "Start Date": "2013-07-01T00:00:00.000000",
         "Ticker": "nan",
         "_deepnote_index_column": 3833
        },
        {
         "Code": 574,
         "End Date": "1934-05-07T00:00:00.000000",
         "ID": 14031,
         "Name": "PRODUCERS & REFINERS CORP",
         "Start Date": "1925-12-31T00:00:00.000000",
         "Ticker": "nan",
         "_deepnote_index_column": 3853
        },
        {
         "Code": 574,
         "End Date": "2015-03-03T00:00:00.000000",
         "ID": 14152,
         "Name": "CORPORATE RESOURCE SERVICES INC",
         "Start Date": "2013-09-06T00:00:00.000000",
         "Ticker": "nan",
         "_deepnote_index_column": 3957
        },
        {
         "Code": 574,
         "End Date": "2019-06-12T00:00:00.000000",
         "ID": 14247,
         "Name": "F T D COMPANIES INC",
         "Start Date": "2013-11-01T00:00:00.000000",
         "Ticker": "nan",
         "_deepnote_index_column": 4052
        },
        {
         "Code": 574,
         "End Date": "2016-02-09T00:00:00.000000",
         "ID": 14261,
         "Name": "S F X ENTERTAINMENT INC",
         "Start Date": "2013-10-09T00:00:00.000000",
         "Ticker": "nan",
         "_deepnote_index_column": 4065
        },
        {
         "Code": 574,
         "End Date": "2015-05-11T00:00:00.000000",
         "ID": 14266,
         "Name": "AMERICAN EAGLE ENERGY CORP",
         "Start Date": "2013-11-20T00:00:00.000000",
         "Ticker": "nan",
         "_deepnote_index_column": 4070
        },
        {
         "Code": 574,
         "End Date": "2017-09-12T00:00:00.000000",
         "ID": 14417,
         "Name": "NORTH ATLANTIC DRILLING LTD",
         "Start Date": "2014-01-29T00:00:00.000000",
         "Ticker": "nan",
         "_deepnote_index_column": 4208
        },
        {
         "Code": 574,
         "End Date": "2016-05-10T00:00:00.000000",
         "ID": 14465,
         "Name": "NEPHROGENEX INC",
         "Start Date": "2014-02-11T00:00:00.000000",
         "Ticker": "nan",
         "_deepnote_index_column": 4256
        },
        {
         "Code": 574,
         "End Date": "2019-04-25T00:00:00.000000",
         "ID": 14530,
         "Name": "ACHAOGEN INC",
         "Start Date": "2014-03-12T00:00:00.000000",
         "Ticker": "nan",
         "_deepnote_index_column": 4321
        },
        {
         "Code": 574,
         "End Date": "2017-04-19T00:00:00.000000",
         "ID": 14713,
         "Name": "ADEPTUS HEALTH INC",
         "Start Date": "2014-06-25T00:00:00.000000",
         "Ticker": "nan",
         "_deepnote_index_column": 4503
        },
        {
         "Code": 574,
         "End Date": "2016-10-31T00:00:00.000000",
         "ID": 14735,
         "Name": "PERFORMANCE SPORTS GROUP LTD",
         "Start Date": "2014-06-20T00:00:00.000000",
         "Ticker": "nan",
         "_deepnote_index_column": 4525
        },
        {
         "Code": 574,
         "End Date": "2020-09-23T00:00:00.000000",
         "ID": 14756,
         "Name": "HERMITAGE OFFSHORE SERVICES LTD",
         "Start Date": "2014-06-12T00:00:00.000000",
         "Ticker": "nan",
         "_deepnote_index_column": 4546
        },
        {
         "Code": 574,
         "End Date": "1955-08-05T00:00:00.000000",
         "ID": 14787,
         "Name": "THIRD AVE TRAN CORP",
         "Start Date": "1925-12-31T00:00:00.000000",
         "Ticker": "nan",
         "_deepnote_index_column": 4572
        },
        {
         "Code": 574,
         "End Date": "2020-07-15T00:00:00.000000",
         "ID": 15029,
         "Name": "CALIFORNIA RESOURCES CORP",
         "Start Date": "2014-12-01T00:00:00.000000",
         "Ticker": "nan",
         "_deepnote_index_column": 4807
        }
       ]
      },
      "text/html": [
       "<div>\n",
       "<style scoped>\n",
       "    .dataframe tbody tr th:only-of-type {\n",
       "        vertical-align: middle;\n",
       "    }\n",
       "\n",
       "    .dataframe tbody tr th {\n",
       "        vertical-align: top;\n",
       "    }\n",
       "\n",
       "    .dataframe thead th {\n",
       "        text-align: right;\n",
       "    }\n",
       "</style>\n",
       "<table border=\"1\" class=\"dataframe\">\n",
       "  <thead>\n",
       "    <tr style=\"text-align: right;\">\n",
       "      <th></th>\n",
       "      <th>ID</th>\n",
       "      <th>Ticker</th>\n",
       "      <th>Start Date</th>\n",
       "      <th>End Date</th>\n",
       "      <th>Code</th>\n",
       "      <th>Name</th>\n",
       "    </tr>\n",
       "  </thead>\n",
       "  <tbody>\n",
       "    <tr>\n",
       "      <th>125</th>\n",
       "      <td>10125</td>\n",
       "      <td>NaN</td>\n",
       "      <td>1986-03-20</td>\n",
       "      <td>1991-08-30</td>\n",
       "      <td>574</td>\n",
       "      <td>LEOS INDUSTRIES INC</td>\n",
       "    </tr>\n",
       "    <tr>\n",
       "      <th>174</th>\n",
       "      <td>10174</td>\n",
       "      <td>NaN</td>\n",
       "      <td>1986-04-17</td>\n",
       "      <td>1993-02-26</td>\n",
       "      <td>574</td>\n",
       "      <td>JEFFERSON NATIONAL BANK NY</td>\n",
       "    </tr>\n",
       "    <tr>\n",
       "      <th>175</th>\n",
       "      <td>10175</td>\n",
       "      <td>NaN</td>\n",
       "      <td>1986-04-17</td>\n",
       "      <td>1997-07-11</td>\n",
       "      <td>574</td>\n",
       "      <td>BARRYS JEWELERS INC</td>\n",
       "    </tr>\n",
       "    <tr>\n",
       "      <th>180</th>\n",
       "      <td>10180</td>\n",
       "      <td>NaN</td>\n",
       "      <td>1988-04-08</td>\n",
       "      <td>2020-05-29</td>\n",
       "      <td>574</td>\n",
       "      <td>AKORN INC</td>\n",
       "    </tr>\n",
       "    <tr>\n",
       "      <th>285</th>\n",
       "      <td>10285</td>\n",
       "      <td>NaN</td>\n",
       "      <td>1981-10-29</td>\n",
       "      <td>1992-01-17</td>\n",
       "      <td>574</td>\n",
       "      <td>A I M TELEPHONES INC</td>\n",
       "    </tr>\n",
       "    <tr>\n",
       "      <th>...</th>\n",
       "      <td>...</td>\n",
       "      <td>...</td>\n",
       "      <td>...</td>\n",
       "      <td>...</td>\n",
       "      <td>...</td>\n",
       "      <td>...</td>\n",
       "    </tr>\n",
       "    <tr>\n",
       "      <th>34342</th>\n",
       "      <td>93348</td>\n",
       "      <td>NaN</td>\n",
       "      <td>2010-04-09</td>\n",
       "      <td>2011-01-19</td>\n",
       "      <td>574</td>\n",
       "      <td>CONSTAR INTERNATIONAL INC NEW</td>\n",
       "    </tr>\n",
       "    <tr>\n",
       "      <th>34349</th>\n",
       "      <td>93355</td>\n",
       "      <td>NaN</td>\n",
       "      <td>2010-04-23</td>\n",
       "      <td>2013-12-26</td>\n",
       "      <td>574</td>\n",
       "      <td>O C Z TECHNOLOGY GROUP INC</td>\n",
       "    </tr>\n",
       "    <tr>\n",
       "      <th>34385</th>\n",
       "      <td>93391</td>\n",
       "      <td>NaN</td>\n",
       "      <td>2010-05-20</td>\n",
       "      <td>2013-09-26</td>\n",
       "      <td>574</td>\n",
       "      <td>ECOTALITY INC</td>\n",
       "    </tr>\n",
       "    <tr>\n",
       "      <th>34412</th>\n",
       "      <td>93420</td>\n",
       "      <td>NaN</td>\n",
       "      <td>2010-06-17</td>\n",
       "      <td>2020-10-09</td>\n",
       "      <td>574</td>\n",
       "      <td>OASIS PETROLEUM INC</td>\n",
       "    </tr>\n",
       "    <tr>\n",
       "      <th>34422</th>\n",
       "      <td>93430</td>\n",
       "      <td>NaN</td>\n",
       "      <td>2010-06-09</td>\n",
       "      <td>2012-03-02</td>\n",
       "      <td>574</td>\n",
       "      <td>CYBERDEFENDER CORP</td>\n",
       "    </tr>\n",
       "  </tbody>\n",
       "</table>\n",
       "<p>912 rows × 6 columns</p>\n",
       "</div>"
      ],
      "text/plain": [
       "          ID Ticker Start Date   End Date  Code                           Name\n",
       "125    10125    NaN 1986-03-20 1991-08-30   574            LEOS INDUSTRIES INC\n",
       "174    10174    NaN 1986-04-17 1993-02-26   574     JEFFERSON NATIONAL BANK NY\n",
       "175    10175    NaN 1986-04-17 1997-07-11   574            BARRYS JEWELERS INC\n",
       "180    10180    NaN 1988-04-08 2020-05-29   574                      AKORN INC\n",
       "285    10285    NaN 1981-10-29 1992-01-17   574           A I M TELEPHONES INC\n",
       "...      ...    ...        ...        ...   ...                            ...\n",
       "34342  93348    NaN 2010-04-09 2011-01-19   574  CONSTAR INTERNATIONAL INC NEW\n",
       "34349  93355    NaN 2010-04-23 2013-12-26   574     O C Z TECHNOLOGY GROUP INC\n",
       "34385  93391    NaN 2010-05-20 2013-09-26   574                  ECOTALITY INC\n",
       "34412  93420    NaN 2010-06-17 2020-10-09   574            OASIS PETROLEUM INC\n",
       "34422  93430    NaN 2010-06-09 2012-03-02   574             CYBERDEFENDER CORP\n",
       "\n",
       "[912 rows x 6 columns]"
      ]
     },
     "execution_count": 6,
     "metadata": {},
     "output_type": "execute_result"
    }
   ],
   "source": [
    "bankrupt"
   ]
  },
  {
   "cell_type": "code",
   "execution_count": null,
   "metadata": {
    "cell_id": "00005-4dc2387a-8141-428b-88a6-f57188e61cf2",
    "deepnote_cell_type": "code",
    "deepnote_to_be_reexecuted": false,
    "execution_millis": 154,
    "execution_start": 1634320872150,
    "source_hash": "b976fd2b",
    "tags": []
   },
   "outputs": [
    {
     "data": {
      "application/vnd.deepnote.dataframe.v2+json": {
       "column_count": 6,
       "columns": [
        {
         "dtype": "int64",
         "name": "ID",
         "stats": {
          "histogram": [
           {
            "bin_end": 18445.3,
            "bin_start": 10113,
            "count": 4640
           },
           {
            "bin_end": 26777.6,
            "bin_start": 18445.3,
            "count": 1316
           },
           {
            "bin_end": 35109.899999999994,
            "bin_start": 26777.6,
            "count": 0
           },
           {
            "bin_end": 43442.2,
            "bin_start": 35109.899999999994,
            "count": 0
           },
           {
            "bin_end": 51774.5,
            "bin_start": 43442.2,
            "count": 0
           },
           {
            "bin_end": 60106.799999999996,
            "bin_start": 51774.5,
            "count": 0
           },
           {
            "bin_end": 68439.09999999999,
            "bin_start": 60106.799999999996,
            "count": 0
           },
           {
            "bin_end": 76771.4,
            "bin_start": 68439.09999999999,
            "count": 0
           },
           {
            "bin_end": 85103.7,
            "bin_start": 76771.4,
            "count": 4
           },
           {
            "bin_end": 93436,
            "bin_start": 85103.7,
            "count": 4721
           }
          ],
          "max": "93436",
          "min": "10113",
          "nan_count": 0,
          "unique_count": 10681
         }
        },
        {
         "dtype": "object",
         "name": "Ticker",
         "stats": {
          "categories": [
           {
            "count": 1,
            "name": "AADR"
           },
           {
            "count": 5953,
            "name": "5953 others"
           },
           {
            "count": 4727,
            "name": "Missing"
           }
          ],
          "nan_count": 4727,
          "unique_count": 5954
         }
        },
        {
         "dtype": "datetime64[ns]",
         "name": "Start Date",
         "stats": {
          "histogram": [
           {
            "bin_end": 1013109120000000000,
            "bin_start": 946857600000000000,
            "count": 1112
           },
           {
            "bin_end": 1079360640000000000,
            "bin_start": 1013109120000000000,
            "count": 639
           },
           {
            "bin_end": 1145612160000000000,
            "bin_start": 1079360640000000000,
            "count": 979
           },
           {
            "bin_end": 1211863680000000000,
            "bin_start": 1145612160000000000,
            "count": 1307
           },
           {
            "bin_end": 1278115200000000000,
            "bin_start": 1211863680000000000,
            "count": 712
           },
           {
            "bin_end": 1344366720000000000,
            "bin_start": 1278115200000000000,
            "count": 982
           },
           {
            "bin_end": 1410618240000000000,
            "bin_start": 1344366720000000000,
            "count": 1069
           },
           {
            "bin_end": 1476869760000000000,
            "bin_start": 1410618240000000000,
            "count": 1139
           },
           {
            "bin_end": 1543121280000000000,
            "bin_start": 1476869760000000000,
            "count": 1282
           },
           {
            "bin_end": 1609372800000000000,
            "bin_start": 1543121280000000000,
            "count": 1460
           }
          ],
          "max": "2020-12-31 00:00:00",
          "min": "2000-01-03 00:00:00",
          "nan_count": 0,
          "unique_count": 3715
         }
        },
        {
         "dtype": "datetime64[ns]",
         "name": "End Date",
         "stats": {
          "histogram": [
           {
            "bin_end": 1026483840000000000,
            "bin_start": 961718400000000000,
            "count": 161
           },
           {
            "bin_end": 1091249280000000000,
            "bin_start": 1026483840000000000,
            "count": 220
           },
           {
            "bin_end": 1156014720000000000,
            "bin_start": 1091249280000000000,
            "count": 214
           },
           {
            "bin_end": 1220780160000000000,
            "bin_start": 1156014720000000000,
            "count": 385
           },
           {
            "bin_end": 1285545600000000000,
            "bin_start": 1220780160000000000,
            "count": 542
           },
           {
            "bin_end": 1350311040000000000,
            "bin_start": 1285545600000000000,
            "count": 506
           },
           {
            "bin_end": 1415076480000000000,
            "bin_start": 1350311040000000000,
            "count": 479
           },
           {
            "bin_end": 1479841920000000000,
            "bin_start": 1415076480000000000,
            "count": 687
           },
           {
            "bin_end": 1544607360000000000,
            "bin_start": 1479841920000000000,
            "count": 726
           },
           {
            "bin_end": 1609372800000000000,
            "bin_start": 1544607360000000000,
            "count": 6761
           }
          ],
          "max": "2020-12-31 00:00:00",
          "min": "2000-06-23 00:00:00",
          "nan_count": 0,
          "unique_count": 2475
         }
        },
        {
         "dtype": "int64",
         "name": "Code",
         "stats": {
          "histogram": [
           {
            "bin_end": 149.1,
            "bin_start": 100,
            "count": 5954
           },
           {
            "bin_end": 198.2,
            "bin_start": 149.1,
            "count": 0
           },
           {
            "bin_end": 247.3,
            "bin_start": 198.2,
            "count": 2174
           },
           {
            "bin_end": 296.4,
            "bin_start": 247.3,
            "count": 36
           },
           {
            "bin_end": 345.5,
            "bin_start": 296.4,
            "count": 112
           },
           {
            "bin_end": 394.6,
            "bin_start": 345.5,
            "count": 0
           },
           {
            "bin_end": 443.7,
            "bin_start": 394.6,
            "count": 0
           },
           {
            "bin_end": 492.8,
            "bin_start": 443.7,
            "count": 1168
           },
           {
            "bin_end": 541.9000000000001,
            "bin_start": 492.8,
            "count": 89
           },
           {
            "bin_end": 591,
            "bin_start": 541.9000000000001,
            "count": 1148
           }
          ],
          "max": "591",
          "min": "100",
          "nan_count": 0,
          "unique_count": 37
         }
        },
        {
         "dtype": "object",
         "name": "Name",
         "stats": {
          "categories": [
           {
            "count": 404,
            "name": "ISHARES TRUST"
           },
           {
            "count": 163,
            "name": "PROSHARES TRUST"
           },
           {
            "count": 10114,
            "name": "7376 others"
           }
          ],
          "nan_count": 0,
          "unique_count": 7378
         }
        },
        {
         "dtype": "int64",
         "name": "_deepnote_index_column"
        }
       ],
       "row_count": 10681,
       "rows_bottom": [
        {
         "Code": 100,
         "End Date": "2020-12-31T00:00:00.000000",
         "ID": 93352,
         "Name": "GOLUB CAPITAL B D C INC",
         "Start Date": "2010-04-15T00:00:00.000000",
         "Ticker": "GBDC",
         "_deepnote_index_column": 34346
        },
        {
         "Code": 584,
         "End Date": "2014-10-07T00:00:00.000000",
         "ID": 93353,
         "Name": "GUANWEI RECYCLING CORP",
         "Start Date": "2010-04-15T00:00:00.000000",
         "Ticker": "nan",
         "_deepnote_index_column": 34347
        },
        {
         "Code": 233,
         "End Date": "2018-11-30T00:00:00.000000",
         "ID": 93354,
         "Name": "MITEL NETWORKS CORP",
         "Start Date": "2010-04-22T00:00:00.000000",
         "Ticker": "nan",
         "_deepnote_index_column": 34348
        },
        {
         "Code": 574,
         "End Date": "2013-12-26T00:00:00.000000",
         "ID": 93355,
         "Name": "O C Z TECHNOLOGY GROUP INC",
         "Start Date": "2010-04-23T00:00:00.000000",
         "Ticker": "nan",
         "_deepnote_index_column": 34349
        },
        {
         "Code": 100,
         "End Date": "2020-12-31T00:00:00.000000",
         "ID": 93356,
         "Name": "S P S COMMERCE INC",
         "Start Date": "2010-04-22T00:00:00.000000",
         "Ticker": "SPSC",
         "_deepnote_index_column": 34350
        },
        {
         "Code": 100,
         "End Date": "2020-12-31T00:00:00.000000",
         "ID": 93357,
         "Name": "FIRST EAGLE ALT CAPITAL B D C",
         "Start Date": "2010-04-22T00:00:00.000000",
         "Ticker": "FCRD",
         "_deepnote_index_column": 34351
        },
        {
         "Code": 560,
         "End Date": "2012-09-05T00:00:00.000000",
         "ID": 93358,
         "Name": "TENGION INC",
         "Start Date": "2010-04-09T00:00:00.000000",
         "Ticker": "nan",
         "_deepnote_index_column": 34352
        },
        {
         "Code": 100,
         "End Date": "2020-12-31T00:00:00.000000",
         "ID": 93359,
         "Name": "INVESCO E T F TRUST II",
         "Start Date": "2010-04-07T00:00:00.000000",
         "Ticker": "PSCM",
         "_deepnote_index_column": 34353
        },
        {
         "Code": 100,
         "End Date": "2020-12-31T00:00:00.000000",
         "ID": 93360,
         "Name": "INVESCO E T F TRUST II",
         "Start Date": "2010-04-07T00:00:00.000000",
         "Ticker": "PSCE",
         "_deepnote_index_column": 34354
        },
        {
         "Code": 100,
         "End Date": "2020-12-31T00:00:00.000000",
         "ID": 93361,
         "Name": "INVESCO E T F TRUST II",
         "Start Date": "2010-04-07T00:00:00.000000",
         "Ticker": "PSCF",
         "_deepnote_index_column": 34355
        },
        {
         "Code": 100,
         "End Date": "2020-12-31T00:00:00.000000",
         "ID": 93362,
         "Name": "INVESCO E T F TRUST II",
         "Start Date": "2010-04-07T00:00:00.000000",
         "Ticker": "PSCI",
         "_deepnote_index_column": 34356
        },
        {
         "Code": 100,
         "End Date": "2020-12-31T00:00:00.000000",
         "ID": 93363,
         "Name": "INVESCO E T F TRUST II",
         "Start Date": "2010-04-07T00:00:00.000000",
         "Ticker": "PSCT",
         "_deepnote_index_column": 34357
        },
        {
         "Code": 100,
         "End Date": "2020-12-31T00:00:00.000000",
         "ID": 93364,
         "Name": "INVESCO E T F TRUST II",
         "Start Date": "2010-04-07T00:00:00.000000",
         "Ticker": "PSCC",
         "_deepnote_index_column": 34358
        },
        {
         "Code": 100,
         "End Date": "2020-12-31T00:00:00.000000",
         "ID": 93365,
         "Name": "INVESCO E T F TRUST II",
         "Start Date": "2010-04-07T00:00:00.000000",
         "Ticker": "PSCU",
         "_deepnote_index_column": 34359
        },
        {
         "Code": 100,
         "End Date": "2020-12-31T00:00:00.000000",
         "ID": 93366,
         "Name": "INVESCO E T F TRUST II",
         "Start Date": "2010-04-07T00:00:00.000000",
         "Ticker": "PSCH",
         "_deepnote_index_column": 34360
        },
        {
         "Code": 100,
         "End Date": "2020-12-31T00:00:00.000000",
         "ID": 93367,
         "Name": "INVESCO E T F TRUST II",
         "Start Date": "2010-04-07T00:00:00.000000",
         "Ticker": "PSCD",
         "_deepnote_index_column": 34361
        },
        {
         "Code": 100,
         "End Date": "2020-12-31T00:00:00.000000",
         "ID": 93368,
         "Name": "EAGLE BANCORP MONTANA INC",
         "Start Date": "2010-04-05T00:00:00.000000",
         "Ticker": "EBMT",
         "_deepnote_index_column": 34362
        },
        {
         "Code": 100,
         "End Date": "2020-12-31T00:00:00.000000",
         "ID": 93369,
         "Name": "R1 R C M INC",
         "Start Date": "2010-05-20T00:00:00.000000",
         "Ticker": "RCM",
         "_deepnote_index_column": 34363
        },
        {
         "Code": 100,
         "End Date": "2020-12-31T00:00:00.000000",
         "ID": 93370,
         "Name": "BLACKSTONE SR FLTG RT TRM FD",
         "Start Date": "2010-05-26T00:00:00.000000",
         "Ticker": "BSL",
         "_deepnote_index_column": 34364
        },
        {
         "Code": 100,
         "End Date": "2020-12-31T00:00:00.000000",
         "ID": 93371,
         "Name": "CORMEDIX INC",
         "Start Date": "2010-05-13T00:00:00.000000",
         "Ticker": "CRMD",
         "_deepnote_index_column": 34365
        },
        {
         "Code": 100,
         "End Date": "2020-12-31T00:00:00.000000",
         "ID": 93372,
         "Name": "DOUGLAS DYNAMICS INC",
         "Start Date": "2010-05-05T00:00:00.000000",
         "Ticker": "PLOW",
         "_deepnote_index_column": 34366
        },
        {
         "Code": 100,
         "End Date": "2020-12-31T00:00:00.000000",
         "ID": 93373,
         "Name": "EXPRESS INC",
         "Start Date": "2010-05-13T00:00:00.000000",
         "Ticker": "EXPR",
         "_deepnote_index_column": 34367
        },
        {
         "Code": 100,
         "End Date": "2020-12-31T00:00:00.000000",
         "ID": 93374,
         "Name": "FIRST AMERICAN FINL CORP NEW",
         "Start Date": "2010-06-02T00:00:00.000000",
         "Ticker": "FAF",
         "_deepnote_index_column": 34368
        },
        {
         "Code": 450,
         "End Date": "2011-12-23T00:00:00.000000",
         "ID": 93375,
         "Name": "INDEXIQ E T F TRUST",
         "Start Date": "2010-05-19T00:00:00.000000",
         "Ticker": "nan",
         "_deepnote_index_column": 34369
        },
        {
         "Code": 100,
         "End Date": "2020-12-31T00:00:00.000000",
         "ID": 93376,
         "Name": "ISHARES INC",
         "Start Date": "2010-05-07T00:00:00.000000",
         "Ticker": "EUSA",
         "_deepnote_index_column": 34370
        },
        {
         "Code": 100,
         "End Date": "2020-12-31T00:00:00.000000",
         "ID": 93377,
         "Name": "ISHARES TRUST",
         "Start Date": "2010-05-07T00:00:00.000000",
         "Ticker": "EIDO",
         "_deepnote_index_column": 34371
        },
        {
         "Code": 100,
         "End Date": "2020-12-31T00:00:00.000000",
         "ID": 93378,
         "Name": "ISHARES TRUST",
         "Start Date": "2010-05-07T00:00:00.000000",
         "Ticker": "EIRL",
         "_deepnote_index_column": 34372
        },
        {
         "Code": 100,
         "End Date": "2020-12-31T00:00:00.000000",
         "ID": 93379,
         "Name": "ISHARES TRUST",
         "Start Date": "2010-05-26T00:00:00.000000",
         "Ticker": "EPOL",
         "_deepnote_index_column": 34373
        },
        {
         "Code": 100,
         "End Date": "2020-12-31T00:00:00.000000",
         "ID": 93380,
         "Name": "JINKOSOLAR HOLDING CO LTD",
         "Start Date": "2010-05-14T00:00:00.000000",
         "Ticker": "JKS",
         "_deepnote_index_column": 34374
        },
        {
         "Code": 233,
         "End Date": "2016-07-18T00:00:00.000000",
         "ID": 93381,
         "Name": "NISKA GAS STORAGE PARTNERS LLC",
         "Start Date": "2010-05-12T00:00:00.000000",
         "Ticker": "nan",
         "_deepnote_index_column": 34375
        },
        {
         "Code": 560,
         "End Date": "2015-11-25T00:00:00.000000",
         "ID": 93382,
         "Name": "NORANDA ALUMINUM HOLDING CORP",
         "Start Date": "2010-05-14T00:00:00.000000",
         "Ticker": "nan",
         "_deepnote_index_column": 34376
        },
        {
         "Code": 450,
         "End Date": "2013-03-13T00:00:00.000000",
         "ID": 93383,
         "Name": "PAX WORLD FUNDS TRUST II",
         "Start Date": "2010-05-19T00:00:00.000000",
         "Ticker": "nan",
         "_deepnote_index_column": 34377
        },
        {
         "Code": 570,
         "End Date": "2020-04-16T00:00:00.000000",
         "ID": 93384,
         "Name": "ROADRUNNER TRANS SYSTEMS INC",
         "Start Date": "2010-05-13T00:00:00.000000",
         "Ticker": "nan",
         "_deepnote_index_column": 34378
        },
        {
         "Code": 100,
         "End Date": "2020-12-31T00:00:00.000000",
         "ID": 93385,
         "Name": "SPDR SERIES TRUST",
         "Start Date": "2010-05-20T00:00:00.000000",
         "Ticker": "IBND",
         "_deepnote_index_column": 34379
        },
        {
         "Code": 450,
         "End Date": "2016-08-24T00:00:00.000000",
         "ID": 93386,
         "Name": "SPDR SERIES TRUST",
         "Start Date": "2010-05-13T00:00:00.000000",
         "Ticker": "nan",
         "_deepnote_index_column": 34380
        },
        {
         "Code": 231,
         "End Date": "2015-03-12T00:00:00.000000",
         "ID": 93387,
         "Name": "SPANSION INC",
         "Start Date": "2010-05-18T00:00:00.000000",
         "Ticker": "nan",
         "_deepnote_index_column": 34381
        },
        {
         "Code": 450,
         "End Date": "2015-01-26T00:00:00.000000",
         "ID": 93388,
         "Name": "RUSSELL E T F TRUST",
         "Start Date": "2010-05-11T00:00:00.000000",
         "Ticker": "nan",
         "_deepnote_index_column": 34382
        },
        {
         "Code": 552,
         "End Date": "2012-11-08T00:00:00.000000",
         "ID": 93389,
         "Name": "WOWJOINT HOLDINGS LTD",
         "Start Date": "2010-05-05T00:00:00.000000",
         "Ticker": "nan",
         "_deepnote_index_column": 34383
        },
        {
         "Code": 233,
         "End Date": "2014-09-24T00:00:00.000000",
         "ID": 93390,
         "Name": "CHARM COMMUNICATIONS INC",
         "Start Date": "2010-05-05T00:00:00.000000",
         "Ticker": "nan",
         "_deepnote_index_column": 34384
        },
        {
         "Code": 574,
         "End Date": "2013-09-26T00:00:00.000000",
         "ID": 93391,
         "Name": "ECOTALITY INC",
         "Start Date": "2010-05-20T00:00:00.000000",
         "Ticker": "nan",
         "_deepnote_index_column": 34385
        },
        {
         "Code": 261,
         "End Date": "2014-07-01T00:00:00.000000",
         "ID": 93392,
         "Name": "FURIEX PHARMACEUTICALS INC",
         "Start Date": "2010-06-15T00:00:00.000000",
         "Ticker": "nan",
         "_deepnote_index_column": 34386
        },
        {
         "Code": 100,
         "End Date": "2020-12-31T00:00:00.000000",
         "ID": 93393,
         "Name": "GENMARK DIAGNOSTICS INC",
         "Start Date": "2010-05-28T00:00:00.000000",
         "Ticker": "GNMK",
         "_deepnote_index_column": 34387
        },
        {
         "Code": 573,
         "End Date": "2012-03-29T00:00:00.000000",
         "ID": 93395,
         "Name": "JINGWEI INTERNATIONAL LTD",
         "Start Date": "2010-05-20T00:00:00.000000",
         "Ticker": "nan",
         "_deepnote_index_column": 34388
        },
        {
         "Code": 332,
         "End Date": "2018-09-19T00:00:00.000000",
         "ID": 93396,
         "Name": "LUOKUNG TECHNOLOGY CORP",
         "Start Date": "2010-05-14T00:00:00.000000",
         "Ticker": "nan",
         "_deepnote_index_column": 34389
        },
        {
         "Code": 100,
         "End Date": "2020-12-31T00:00:00.000000",
         "ID": 93397,
         "Name": "LIMONEIRA CO",
         "Start Date": "2010-05-27T00:00:00.000000",
         "Ticker": "LMNR",
         "_deepnote_index_column": 34390
        },
        {
         "Code": 560,
         "End Date": "2015-07-30T00:00:00.000000",
         "ID": 93398,
         "Name": "MILLER ENERGY RESOURCES INC",
         "Start Date": "2010-05-06T00:00:00.000000",
         "Ticker": "nan",
         "_deepnote_index_column": 34391
        },
        {
         "Code": 560,
         "End Date": "2019-01-18T00:00:00.000000",
         "ID": 93399,
         "Name": "NATIONAL AMERICAN UNIV HLDGS INC",
         "Start Date": "2010-05-27T00:00:00.000000",
         "Ticker": "nan",
         "_deepnote_index_column": 34392
        },
        {
         "Code": 233,
         "End Date": "2016-08-09T00:00:00.000000",
         "ID": 93400,
         "Name": "REACHLOCAL INC",
         "Start Date": "2010-05-20T00:00:00.000000",
         "Ticker": "nan",
         "_deepnote_index_column": 34393
        },
        {
         "Code": 100,
         "End Date": "2020-12-31T00:00:00.000000",
         "ID": 93401,
         "Name": "TELENAV INC",
         "Start Date": "2010-05-13T00:00:00.000000",
         "Ticker": "TNAV",
         "_deepnote_index_column": 34394
        },
        {
         "Code": 233,
         "End Date": "2012-12-20T00:00:00.000000",
         "ID": 93402,
         "Name": "T P C GROUP INC",
         "Start Date": "2010-05-04T00:00:00.000000",
         "Ticker": "nan",
         "_deepnote_index_column": 34395
        },
        {
         "Code": 560,
         "End Date": "2014-03-03T00:00:00.000000",
         "ID": 93404,
         "Name": "CASH STORE FINANCIAL SVCS INC",
         "Start Date": "2010-06-08T00:00:00.000000",
         "Ticker": "nan",
         "_deepnote_index_column": 34396
        },
        {
         "Code": 580,
         "End Date": "2011-03-24T00:00:00.000000",
         "ID": 93405,
         "Name": "CHINA INTELLIGENT LTG & ELEC INC",
         "Start Date": "2010-06-18T00:00:00.000000",
         "Ticker": "nan",
         "_deepnote_index_column": 34397
        },
        {
         "Code": 584,
         "End Date": "2019-06-18T00:00:00.000000",
         "ID": 93406,
         "Name": "CHINA NEW BORUN CORP",
         "Start Date": "2010-06-11T00:00:00.000000",
         "Ticker": "nan",
         "_deepnote_index_column": 34398
        },
        {
         "Code": 450,
         "End Date": "2017-12-28T00:00:00.000000",
         "ID": 93407,
         "Name": "CLAYMORE E T F TRUST",
         "Start Date": "2010-06-07T00:00:00.000000",
         "Ticker": "nan",
         "_deepnote_index_column": 34399
        },
        {
         "Code": 450,
         "End Date": "2016-12-29T00:00:00.000000",
         "ID": 93408,
         "Name": "CLAYMORE E T F TRUST",
         "Start Date": "2010-06-07T00:00:00.000000",
         "Ticker": "nan",
         "_deepnote_index_column": 34400
        },
        {
         "Code": 450,
         "End Date": "2015-12-30T00:00:00.000000",
         "ID": 93409,
         "Name": "CLAYMORE E T F TRUST",
         "Start Date": "2010-06-07T00:00:00.000000",
         "Ticker": "nan",
         "_deepnote_index_column": 34401
        },
        {
         "Code": 450,
         "End Date": "2014-12-30T00:00:00.000000",
         "ID": 93410,
         "Name": "CLAYMORE E T F TRUST",
         "Start Date": "2010-06-07T00:00:00.000000",
         "Ticker": "nan",
         "_deepnote_index_column": 34402
        },
        {
         "Code": 450,
         "End Date": "2013-12-30T00:00:00.000000",
         "ID": 93411,
         "Name": "CLAYMORE E T F TRUST",
         "Start Date": "2010-06-07T00:00:00.000000",
         "Ticker": "nan",
         "_deepnote_index_column": 34403
        },
        {
         "Code": 450,
         "End Date": "2012-12-28T00:00:00.000000",
         "ID": 93412,
         "Name": "CLAYMORE E T F TRUST",
         "Start Date": "2010-06-07T00:00:00.000000",
         "Ticker": "nan",
         "_deepnote_index_column": 34404
        },
        {
         "Code": 470,
         "End Date": "2011-12-29T00:00:00.000000",
         "ID": 93413,
         "Name": "CLAYMORE E T F TRUST",
         "Start Date": "2010-06-07T00:00:00.000000",
         "Ticker": "nan",
         "_deepnote_index_column": 34405
        },
        {
         "Code": 231,
         "End Date": "2018-04-06T00:00:00.000000",
         "ID": 93414,
         "Name": "CLAYMORE E T F TRUST 2",
         "Start Date": "2010-06-11T00:00:00.000000",
         "Ticker": "nan",
         "_deepnote_index_column": 34406
        },
        {
         "Code": 100,
         "End Date": "2020-12-31T00:00:00.000000",
         "ID": 93415,
         "Name": "CLEARBRIDGE MLP & MIDSTR FD INC",
         "Start Date": "2010-06-25T00:00:00.000000",
         "Ticker": "CEM",
         "_deepnote_index_column": 34407
        },
        {
         "Code": 100,
         "End Date": "2020-12-31T00:00:00.000000",
         "ID": 93416,
         "Name": "EATON VANCE TAX MAN BUY WR ST FD",
         "Start Date": "2010-06-25T00:00:00.000000",
         "Ticker": "EXD",
         "_deepnote_index_column": 34408
        },
        {
         "Code": 450,
         "End Date": "2017-10-06T00:00:00.000000",
         "ID": 93417,
         "Name": "GLOBAL X FUNDS",
         "Start Date": "2010-06-22T00:00:00.000000",
         "Ticker": "nan",
         "_deepnote_index_column": 34409
        },
        {
         "Code": 233,
         "End Date": "2016-08-04T00:00:00.000000",
         "ID": 93418,
         "Name": "HIGHER ONE HOLDINGS INC",
         "Start Date": "2010-06-17T00:00:00.000000",
         "Ticker": "nan",
         "_deepnote_index_column": 34410
        },
        {
         "Code": 100,
         "End Date": "2020-12-31T00:00:00.000000",
         "ID": 93419,
         "Name": "HUDSON PACIFIC PROPERTIES INC",
         "Start Date": "2010-06-24T00:00:00.000000",
         "Ticker": "HPP",
         "_deepnote_index_column": 34411
        },
        {
         "Code": 574,
         "End Date": "2020-10-09T00:00:00.000000",
         "ID": 93420,
         "Name": "OASIS PETROLEUM INC",
         "Start Date": "2010-06-17T00:00:00.000000",
         "Ticker": "nan",
         "_deepnote_index_column": 34412
        },
        {
         "Code": 100,
         "End Date": "2020-12-31T00:00:00.000000",
         "ID": 93421,
         "Name": "INVESCO E T F TRUST II",
         "Start Date": "2010-06-03T00:00:00.000000",
         "Ticker": "PICB",
         "_deepnote_index_column": 34413
        },
        {
         "Code": 100,
         "End Date": "2020-12-31T00:00:00.000000",
         "ID": 93422,
         "Name": "Q E P RESOURCES INC",
         "Start Date": "2010-07-01T00:00:00.000000",
         "Ticker": "QEP",
         "_deepnote_index_column": 34414
        },
        {
         "Code": 100,
         "End Date": "2020-12-31T00:00:00.000000",
         "ID": 93423,
         "Name": "SIX FLAGS ENTERTAINMENT CORP",
         "Start Date": "2010-06-21T00:00:00.000000",
         "Ticker": "SIX",
         "_deepnote_index_column": 34415
        },
        {
         "Code": 100,
         "End Date": "2020-12-31T00:00:00.000000",
         "ID": 93424,
         "Name": "TEUCRIUM COMMODITY TRUST",
         "Start Date": "2010-06-09T00:00:00.000000",
         "Ticker": "CORN",
         "_deepnote_index_column": 34416
        },
        {
         "Code": 100,
         "End Date": "2020-12-31T00:00:00.000000",
         "ID": 93425,
         "Name": "UNITED STATES BRENT OIL FUND LP",
         "Start Date": "2010-06-02T00:00:00.000000",
         "Ticker": "BNO",
         "_deepnote_index_column": 34417
        },
        {
         "Code": 100,
         "End Date": "2020-12-31T00:00:00.000000",
         "ID": 93426,
         "Name": "VISHAY PRECISION GROUP INC",
         "Start Date": "2010-07-07T00:00:00.000000",
         "Ticker": "VPG",
         "_deepnote_index_column": 34418
        },
        {
         "Code": 100,
         "End Date": "2020-12-31T00:00:00.000000",
         "ID": 93427,
         "Name": "FABRINET",
         "Start Date": "2010-06-25T00:00:00.000000",
         "Ticker": "FN",
         "_deepnote_index_column": 34419
        },
        {
         "Code": 233,
         "End Date": "2018-02-01T00:00:00.000000",
         "ID": 93428,
         "Name": "BROADSOFT INC",
         "Start Date": "2010-06-16T00:00:00.000000",
         "Ticker": "nan",
         "_deepnote_index_column": 34420
        },
        {
         "Code": 100,
         "End Date": "2020-12-31T00:00:00.000000",
         "ID": 93429,
         "Name": "C B O E GLOBAL MARKETS INC",
         "Start Date": "2010-06-15T00:00:00.000000",
         "Ticker": "CBOE",
         "_deepnote_index_column": 34421
        },
        {
         "Code": 574,
         "End Date": "2012-03-02T00:00:00.000000",
         "ID": 93430,
         "Name": "CYBERDEFENDER CORP",
         "Start Date": "2010-06-09T00:00:00.000000",
         "Ticker": "nan",
         "_deepnote_index_column": 34422
        },
        {
         "Code": 233,
         "End Date": "2014-03-27T00:00:00.000000",
         "ID": 93431,
         "Name": "PACTERA TECHNOLOGY INTL LTD",
         "Start Date": "2010-06-30T00:00:00.000000",
         "Ticker": "nan",
         "_deepnote_index_column": 34423
        },
        {
         "Code": 585,
         "End Date": "2011-05-31T00:00:00.000000",
         "ID": 93432,
         "Name": "JIANGBO PHARMACEUTICALS INC",
         "Start Date": "2010-06-08T00:00:00.000000",
         "Ticker": "nan",
         "_deepnote_index_column": 34424
        },
        {
         "Code": 584,
         "End Date": "2016-12-22T00:00:00.000000",
         "ID": 93433,
         "Name": "VOLTARI CORP",
         "Start Date": "2010-06-18T00:00:00.000000",
         "Ticker": "nan",
         "_deepnote_index_column": 34425
        },
        {
         "Code": 100,
         "End Date": "2020-12-31T00:00:00.000000",
         "ID": 93434,
         "Name": "S & W SEED CO",
         "Start Date": "2010-06-14T00:00:00.000000",
         "Ticker": "SANW",
         "_deepnote_index_column": 34426
        },
        {
         "Code": 584,
         "End Date": "2012-05-18T00:00:00.000000",
         "ID": 93435,
         "Name": "SINO CLEAN ENERGY INC",
         "Start Date": "2010-06-14T00:00:00.000000",
         "Ticker": "nan",
         "_deepnote_index_column": 34427
        },
        {
         "Code": 100,
         "End Date": "2020-12-31T00:00:00.000000",
         "ID": 93436,
         "Name": "TESLA INC",
         "Start Date": "2010-06-29T00:00:00.000000",
         "Ticker": "TSLA",
         "_deepnote_index_column": 34428
        }
       ],
       "rows_top": [
        {
         "Code": 100,
         "End Date": "2020-12-31T00:00:00.000000",
         "ID": 10113,
         "Name": "ADVISORSHARES TRUST",
         "Start Date": "2010-07-21T00:00:00.000000",
         "Ticker": "AADR",
         "_deepnote_index_column": 113
        },
        {
         "Code": 450,
         "End Date": "2015-08-07T00:00:00.000000",
         "ID": 10151,
         "Name": "ADVISORSHARES TRUST",
         "Start Date": "2010-07-09T00:00:00.000000",
         "Ticker": "nan",
         "_deepnote_index_column": 151
        },
        {
         "Code": 100,
         "End Date": "2020-12-31T00:00:00.000000",
         "ID": 10158,
         "Name": "AMERESCO INC",
         "Start Date": "2010-07-22T00:00:00.000000",
         "Ticker": "AMRC",
         "_deepnote_index_column": 158
        },
        {
         "Code": 100,
         "End Date": "2020-12-31T00:00:00.000000",
         "ID": 10201,
         "Name": "ATLANTIC POWER CORP",
         "Start Date": "2010-07-23T00:00:00.000000",
         "Ticker": "AT",
         "_deepnote_index_column": 201
        },
        {
         "Code": 100,
         "End Date": "2020-12-31T00:00:00.000000",
         "ID": 10220,
         "Name": "B W X TECHNOLOGIES INC",
         "Start Date": "2010-08-02T00:00:00.000000",
         "Ticker": "BWXT",
         "_deepnote_index_column": 220
        },
        {
         "Code": 233,
         "End Date": "2014-03-27T00:00:00.000000",
         "ID": 10223,
         "Name": "CAMELOT INFORMATION SYSTEMS INC",
         "Start Date": "2010-07-21T00:00:00.000000",
         "Ticker": "nan",
         "_deepnote_index_column": 223
        },
        {
         "Code": 231,
         "End Date": "2018-08-10T00:00:00.000000",
         "ID": 11003,
         "Name": "WILLIAMS PARTNERS LP NEW",
         "Start Date": "2010-07-29T00:00:00.000000",
         "Ticker": "nan",
         "_deepnote_index_column": 1003
        },
        {
         "Code": 450,
         "End Date": "2014-09-23T00:00:00.000000",
         "ID": 11061,
         "Name": "DIREXION SHARES E T F TRUST",
         "Start Date": "2010-07-14T00:00:00.000000",
         "Ticker": "nan",
         "_deepnote_index_column": 1061
        },
        {
         "Code": 450,
         "End Date": "2020-03-27T00:00:00.000000",
         "ID": 11182,
         "Name": "DIREXION SHARES E T F TRUST",
         "Start Date": "2010-07-14T00:00:00.000000",
         "Ticker": "nan",
         "_deepnote_index_column": 1182
        },
        {
         "Code": 450,
         "End Date": "2012-09-05T00:00:00.000000",
         "ID": 11196,
         "Name": "DIREXION SHARES E T F TRUST",
         "Start Date": "2010-07-14T00:00:00.000000",
         "Ticker": "nan",
         "_deepnote_index_column": 1196
        },
        {
         "Code": 100,
         "End Date": "2020-12-31T00:00:00.000000",
         "ID": 11264,
         "Name": "DIREXION SHARES E T F TRUST",
         "Start Date": "2010-07-14T00:00:00.000000",
         "Ticker": "RETL",
         "_deepnote_index_column": 1264
        },
        {
         "Code": 552,
         "End Date": "2020-07-30T00:00:00.000000",
         "ID": 11361,
         "Name": "E C A MARCELLUS TRUST I",
         "Start Date": "2010-07-01T00:00:00.000000",
         "Ticker": "nan",
         "_deepnote_index_column": 1361
        },
        {
         "Code": 450,
         "End Date": "2019-06-14T00:00:00.000000",
         "ID": 11363,
         "Name": "COLUMBIA E T F TRUST II",
         "Start Date": "2010-07-07T00:00:00.000000",
         "Ticker": "nan",
         "_deepnote_index_column": 1363
        },
        {
         "Code": 100,
         "End Date": "2020-12-31T00:00:00.000000",
         "ID": 11370,
         "Name": "ENVESTNET INC",
         "Start Date": "2010-07-29T00:00:00.000000",
         "Ticker": "ENV",
         "_deepnote_index_column": 1370
        },
        {
         "Code": 100,
         "End Date": "2020-12-31T00:00:00.000000",
         "ID": 11407,
         "Name": "GLOBAL X FUNDS",
         "Start Date": "2010-07-23T00:00:00.000000",
         "Ticker": "LIT",
         "_deepnote_index_column": 1407
        },
        {
         "Code": 450,
         "End Date": "2015-10-08T00:00:00.000000",
         "ID": 11505,
         "Name": "GLOBAL X FUNDS",
         "Start Date": "2010-07-29T00:00:00.000000",
         "Ticker": "nan",
         "_deepnote_index_column": 1505
        },
        {
         "Code": 450,
         "End Date": "2017-10-06T00:00:00.000000",
         "ID": 11648,
         "Name": "GLOBAL X FUNDS",
         "Start Date": "2010-07-08T00:00:00.000000",
         "Ticker": "nan",
         "_deepnote_index_column": 1648
        },
        {
         "Code": 100,
         "End Date": "2020-12-31T00:00:00.000000",
         "ID": 11664,
         "Name": "GREEN DOT CORP",
         "Start Date": "2010-07-22T00:00:00.000000",
         "Ticker": "GDOT",
         "_deepnote_index_column": 1664
        },
        {
         "Code": 450,
         "End Date": "2014-03-25T00:00:00.000000",
         "ID": 11814,
         "Name": "ISHARES TRUST",
         "Start Date": "2010-07-16T00:00:00.000000",
         "Ticker": "nan",
         "_deepnote_index_column": 1814
        },
        {
         "Code": 450,
         "End Date": "2014-03-25T00:00:00.000000",
         "ID": 11969,
         "Name": "ISHARES TRUST",
         "Start Date": "2010-07-16T00:00:00.000000",
         "Ticker": "nan",
         "_deepnote_index_column": 1969
        },
        {
         "Code": 450,
         "End Date": "2014-03-25T00:00:00.000000",
         "ID": 11972,
         "Name": "ISHARES TRUST",
         "Start Date": "2010-07-16T00:00:00.000000",
         "Ticker": "nan",
         "_deepnote_index_column": 1972
        },
        {
         "Code": 450,
         "End Date": "2014-03-25T00:00:00.000000",
         "ID": 11979,
         "Name": "ISHARES TRUST",
         "Start Date": "2010-07-16T00:00:00.000000",
         "Ticker": "nan",
         "_deepnote_index_column": 1979
        },
        {
         "Code": 450,
         "End Date": "2014-03-25T00:00:00.000000",
         "ID": 11980,
         "Name": "ISHARES TRUST",
         "Start Date": "2010-07-16T00:00:00.000000",
         "Ticker": "nan",
         "_deepnote_index_column": 1980
        },
        {
         "Code": 450,
         "End Date": "2014-03-25T00:00:00.000000",
         "ID": 11984,
         "Name": "ISHARES TRUST",
         "Start Date": "2010-07-16T00:00:00.000000",
         "Ticker": "nan",
         "_deepnote_index_column": 1984
        },
        {
         "Code": 450,
         "End Date": "2014-03-25T00:00:00.000000",
         "ID": 11986,
         "Name": "ISHARES TRUST",
         "Start Date": "2010-07-16T00:00:00.000000",
         "Ticker": "nan",
         "_deepnote_index_column": 1986
        },
        {
         "Code": 450,
         "End Date": "2014-03-25T00:00:00.000000",
         "ID": 11988,
         "Name": "ISHARES TRUST",
         "Start Date": "2010-07-16T00:00:00.000000",
         "Ticker": "nan",
         "_deepnote_index_column": 1988
        },
        {
         "Code": 450,
         "End Date": "2014-03-25T00:00:00.000000",
         "ID": 11989,
         "Name": "ISHARES TRUST",
         "Start Date": "2010-07-16T00:00:00.000000",
         "Ticker": "nan",
         "_deepnote_index_column": 1989
        },
        {
         "Code": 100,
         "End Date": "2020-12-31T00:00:00.000000",
         "ID": 11990,
         "Name": "K K R & CO INC",
         "Start Date": "2010-07-15T00:00:00.000000",
         "Ticker": "KKR",
         "_deepnote_index_column": 1990
        },
        {
         "Code": 584,
         "End Date": "2013-01-03T00:00:00.000000",
         "ID": 11993,
         "Name": "LONGWEI PETROLEUM INVT HLDG LTD",
         "Start Date": "2010-07-22T00:00:00.000000",
         "Ticker": "nan",
         "_deepnote_index_column": 1993
        },
        {
         "Code": 100,
         "End Date": "2020-12-31T00:00:00.000000",
         "ID": 11996,
         "Name": "VANECK VECTORS E T F TRUST",
         "Start Date": "2010-07-23T00:00:00.000000",
         "Ticker": "EMLC",
         "_deepnote_index_column": 1996
        },
        {
         "Code": 574,
         "End Date": "2015-06-24T00:00:00.000000",
         "ID": 11999,
         "Name": "MOLYCORP INC DE",
         "Start Date": "2010-07-29T00:00:00.000000",
         "Ticker": "nan",
         "_deepnote_index_column": 1999
        },
        {
         "Code": 574,
         "End Date": "2018-10-08T00:00:00.000000",
         "ID": 12007,
         "Name": "WESTMORELAND RESOURCE PTNRS LP",
         "Start Date": "2010-07-14T00:00:00.000000",
         "Ticker": "nan",
         "_deepnote_index_column": 2007
        },
        {
         "Code": 100,
         "End Date": "2020-12-31T00:00:00.000000",
         "ID": 12009,
         "Name": "QUAD GRAPHICS INC",
         "Start Date": "2010-07-06T00:00:00.000000",
         "Ticker": "QUAD",
         "_deepnote_index_column": 2009
        },
        {
         "Code": 233,
         "End Date": "2016-03-22T00:00:00.000000",
         "ID": 12011,
         "Name": "REALD INC",
         "Start Date": "2010-07-16T00:00:00.000000",
         "Ticker": "nan",
         "_deepnote_index_column": 2011
        },
        {
         "Code": 580,
         "End Date": "2013-01-30T00:00:00.000000",
         "ID": 12014,
         "Name": "CHINA BOTANIC PHARMACEUTICAL INC",
         "Start Date": "2010-07-02T00:00:00.000000",
         "Ticker": "nan",
         "_deepnote_index_column": 2014
        },
        {
         "Code": 100,
         "End Date": "2020-12-31T00:00:00.000000",
         "ID": 12015,
         "Name": "TORTOISE MIDSTREAM ENERGY FD INC",
         "Start Date": "2010-07-28T00:00:00.000000",
         "Ticker": "NTG",
         "_deepnote_index_column": 2015
        },
        {
         "Code": 100,
         "End Date": "2020-12-31T00:00:00.000000",
         "ID": 12017,
         "Name": "XPRESSPA GROUP INC",
         "Start Date": "2010-07-27T00:00:00.000000",
         "Ticker": "XSPA",
         "_deepnote_index_column": 2017
        },
        {
         "Code": 570,
         "End Date": "2018-05-11T00:00:00.000000",
         "ID": 12018,
         "Name": "LINIU TECHNOLOGY GROUP",
         "Start Date": "2010-07-02T00:00:00.000000",
         "Ticker": "nan",
         "_deepnote_index_column": 2018
        },
        {
         "Code": 233,
         "End Date": "2014-07-17T00:00:00.000000",
         "ID": 12021,
         "Name": "AUTONAVI HOLDINGS LIMITED",
         "Start Date": "2010-07-01T00:00:00.000000",
         "Ticker": "nan",
         "_deepnote_index_column": 2021
        },
        {
         "Code": 580,
         "End Date": "2019-07-09T00:00:00.000000",
         "ID": 12023,
         "Name": "B I Q I INTERNATIONAL HLDNGS COR",
         "Start Date": "2010-07-20T00:00:00.000000",
         "Ticker": "nan",
         "_deepnote_index_column": 2023
        },
        {
         "Code": 241,
         "End Date": "2015-02-20T00:00:00.000000",
         "ID": 12025,
         "Name": "PEOPLES FEDERAL BANCSHARES INC",
         "Start Date": "2010-07-07T00:00:00.000000",
         "Ticker": "nan",
         "_deepnote_index_column": 2025
        },
        {
         "Code": 233,
         "End Date": "2016-08-22T00:00:00.000000",
         "ID": 12026,
         "Name": "QLIK TECHNOLOGIES INC",
         "Start Date": "2010-07-16T00:00:00.000000",
         "Ticker": "nan",
         "_deepnote_index_column": 2026
        },
        {
         "Code": 233,
         "End Date": "2016-09-14T00:00:00.000000",
         "ID": 12027,
         "Name": "SMART TECHNOLOGIES INC",
         "Start Date": "2010-07-15T00:00:00.000000",
         "Ticker": "nan",
         "_deepnote_index_column": 2027
        },
        {
         "Code": 552,
         "End Date": "2016-01-13T00:00:00.000000",
         "ID": 12030,
         "Name": "T H T HEAT TRANSFER TECHNOL INC",
         "Start Date": "2010-07-08T00:00:00.000000",
         "Ticker": "nan",
         "_deepnote_index_column": 2030
        },
        {
         "Code": 560,
         "End Date": "2011-11-18T00:00:00.000000",
         "ID": 12032,
         "Name": "ZOO ENTERTAINMENT INC",
         "Start Date": "2010-07-07T00:00:00.000000",
         "Ticker": "nan",
         "_deepnote_index_column": 2032
        },
        {
         "Code": 100,
         "End Date": "2020-12-31T00:00:00.000000",
         "ID": 12034,
         "Name": "SPROTT PHYSICAL GOLD TRUST",
         "Start Date": "2010-02-26T00:00:00.000000",
         "Ticker": "PHYS",
         "_deepnote_index_column": 2034
        },
        {
         "Code": 100,
         "End Date": "2020-12-31T00:00:00.000000",
         "ID": 12035,
         "Name": "ALPS E T F TRUST",
         "Start Date": "2010-08-25T00:00:00.000000",
         "Ticker": "AMLP",
         "_deepnote_index_column": 2035
        },
        {
         "Code": 580,
         "End Date": "2013-03-22T00:00:00.000000",
         "ID": 12038,
         "Name": "AMBOW EDUCATION HOLDING LTD",
         "Start Date": "2010-08-06T00:00:00.000000",
         "Ticker": "nan",
         "_deepnote_index_column": 2038
        },
        {
         "Code": 100,
         "End Date": "2020-12-31T00:00:00.000000",
         "ID": 12039,
         "Name": "BLACKROCK TAXABLE MUNI BOND TR",
         "Start Date": "2010-08-27T00:00:00.000000",
         "Ticker": "BBN",
         "_deepnote_index_column": 2039
        },
        {
         "Code": 233,
         "End Date": "2012-10-31T00:00:00.000000",
         "ID": 12043,
         "Name": "CHINA KANGHUI HOLDINGS",
         "Start Date": "2010-08-11T00:00:00.000000",
         "Ticker": "nan",
         "_deepnote_index_column": 2043
        },
        {
         "Code": 450,
         "End Date": "2019-06-14T00:00:00.000000",
         "ID": 12047,
         "Name": "COLUMBIA E T F TRUST II",
         "Start Date": "2010-08-11T00:00:00.000000",
         "Ticker": "nan",
         "_deepnote_index_column": 2047
        },
        {
         "Code": 100,
         "End Date": "2020-12-31T00:00:00.000000",
         "ID": 12049,
         "Name": "GOLD RESOURCE CORP",
         "Start Date": "2010-08-30T00:00:00.000000",
         "Ticker": "GORO",
         "_deepnote_index_column": 2049
        },
        {
         "Code": 233,
         "End Date": "2017-01-19T00:00:00.000000",
         "ID": 12051,
         "Name": "INTRALINKS HOLDINGS INC",
         "Start Date": "2010-08-06T00:00:00.000000",
         "Ticker": "nan",
         "_deepnote_index_column": 2051
        },
        {
         "Code": 100,
         "End Date": "2020-12-31T00:00:00.000000",
         "ID": 12054,
         "Name": "VANECK VECTORS E T F TRUST",
         "Start Date": "2010-08-25T00:00:00.000000",
         "Ticker": "GLIN",
         "_deepnote_index_column": 2054
        },
        {
         "Code": 580,
         "End Date": "2013-04-16T00:00:00.000000",
         "ID": 12056,
         "Name": "NEW ENERGY SYSTEMS GROUP",
         "Start Date": "2010-08-16T00:00:00.000000",
         "Ticker": "nan",
         "_deepnote_index_column": 2056
        },
        {
         "Code": 520,
         "End Date": "2016-02-26T00:00:00.000000",
         "ID": 12057,
         "Name": "RARE ELEMENT RESOURCES LTD",
         "Start Date": "2010-08-18T00:00:00.000000",
         "Ticker": "nan",
         "_deepnote_index_column": 2057
        },
        {
         "Code": 100,
         "End Date": "2020-12-31T00:00:00.000000",
         "ID": 12059,
         "Name": "SCHWAB STRATEGIC TRUST",
         "Start Date": "2010-08-06T00:00:00.000000",
         "Ticker": "SCHR",
         "_deepnote_index_column": 2059
        },
        {
         "Code": 100,
         "End Date": "2020-12-31T00:00:00.000000",
         "ID": 12064,
         "Name": "SCHWAB STRATEGIC TRUST",
         "Start Date": "2010-08-06T00:00:00.000000",
         "Ticker": "SCHO",
         "_deepnote_index_column": 2064
        },
        {
         "Code": 100,
         "End Date": "2020-12-31T00:00:00.000000",
         "ID": 12065,
         "Name": "SCHWAB STRATEGIC TRUST",
         "Start Date": "2010-08-06T00:00:00.000000",
         "Ticker": "SCHP",
         "_deepnote_index_column": 2065
        },
        {
         "Code": 100,
         "End Date": "2020-12-31T00:00:00.000000",
         "ID": 12066,
         "Name": "UNITED STATES COMMODITY IND FUND",
         "Start Date": "2010-08-10T00:00:00.000000",
         "Ticker": "USCI",
         "_deepnote_index_column": 2066
        },
        {
         "Code": 100,
         "End Date": "2020-12-31T00:00:00.000000",
         "ID": 12070,
         "Name": "WHITESTONE REIT",
         "Start Date": "2010-08-26T00:00:00.000000",
         "Ticker": "WSR",
         "_deepnote_index_column": 2070
        },
        {
         "Code": 100,
         "End Date": "2020-12-31T00:00:00.000000",
         "ID": 12075,
         "Name": "WISDOMTREE TRUST",
         "Start Date": "2010-08-09T00:00:00.000000",
         "Ticker": "ELD",
         "_deepnote_index_column": 2075
        },
        {
         "Code": 100,
         "End Date": "2020-12-31T00:00:00.000000",
         "ID": 12076,
         "Name": "SIGNET JEWELERS LTD",
         "Start Date": "2008-09-11T00:00:00.000000",
         "Ticker": "SIG",
         "_deepnote_index_column": 2076
        },
        {
         "Code": 560,
         "End Date": "2012-07-25T00:00:00.000000",
         "ID": 12077,
         "Name": "D MEDICAL INDUSTRIES LTD",
         "Start Date": "2010-08-05T00:00:00.000000",
         "Ticker": "nan",
         "_deepnote_index_column": 2077
        },
        {
         "Code": 100,
         "End Date": "2020-12-31T00:00:00.000000",
         "ID": 12078,
         "Name": "ELECTROMED INC",
         "Start Date": "2010-08-13T00:00:00.000000",
         "Ticker": "ELMD",
         "_deepnote_index_column": 2078
        },
        {
         "Code": 574,
         "End Date": "2017-03-21T00:00:00.000000",
         "ID": 12080,
         "Name": "GORDMANS STORES INC",
         "Start Date": "2010-08-05T00:00:00.000000",
         "Ticker": "nan",
         "_deepnote_index_column": 2080
        },
        {
         "Code": 233,
         "End Date": "2011-07-26T00:00:00.000000",
         "ID": 12081,
         "Name": "MEDIAMIND TECHNOLOGIES INC",
         "Start Date": "2010-08-11T00:00:00.000000",
         "Ticker": "nan",
         "_deepnote_index_column": 2081
        },
        {
         "Code": 100,
         "End Date": "2020-12-31T00:00:00.000000",
         "ID": 12082,
         "Name": "MAKEMYTRIP LIMITED",
         "Start Date": "2010-08-12T00:00:00.000000",
         "Ticker": "MMYT",
         "_deepnote_index_column": 2082
        },
        {
         "Code": 100,
         "End Date": "2020-12-31T00:00:00.000000",
         "ID": 12084,
         "Name": "N X P SEMICONDUCTORS N V",
         "Start Date": "2010-08-06T00:00:00.000000",
         "Ticker": "NXPI",
         "_deepnote_index_column": 2084
        },
        {
         "Code": 261,
         "End Date": "2014-02-21T00:00:00.000000",
         "ID": 12085,
         "Name": "NUPATHE INC",
         "Start Date": "2010-08-06T00:00:00.000000",
         "Ticker": "nan",
         "_deepnote_index_column": 2085
        },
        {
         "Code": 231,
         "End Date": "2017-11-30T00:00:00.000000",
         "ID": 12088,
         "Name": "PARK STERLING BANK NEW",
         "Start Date": "2010-08-13T00:00:00.000000",
         "Ticker": "nan",
         "_deepnote_index_column": 2088
        },
        {
         "Code": 100,
         "End Date": "2020-12-31T00:00:00.000000",
         "ID": 12089,
         "Name": "REALPAGE INC",
         "Start Date": "2010-08-12T00:00:00.000000",
         "Ticker": "RP",
         "_deepnote_index_column": 2089
        },
        {
         "Code": 261,
         "End Date": "2013-09-11T00:00:00.000000",
         "ID": 12090,
         "Name": "TRIUS THERAPEUTICS INC",
         "Start Date": "2010-08-03T00:00:00.000000",
         "Ticker": "nan",
         "_deepnote_index_column": 2090
        },
        {
         "Code": 100,
         "End Date": "2020-12-31T00:00:00.000000",
         "ID": 12093,
         "Name": "CORESITE REALTY CORP",
         "Start Date": "2010-09-23T00:00:00.000000",
         "Ticker": "COR",
         "_deepnote_index_column": 2093
        },
        {
         "Code": 233,
         "End Date": "2016-04-20T00:00:00.000000",
         "ID": 12097,
         "Name": "COUNTRY STYLE CKG RST CHN CO LTD",
         "Start Date": "2010-09-28T00:00:00.000000",
         "Ticker": "nan",
         "_deepnote_index_column": 2097
        },
        {
         "Code": 100,
         "End Date": "2020-12-31T00:00:00.000000",
         "ID": 12098,
         "Name": "COLUMBIA E T F TRUST II",
         "Start Date": "2010-09-14T00:00:00.000000",
         "Ticker": "ECON",
         "_deepnote_index_column": 2098
        },
        {
         "Code": 561,
         "End Date": "2012-08-28T00:00:00.000000",
         "ID": 12101,
         "Name": "ELSTER GROUP S E",
         "Start Date": "2010-09-30T00:00:00.000000",
         "Ticker": "nan",
         "_deepnote_index_column": 2101
        },
        {
         "Code": 100,
         "End Date": "2020-12-31T00:00:00.000000",
         "ID": 12103,
         "Name": "FIRST TRUST HIGH INC LNG SHRT FD",
         "Start Date": "2010-09-28T00:00:00.000000",
         "Ticker": "FSD",
         "_deepnote_index_column": 2103
        },
        {
         "Code": 570,
         "End Date": "2012-07-19T00:00:00.000000",
         "ID": 12104,
         "Name": "HELIX BIOPHARMA CORP",
         "Start Date": "2010-09-15T00:00:00.000000",
         "Ticker": "nan",
         "_deepnote_index_column": 2104
        },
        {
         "Code": 100,
         "End Date": "2020-12-31T00:00:00.000000",
         "ID": 12105,
         "Name": "ISHARES TRUST",
         "Start Date": "2010-09-02T00:00:00.000000",
         "Ticker": "ENZL",
         "_deepnote_index_column": 2105
        },
        {
         "Code": 100,
         "End Date": "2020-12-31T00:00:00.000000",
         "ID": 12109,
         "Name": "ISHARES TRUST",
         "Start Date": "2010-09-29T00:00:00.000000",
         "Ticker": "EWZS",
         "_deepnote_index_column": 2109
        },
        {
         "Code": 100,
         "End Date": "2020-12-31T00:00:00.000000",
         "ID": 12219,
         "Name": "ISHARES TRUST",
         "Start Date": "2010-09-29T00:00:00.000000",
         "Ticker": "ECNS",
         "_deepnote_index_column": 2219
        },
        {
         "Code": 100,
         "End Date": "2020-12-31T00:00:00.000000",
         "ID": 12287,
         "Name": "ISHARES TRUST",
         "Start Date": "2010-09-29T00:00:00.000000",
         "Ticker": "EPHE",
         "_deepnote_index_column": 2287
        }
       ]
      },
      "text/html": [
       "<div>\n",
       "<style scoped>\n",
       "    .dataframe tbody tr th:only-of-type {\n",
       "        vertical-align: middle;\n",
       "    }\n",
       "\n",
       "    .dataframe tbody tr th {\n",
       "        vertical-align: top;\n",
       "    }\n",
       "\n",
       "    .dataframe thead th {\n",
       "        text-align: right;\n",
       "    }\n",
       "</style>\n",
       "<table border=\"1\" class=\"dataframe\">\n",
       "  <thead>\n",
       "    <tr style=\"text-align: right;\">\n",
       "      <th></th>\n",
       "      <th>ID</th>\n",
       "      <th>Ticker</th>\n",
       "      <th>Start Date</th>\n",
       "      <th>End Date</th>\n",
       "      <th>Code</th>\n",
       "      <th>Name</th>\n",
       "    </tr>\n",
       "  </thead>\n",
       "  <tbody>\n",
       "    <tr>\n",
       "      <th>113</th>\n",
       "      <td>10113</td>\n",
       "      <td>AADR</td>\n",
       "      <td>2010-07-21</td>\n",
       "      <td>2020-12-31</td>\n",
       "      <td>100</td>\n",
       "      <td>ADVISORSHARES TRUST</td>\n",
       "    </tr>\n",
       "    <tr>\n",
       "      <th>151</th>\n",
       "      <td>10151</td>\n",
       "      <td>NaN</td>\n",
       "      <td>2010-07-09</td>\n",
       "      <td>2015-08-07</td>\n",
       "      <td>450</td>\n",
       "      <td>ADVISORSHARES TRUST</td>\n",
       "    </tr>\n",
       "    <tr>\n",
       "      <th>158</th>\n",
       "      <td>10158</td>\n",
       "      <td>AMRC</td>\n",
       "      <td>2010-07-22</td>\n",
       "      <td>2020-12-31</td>\n",
       "      <td>100</td>\n",
       "      <td>AMERESCO INC</td>\n",
       "    </tr>\n",
       "    <tr>\n",
       "      <th>201</th>\n",
       "      <td>10201</td>\n",
       "      <td>AT</td>\n",
       "      <td>2010-07-23</td>\n",
       "      <td>2020-12-31</td>\n",
       "      <td>100</td>\n",
       "      <td>ATLANTIC POWER CORP</td>\n",
       "    </tr>\n",
       "    <tr>\n",
       "      <th>220</th>\n",
       "      <td>10220</td>\n",
       "      <td>BWXT</td>\n",
       "      <td>2010-08-02</td>\n",
       "      <td>2020-12-31</td>\n",
       "      <td>100</td>\n",
       "      <td>B W X TECHNOLOGIES INC</td>\n",
       "    </tr>\n",
       "    <tr>\n",
       "      <th>...</th>\n",
       "      <td>...</td>\n",
       "      <td>...</td>\n",
       "      <td>...</td>\n",
       "      <td>...</td>\n",
       "      <td>...</td>\n",
       "      <td>...</td>\n",
       "    </tr>\n",
       "    <tr>\n",
       "      <th>34424</th>\n",
       "      <td>93432</td>\n",
       "      <td>NaN</td>\n",
       "      <td>2010-06-08</td>\n",
       "      <td>2011-05-31</td>\n",
       "      <td>585</td>\n",
       "      <td>JIANGBO PHARMACEUTICALS INC</td>\n",
       "    </tr>\n",
       "    <tr>\n",
       "      <th>34425</th>\n",
       "      <td>93433</td>\n",
       "      <td>NaN</td>\n",
       "      <td>2010-06-18</td>\n",
       "      <td>2016-12-22</td>\n",
       "      <td>584</td>\n",
       "      <td>VOLTARI CORP</td>\n",
       "    </tr>\n",
       "    <tr>\n",
       "      <th>34426</th>\n",
       "      <td>93434</td>\n",
       "      <td>SANW</td>\n",
       "      <td>2010-06-14</td>\n",
       "      <td>2020-12-31</td>\n",
       "      <td>100</td>\n",
       "      <td>S &amp; W SEED CO</td>\n",
       "    </tr>\n",
       "    <tr>\n",
       "      <th>34427</th>\n",
       "      <td>93435</td>\n",
       "      <td>NaN</td>\n",
       "      <td>2010-06-14</td>\n",
       "      <td>2012-05-18</td>\n",
       "      <td>584</td>\n",
       "      <td>SINO CLEAN ENERGY INC</td>\n",
       "    </tr>\n",
       "    <tr>\n",
       "      <th>34428</th>\n",
       "      <td>93436</td>\n",
       "      <td>TSLA</td>\n",
       "      <td>2010-06-29</td>\n",
       "      <td>2020-12-31</td>\n",
       "      <td>100</td>\n",
       "      <td>TESLA INC</td>\n",
       "    </tr>\n",
       "  </tbody>\n",
       "</table>\n",
       "<p>10681 rows × 6 columns</p>\n",
       "</div>"
      ],
      "text/plain": [
       "          ID Ticker Start Date   End Date  Code                         Name\n",
       "113    10113   AADR 2010-07-21 2020-12-31   100          ADVISORSHARES TRUST\n",
       "151    10151    NaN 2010-07-09 2015-08-07   450          ADVISORSHARES TRUST\n",
       "158    10158   AMRC 2010-07-22 2020-12-31   100                 AMERESCO INC\n",
       "201    10201     AT 2010-07-23 2020-12-31   100          ATLANTIC POWER CORP\n",
       "220    10220   BWXT 2010-08-02 2020-12-31   100       B W X TECHNOLOGIES INC\n",
       "...      ...    ...        ...        ...   ...                          ...\n",
       "34424  93432    NaN 2010-06-08 2011-05-31   585  JIANGBO PHARMACEUTICALS INC\n",
       "34425  93433    NaN 2010-06-18 2016-12-22   584                 VOLTARI CORP\n",
       "34426  93434   SANW 2010-06-14 2020-12-31   100                S & W SEED CO\n",
       "34427  93435    NaN 2010-06-14 2012-05-18   584        SINO CLEAN ENERGY INC\n",
       "34428  93436   TSLA 2010-06-29 2020-12-31   100                    TESLA INC\n",
       "\n",
       "[10681 rows x 6 columns]"
      ]
     },
     "execution_count": 7,
     "metadata": {},
     "output_type": "execute_result"
    }
   ],
   "source": [
    "#Find bankrupt companies after the year 2000\n",
    "df[(df['Start Date'] > '2000-01-01')]"
   ]
  },
  {
   "cell_type": "code",
   "execution_count": null,
   "metadata": {
    "cell_id": "00005-c3281de4-9855-4cc4-a4bf-4abb7765181b",
    "deepnote_cell_type": "code",
    "deepnote_to_be_reexecuted": false,
    "execution_millis": 5,
    "execution_start": 1634320872302,
    "source_hash": "4cbb92f0",
    "tags": []
   },
   "outputs": [],
   "source": [
    "bankrupt=bankrupt[(bankrupt['Start Date'] > '2000-01-01')]"
   ]
  },
  {
   "cell_type": "code",
   "execution_count": null,
   "metadata": {
    "cell_id": "00007-c21ba67c-ec5c-4610-b879-a3b45afc4046",
    "deepnote_cell_type": "code",
    "deepnote_to_be_reexecuted": false,
    "execution_millis": 137,
    "execution_start": 1634320872316,
    "source_hash": "3e3791c6",
    "tags": []
   },
   "outputs": [
    {
     "data": {
      "application/vnd.deepnote.dataframe.v2+json": {
       "column_count": 6,
       "columns": [
        {
         "dtype": "int64",
         "name": "ID",
         "stats": {
          "histogram": [
           {
            "bin_end": 19367.6,
            "bin_start": 11394,
            "count": 10
           },
           {
            "bin_end": 27341.2,
            "bin_start": 19367.6,
            "count": 3
           },
           {
            "bin_end": 35314.8,
            "bin_start": 27341.2,
            "count": 0
           },
           {
            "bin_end": 43288.4,
            "bin_start": 35314.8,
            "count": 0
           },
           {
            "bin_end": 51262,
            "bin_start": 43288.4,
            "count": 2
           },
           {
            "bin_end": 59235.600000000006,
            "bin_start": 51262,
            "count": 0
           },
           {
            "bin_end": 67209.20000000001,
            "bin_start": 59235.600000000006,
            "count": 1
           },
           {
            "bin_end": 75182.8,
            "bin_start": 67209.20000000001,
            "count": 0
           },
           {
            "bin_end": 83156.40000000001,
            "bin_start": 75182.8,
            "count": 1
           },
           {
            "bin_end": 91130,
            "bin_start": 83156.40000000001,
            "count": 3
           }
          ],
          "max": "91130",
          "min": "11394",
          "nan_count": 0,
          "unique_count": 20
         }
        },
        {
         "dtype": "object",
         "name": "Ticker",
         "stats": {
          "categories": [
           {
            "count": 1,
            "name": "TFX"
           },
           {
            "count": 1,
            "name": "PHYL"
           },
           {
            "count": 18,
            "name": "18 others"
           }
          ],
          "nan_count": 0,
          "unique_count": 20
         }
        },
        {
         "dtype": "datetime64[ns]",
         "name": "Start Date",
         "stats": {
          "histogram": [
           {
            "bin_end": 83592000000000000,
            "bin_start": -84931200000000000,
            "count": 2
           },
           {
            "bin_end": 252115200000000000,
            "bin_start": 83592000000000000,
            "count": 0
           },
           {
            "bin_end": 420638400000000000,
            "bin_start": 252115200000000000,
            "count": 0
           },
           {
            "bin_end": 589161600000000000,
            "bin_start": 420638400000000000,
            "count": 2
           },
           {
            "bin_end": 757684800000000000,
            "bin_start": 589161600000000000,
            "count": 1
           },
           {
            "bin_end": 926208000000000000,
            "bin_start": 757684800000000000,
            "count": 1
           },
           {
            "bin_end": 1094731200000000000,
            "bin_start": 926208000000000000,
            "count": 1
           },
           {
            "bin_end": 1263254400000000000,
            "bin_start": 1094731200000000000,
            "count": 1
           },
           {
            "bin_end": 1431777600000000000,
            "bin_start": 1263254400000000000,
            "count": 3
           },
           {
            "bin_end": 1600300800000000000,
            "bin_start": 1431777600000000000,
            "count": 9
           }
          ],
          "max": "2020-09-17 00:00:00",
          "min": "1967-04-24 00:00:00",
          "nan_count": 0,
          "unique_count": 20
         }
        },
        {
         "dtype": "datetime64[ns]",
         "name": "End Date",
         "stats": {
          "histogram": null,
          "max": "2020-12-31 00:00:00",
          "min": "2020-12-31 00:00:00",
          "nan_count": 0,
          "unique_count": 1
         }
        },
        {
         "dtype": "int64",
         "name": "Code",
         "stats": {
          "histogram": [
           {
            "bin_end": 99.6,
            "bin_start": 99.5,
            "count": 0
           },
           {
            "bin_end": 99.7,
            "bin_start": 99.6,
            "count": 0
           },
           {
            "bin_end": 99.8,
            "bin_start": 99.7,
            "count": 0
           },
           {
            "bin_end": 99.9,
            "bin_start": 99.8,
            "count": 0
           },
           {
            "bin_end": 100,
            "bin_start": 99.9,
            "count": 0
           },
           {
            "bin_end": 100.1,
            "bin_start": 100,
            "count": 20
           },
           {
            "bin_end": 100.2,
            "bin_start": 100.1,
            "count": 0
           },
           {
            "bin_end": 100.3,
            "bin_start": 100.2,
            "count": 0
           },
           {
            "bin_end": 100.4,
            "bin_start": 100.3,
            "count": 0
           },
           {
            "bin_end": 100.5,
            "bin_start": 100.4,
            "count": 0
           }
          ],
          "max": "100",
          "min": "100",
          "nan_count": 0,
          "unique_count": 1
         }
        },
        {
         "dtype": "object",
         "name": "Name",
         "stats": {
          "categories": [
           {
            "count": 1,
            "name": "TELEFLEX INC"
           },
           {
            "count": 1,
            "name": "P G I M ETF TRUST"
           },
           {
            "count": 18,
            "name": "18 others"
           }
          ],
          "nan_count": 0,
          "unique_count": 20
         }
        },
        {
         "dtype": "int64",
         "name": "_deepnote_index_column"
        }
       ],
       "row_count": 20,
       "rows_bottom": null,
       "rows_top": [
        {
         "Code": 100,
         "End Date": "2020-12-31T00:00:00.000000",
         "ID": 44329,
         "Name": "TELEFLEX INC",
         "Start Date": "1967-04-24T00:00:00.000000",
         "Ticker": "TFX",
         "_deepnote_index_column": 13667
        },
        {
         "Code": 100,
         "End Date": "2020-12-31T00:00:00.000000",
         "ID": 18088,
         "Name": "P G I M ETF TRUST",
         "Start Date": "2018-09-27T00:00:00.000000",
         "Ticker": "PHYL",
         "_deepnote_index_column": 7559
        },
        {
         "Code": 100,
         "End Date": "2020-12-31T00:00:00.000000",
         "ID": 16068,
         "Name": "REATA PHARMACEUTICALS INC",
         "Start Date": "2016-05-26T00:00:00.000000",
         "Ticker": "RETA",
         "_deepnote_index_column": 5745
        },
        {
         "Code": 100,
         "End Date": "2020-12-31T00:00:00.000000",
         "ID": 50702,
         "Name": "PENNSYLVANIA REAL ESTATE INVT TR",
         "Start Date": "1970-06-10T00:00:00.000000",
         "Ticker": "PEI",
         "_deepnote_index_column": 14746
        },
        {
         "Code": 100,
         "End Date": "2020-12-31T00:00:00.000000",
         "ID": 91130,
         "Name": "VANGUARD INTL EQUITY INDEX FUNDS",
         "Start Date": "2005-03-10T00:00:00.000000",
         "Ticker": "VWO",
         "_deepnote_index_column": 32194
        },
        {
         "Code": 100,
         "End Date": "2020-12-31T00:00:00.000000",
         "ID": 88343,
         "Name": "PACWEST BANCORP DE",
         "Start Date": "2000-06-06T00:00:00.000000",
         "Ticker": "PACW",
         "_deepnote_index_column": 29673
        },
        {
         "Code": 100,
         "End Date": "2020-12-31T00:00:00.000000",
         "ID": 19786,
         "Name": "NATIXIS E T F TRUST II",
         "Start Date": "2020-09-17T00:00:00.000000",
         "Ticker": "VNMC",
         "_deepnote_index_column": 9056
        },
        {
         "Code": 100,
         "End Date": "2020-12-31T00:00:00.000000",
         "ID": 80100,
         "Name": "SIMON PROPERTY GROUP INC NEW",
         "Start Date": "1993-12-14T00:00:00.000000",
         "Ticker": "SPG",
         "_deepnote_index_column": 23314
        },
        {
         "Code": 100,
         "End Date": "2020-12-31T00:00:00.000000",
         "ID": 16543,
         "Name": "VAREX IMAGING CORP",
         "Start Date": "2017-01-30T00:00:00.000000",
         "Ticker": "VREX",
         "_deepnote_index_column": 6106
        },
        {
         "Code": 100,
         "End Date": "2020-12-31T00:00:00.000000",
         "ID": 16931,
         "Name": "T D H HOLDINGS INC",
         "Start Date": "2017-09-21T00:00:00.000000",
         "Ticker": "PETZ",
         "_deepnote_index_column": 6450
        },
        {
         "Code": 100,
         "End Date": "2020-12-31T00:00:00.000000",
         "ID": 11394,
         "Name": "THERMOGENESIS HOLDINGS INC",
         "Start Date": "1987-06-05T00:00:00.000000",
         "Ticker": "THMO",
         "_deepnote_index_column": 1394
        },
        {
         "Code": 100,
         "End Date": "2020-12-31T00:00:00.000000",
         "ID": 15321,
         "Name": "ISHARES TRUST",
         "Start Date": "2015-04-30T00:00:00.000000",
         "Ticker": "SMLF",
         "_deepnote_index_column": 5093
        },
        {
         "Code": 100,
         "End Date": "2020-12-31T00:00:00.000000",
         "ID": 16537,
         "Name": "YATRA ONLINE INC",
         "Start Date": "2016-12-19T00:00:00.000000",
         "Ticker": "YTRA",
         "_deepnote_index_column": 6100
        },
        {
         "Code": 100,
         "End Date": "2020-12-31T00:00:00.000000",
         "ID": 19568,
         "Name": "POSEIDA THERAPEUTICS INC",
         "Start Date": "2020-07-10T00:00:00.000000",
         "Ticker": "PSTX",
         "_deepnote_index_column": 8889
        },
        {
         "Code": 100,
         "End Date": "2020-12-31T00:00:00.000000",
         "ID": 18261,
         "Name": "TUANCHE LIMITED",
         "Start Date": "2018-11-20T00:00:00.000000",
         "Ticker": "TC",
         "_deepnote_index_column": 7730
        },
        {
         "Code": 100,
         "End Date": "2020-12-31T00:00:00.000000",
         "ID": 13318,
         "Name": "YELP INC",
         "Start Date": "2012-03-02T00:00:00.000000",
         "Ticker": "YELP",
         "_deepnote_index_column": 3213
        },
        {
         "Code": 100,
         "End Date": "2020-12-31T00:00:00.000000",
         "ID": 14538,
         "Name": "P L X PHARMA INC",
         "Start Date": "2014-03-13T00:00:00.000000",
         "Ticker": "PLXP",
         "_deepnote_index_column": 4329
        },
        {
         "Code": 100,
         "End Date": "2020-12-31T00:00:00.000000",
         "ID": 83547,
         "Name": "PREMIER FINANCIAL BANCORP INC",
         "Start Date": "1996-05-17T00:00:00.000000",
         "Ticker": "PFBI",
         "_deepnote_index_column": 25865
        },
        {
         "Code": 100,
         "End Date": "2020-12-31T00:00:00.000000",
         "ID": 65875,
         "Name": "VERIZON COMMUNICATIONS INC",
         "Start Date": "1984-02-16T00:00:00.000000",
         "Ticker": "VZ",
         "_deepnote_index_column": 17353
        },
        {
         "Code": 100,
         "End Date": "2020-12-31T00:00:00.000000",
         "ID": 19519,
         "Name": "FOLEY TRASIMENE ACQUISITION CORP",
         "Start Date": "2020-07-17T00:00:00.000000",
         "Ticker": "WPF",
         "_deepnote_index_column": 8840
        }
       ]
      },
      "text/html": [
       "<div>\n",
       "<style scoped>\n",
       "    .dataframe tbody tr th:only-of-type {\n",
       "        vertical-align: middle;\n",
       "    }\n",
       "\n",
       "    .dataframe tbody tr th {\n",
       "        vertical-align: top;\n",
       "    }\n",
       "\n",
       "    .dataframe thead th {\n",
       "        text-align: right;\n",
       "    }\n",
       "</style>\n",
       "<table border=\"1\" class=\"dataframe\">\n",
       "  <thead>\n",
       "    <tr style=\"text-align: right;\">\n",
       "      <th></th>\n",
       "      <th>ID</th>\n",
       "      <th>Ticker</th>\n",
       "      <th>Start Date</th>\n",
       "      <th>End Date</th>\n",
       "      <th>Code</th>\n",
       "      <th>Name</th>\n",
       "    </tr>\n",
       "  </thead>\n",
       "  <tbody>\n",
       "    <tr>\n",
       "      <th>13667</th>\n",
       "      <td>44329</td>\n",
       "      <td>TFX</td>\n",
       "      <td>1967-04-24</td>\n",
       "      <td>2020-12-31</td>\n",
       "      <td>100</td>\n",
       "      <td>TELEFLEX INC</td>\n",
       "    </tr>\n",
       "    <tr>\n",
       "      <th>7559</th>\n",
       "      <td>18088</td>\n",
       "      <td>PHYL</td>\n",
       "      <td>2018-09-27</td>\n",
       "      <td>2020-12-31</td>\n",
       "      <td>100</td>\n",
       "      <td>P G I M ETF TRUST</td>\n",
       "    </tr>\n",
       "    <tr>\n",
       "      <th>5745</th>\n",
       "      <td>16068</td>\n",
       "      <td>RETA</td>\n",
       "      <td>2016-05-26</td>\n",
       "      <td>2020-12-31</td>\n",
       "      <td>100</td>\n",
       "      <td>REATA PHARMACEUTICALS INC</td>\n",
       "    </tr>\n",
       "    <tr>\n",
       "      <th>14746</th>\n",
       "      <td>50702</td>\n",
       "      <td>PEI</td>\n",
       "      <td>1970-06-10</td>\n",
       "      <td>2020-12-31</td>\n",
       "      <td>100</td>\n",
       "      <td>PENNSYLVANIA REAL ESTATE INVT TR</td>\n",
       "    </tr>\n",
       "    <tr>\n",
       "      <th>32194</th>\n",
       "      <td>91130</td>\n",
       "      <td>VWO</td>\n",
       "      <td>2005-03-10</td>\n",
       "      <td>2020-12-31</td>\n",
       "      <td>100</td>\n",
       "      <td>VANGUARD INTL EQUITY INDEX FUNDS</td>\n",
       "    </tr>\n",
       "    <tr>\n",
       "      <th>29673</th>\n",
       "      <td>88343</td>\n",
       "      <td>PACW</td>\n",
       "      <td>2000-06-06</td>\n",
       "      <td>2020-12-31</td>\n",
       "      <td>100</td>\n",
       "      <td>PACWEST BANCORP DE</td>\n",
       "    </tr>\n",
       "    <tr>\n",
       "      <th>9056</th>\n",
       "      <td>19786</td>\n",
       "      <td>VNMC</td>\n",
       "      <td>2020-09-17</td>\n",
       "      <td>2020-12-31</td>\n",
       "      <td>100</td>\n",
       "      <td>NATIXIS E T F TRUST II</td>\n",
       "    </tr>\n",
       "    <tr>\n",
       "      <th>23314</th>\n",
       "      <td>80100</td>\n",
       "      <td>SPG</td>\n",
       "      <td>1993-12-14</td>\n",
       "      <td>2020-12-31</td>\n",
       "      <td>100</td>\n",
       "      <td>SIMON PROPERTY GROUP INC NEW</td>\n",
       "    </tr>\n",
       "    <tr>\n",
       "      <th>6106</th>\n",
       "      <td>16543</td>\n",
       "      <td>VREX</td>\n",
       "      <td>2017-01-30</td>\n",
       "      <td>2020-12-31</td>\n",
       "      <td>100</td>\n",
       "      <td>VAREX IMAGING CORP</td>\n",
       "    </tr>\n",
       "    <tr>\n",
       "      <th>6450</th>\n",
       "      <td>16931</td>\n",
       "      <td>PETZ</td>\n",
       "      <td>2017-09-21</td>\n",
       "      <td>2020-12-31</td>\n",
       "      <td>100</td>\n",
       "      <td>T D H HOLDINGS INC</td>\n",
       "    </tr>\n",
       "    <tr>\n",
       "      <th>1394</th>\n",
       "      <td>11394</td>\n",
       "      <td>THMO</td>\n",
       "      <td>1987-06-05</td>\n",
       "      <td>2020-12-31</td>\n",
       "      <td>100</td>\n",
       "      <td>THERMOGENESIS HOLDINGS INC</td>\n",
       "    </tr>\n",
       "    <tr>\n",
       "      <th>5093</th>\n",
       "      <td>15321</td>\n",
       "      <td>SMLF</td>\n",
       "      <td>2015-04-30</td>\n",
       "      <td>2020-12-31</td>\n",
       "      <td>100</td>\n",
       "      <td>ISHARES TRUST</td>\n",
       "    </tr>\n",
       "    <tr>\n",
       "      <th>6100</th>\n",
       "      <td>16537</td>\n",
       "      <td>YTRA</td>\n",
       "      <td>2016-12-19</td>\n",
       "      <td>2020-12-31</td>\n",
       "      <td>100</td>\n",
       "      <td>YATRA ONLINE INC</td>\n",
       "    </tr>\n",
       "    <tr>\n",
       "      <th>8889</th>\n",
       "      <td>19568</td>\n",
       "      <td>PSTX</td>\n",
       "      <td>2020-07-10</td>\n",
       "      <td>2020-12-31</td>\n",
       "      <td>100</td>\n",
       "      <td>POSEIDA THERAPEUTICS INC</td>\n",
       "    </tr>\n",
       "    <tr>\n",
       "      <th>7730</th>\n",
       "      <td>18261</td>\n",
       "      <td>TC</td>\n",
       "      <td>2018-11-20</td>\n",
       "      <td>2020-12-31</td>\n",
       "      <td>100</td>\n",
       "      <td>TUANCHE LIMITED</td>\n",
       "    </tr>\n",
       "    <tr>\n",
       "      <th>3213</th>\n",
       "      <td>13318</td>\n",
       "      <td>YELP</td>\n",
       "      <td>2012-03-02</td>\n",
       "      <td>2020-12-31</td>\n",
       "      <td>100</td>\n",
       "      <td>YELP INC</td>\n",
       "    </tr>\n",
       "    <tr>\n",
       "      <th>4329</th>\n",
       "      <td>14538</td>\n",
       "      <td>PLXP</td>\n",
       "      <td>2014-03-13</td>\n",
       "      <td>2020-12-31</td>\n",
       "      <td>100</td>\n",
       "      <td>P L X PHARMA INC</td>\n",
       "    </tr>\n",
       "    <tr>\n",
       "      <th>25865</th>\n",
       "      <td>83547</td>\n",
       "      <td>PFBI</td>\n",
       "      <td>1996-05-17</td>\n",
       "      <td>2020-12-31</td>\n",
       "      <td>100</td>\n",
       "      <td>PREMIER FINANCIAL BANCORP INC</td>\n",
       "    </tr>\n",
       "    <tr>\n",
       "      <th>17353</th>\n",
       "      <td>65875</td>\n",
       "      <td>VZ</td>\n",
       "      <td>1984-02-16</td>\n",
       "      <td>2020-12-31</td>\n",
       "      <td>100</td>\n",
       "      <td>VERIZON COMMUNICATIONS INC</td>\n",
       "    </tr>\n",
       "    <tr>\n",
       "      <th>8840</th>\n",
       "      <td>19519</td>\n",
       "      <td>WPF</td>\n",
       "      <td>2020-07-17</td>\n",
       "      <td>2020-12-31</td>\n",
       "      <td>100</td>\n",
       "      <td>FOLEY TRASIMENE ACQUISITION CORP</td>\n",
       "    </tr>\n",
       "  </tbody>\n",
       "</table>\n",
       "</div>"
      ],
      "text/plain": [
       "          ID Ticker Start Date   End Date  Code  \\\n",
       "13667  44329    TFX 1967-04-24 2020-12-31   100   \n",
       "7559   18088   PHYL 2018-09-27 2020-12-31   100   \n",
       "5745   16068   RETA 2016-05-26 2020-12-31   100   \n",
       "14746  50702    PEI 1970-06-10 2020-12-31   100   \n",
       "32194  91130    VWO 2005-03-10 2020-12-31   100   \n",
       "29673  88343   PACW 2000-06-06 2020-12-31   100   \n",
       "9056   19786   VNMC 2020-09-17 2020-12-31   100   \n",
       "23314  80100    SPG 1993-12-14 2020-12-31   100   \n",
       "6106   16543   VREX 2017-01-30 2020-12-31   100   \n",
       "6450   16931   PETZ 2017-09-21 2020-12-31   100   \n",
       "1394   11394   THMO 1987-06-05 2020-12-31   100   \n",
       "5093   15321   SMLF 2015-04-30 2020-12-31   100   \n",
       "6100   16537   YTRA 2016-12-19 2020-12-31   100   \n",
       "8889   19568   PSTX 2020-07-10 2020-12-31   100   \n",
       "7730   18261     TC 2018-11-20 2020-12-31   100   \n",
       "3213   13318   YELP 2012-03-02 2020-12-31   100   \n",
       "4329   14538   PLXP 2014-03-13 2020-12-31   100   \n",
       "25865  83547   PFBI 1996-05-17 2020-12-31   100   \n",
       "17353  65875     VZ 1984-02-16 2020-12-31   100   \n",
       "8840   19519    WPF 2020-07-17 2020-12-31   100   \n",
       "\n",
       "                                   Name  \n",
       "13667                      TELEFLEX INC  \n",
       "7559                  P G I M ETF TRUST  \n",
       "5745          REATA PHARMACEUTICALS INC  \n",
       "14746  PENNSYLVANIA REAL ESTATE INVT TR  \n",
       "32194  VANGUARD INTL EQUITY INDEX FUNDS  \n",
       "29673                PACWEST BANCORP DE  \n",
       "9056             NATIXIS E T F TRUST II  \n",
       "23314      SIMON PROPERTY GROUP INC NEW  \n",
       "6106                 VAREX IMAGING CORP  \n",
       "6450                 T D H HOLDINGS INC  \n",
       "1394         THERMOGENESIS HOLDINGS INC  \n",
       "5093                      ISHARES TRUST  \n",
       "6100                   YATRA ONLINE INC  \n",
       "8889           POSEIDA THERAPEUTICS INC  \n",
       "7730                    TUANCHE LIMITED  \n",
       "3213                           YELP INC  \n",
       "4329                   P L X PHARMA INC  \n",
       "25865     PREMIER FINANCIAL BANCORP INC  \n",
       "17353        VERIZON COMMUNICATIONS INC  \n",
       "8840   FOLEY TRASIMENE ACQUISITION CORP  "
      ]
     },
     "execution_count": 9,
     "metadata": {},
     "output_type": "execute_result"
    }
   ],
   "source": [
    "#Sample healthy firms\n",
    "import numpy as np\n",
    "healthy=df[df[\"Ticker\"].notnull()].sample(n=500)\n",
    "healthy"
   ]
  },
  {
   "cell_type": "code",
   "execution_count": null,
   "metadata": {
    "cell_id": "00012-6293d8ec-5dc1-43cc-b6c2-3361bd4760d8",
    "deepnote_cell_type": "code",
    "deepnote_to_be_reexecuted": false,
    "execution_millis": 5720,
    "execution_start": 1634242395443,
    "source_hash": "6c3283c9",
    "tags": []
   },
   "outputs": [
    {
     "name": "stdout",
     "output_type": "stream",
     "text": [
      "Requirement already satisfied: bs4==0.0.1 in /root/venv/lib/python3.7/site-packages (0.0.1)\n",
      "Requirement already satisfied: beautifulsoup4 in /root/venv/lib/python3.7/site-packages (from bs4==0.0.1) (4.10.0)\n",
      "Requirement already satisfied: soupsieve>1.2 in /root/venv/lib/python3.7/site-packages (from beautifulsoup4->bs4==0.0.1) (2.2.1)\n",
      "\u001b[33mWARNING: You are using pip version 21.2.4; however, version 21.3 is available.\n",
      "You should consider upgrading via the '/root/venv/bin/python -m pip install --upgrade pip' command.\u001b[0m\n"
     ]
    }
   ],
   "source": [
    "#Install the BeautfiulSoup extraction package\n",
    "!pip install bs4==0.0.1"
   ]
  },
  {
   "cell_type": "code",
   "execution_count": null,
   "metadata": {
    "cell_id": "00012-9a37f9d4-efdd-4186-80d4-0377a03329f1",
    "deepnote_cell_type": "code",
    "deepnote_to_be_reexecuted": false,
    "execution_millis": 107099,
    "execution_start": 1634243458653,
    "source_hash": "b9d6335",
    "tags": []
   },
   "outputs": [
    {
     "name": "stdout",
     "output_type": "stream",
     "text": [
      "Item  1  completed\n",
      "#000;margin\n",
      "Item  2  completed\n",
      "#0001412347\n",
      "Item  3  completed\n",
      "#0001490636\n",
      "Item  4  completed\n",
      "#0001281922\n",
      "Item  5  completed\n",
      "#0001489161\n",
      "Item  6  completed\n",
      "#0001439199\n",
      "Item  7  completed\n",
      "#0001171012\n",
      "Item  8  completed\n",
      "#0001283843\n",
      "Item  9  completed\n",
      "#0001502034\n",
      "Item  10  completed\n",
      "#0001512077\n",
      "Item  11  completed\n",
      "#0001311230\n",
      "Item  12  completed\n",
      "#000;margin\n",
      "Item  13  completed\n",
      "#0001096339\n",
      "Item  14  completed\n",
      "0\n",
      "Item  15  completed\n",
      "#000;margin\n",
      "Item  16  completed\n",
      "#000;margin\n",
      "Item  17  completed\n",
      "#000;margin\n",
      "Item  18  completed\n",
      "#0001347613\n",
      "Item  19  completed\n",
      "#0001461993\n",
      "Item  20  completed\n",
      "#0001490165\n",
      "Item  21  completed\n",
      "#0001532543\n",
      "Item  22  completed\n",
      "#0001549848\n",
      "Item  23  completed\n",
      "#0001549756\n",
      "Item  24  completed\n",
      "0\n",
      "Item  25  completed\n",
      "#0001555492\n",
      "Item  26  completed\n",
      "0\n",
      "Item  27  completed\n",
      "#0001567892\n",
      "Item  28  completed\n",
      "#0000943110\n",
      "Item  29  completed\n",
      "#0000944537\n",
      "Item  30  completed\n",
      "#0001051253\n",
      "Item  31  completed\n",
      "#0001282613\n",
      "Item  32  completed\n",
      "#0001560186\n",
      "Item  33  completed\n",
      "#0001338095\n",
      "Item  34  completed\n",
      "#000;margin\n",
      "Item  35  completed\n",
      "#0001602367\n",
      "Item  36  completed\n",
      "#000;margin\n",
      "Item  37  completed\n",
      "#0001597659\n",
      "Item  38  completed\n",
      "#0001609253\n",
      "Item  39  completed\n",
      "#0001648893\n",
      "Item  40  completed\n",
      "#0001659122\n",
      "Item  41  completed\n",
      "#0001429386\n",
      "Item  42  completed\n",
      "#000;margin\n",
      "Item  43  completed\n",
      "#0001661920\n",
      "Item  44  completed\n",
      "#000;margin\n",
      "Item  45  completed\n",
      "#0001619250\n",
      "Item  46  completed\n",
      "#0001690769\n",
      "Item  47  completed\n",
      "#0001656328\n",
      "Item  48  completed\n",
      "#0001720201\n",
      "Item  49  completed\n",
      "#000;margin\n",
      "Item  50  completed\n",
      "#0001735707\n",
      "Item  51  completed\n",
      "#0001725750\n",
      "Item  52  completed\n",
      "#000;margin\n",
      "Item  53  completed\n",
      "#000;margin\n",
      "Item  54  completed\n",
      "0\n",
      "Item  55  completed\n",
      "#0001260479\n",
      "Item  56  completed\n",
      "#0001093273\n",
      "Item  57  completed\n",
      "#000;margin\n",
      "Item  58  completed\n",
      "0\n",
      "Item  59  completed\n",
      "#0001108332\n",
      "Item  60  completed\n",
      "#0001058283\n",
      "Item  61  completed\n",
      "#0001050212\n",
      "Item  62  completed\n",
      "0\n",
      "Item  63  completed\n",
      "0\n",
      "Item  64  completed\n",
      "#0001084587\n",
      "Item  65  completed\n",
      "0\n",
      "Item  66  completed\n",
      "#0001098570\n",
      "Item  67  completed\n",
      "#0001015663\n",
      "Item  68  completed\n",
      "#0001107332\n",
      "Item  69  completed\n",
      "#0001110794\n",
      "Item  70  completed\n",
      "0\n",
      "Item  71  completed\n",
      "#000;margin\n",
      "Item  72  completed\n",
      "#0001097516\n",
      "Item  73  completed\n",
      "#0000893692\n",
      "Item  74  completed\n",
      "#0001069201\n",
      "Item  75  completed\n",
      "#0001107601\n",
      "Item  76  completed\n",
      "#0001119174\n",
      "Item  77  completed\n",
      "#0001097002\n",
      "Item  78  completed\n",
      "#0001097654\n",
      "Item  79  completed\n",
      "#0001106935\n",
      "Item  80  completed\n",
      "#0001101851\n",
      "Item  81  completed\n",
      "#0000855743\n",
      "Item  82  completed\n",
      "#0001010775\n",
      "Item  83  completed\n",
      "#0000835012\n",
      "Item  84  completed\n",
      "#000;margin\n",
      "Item  85  completed\n",
      "#0001127342\n",
      "Item  86  completed\n",
      "#0001064728\n",
      "Item  87  completed\n",
      "#000;margin\n",
      "Item  88  completed\n",
      "#000;margin\n",
      "Item  89  completed\n",
      "#0001129650\n",
      "Item  90  completed\n",
      "#0001158019\n",
      "Item  91  completed\n",
      "#0000006885\n",
      "Item  92  completed\n",
      "#000;margin\n",
      "Item  93  completed\n",
      "#000;margin\n",
      "Item  94  completed\n",
      "#0000857171\n",
      "Item  95  completed\n",
      "0\n",
      "Item  96  completed\n",
      "#0001171014\n",
      "Item  97  completed\n",
      "#0001169534\n",
      "Item  98  completed\n",
      "#000;margin\n",
      "Item  99  completed\n",
      "#0001131072\n",
      "Item  100  completed\n",
      "#000;margin\n",
      "Item  101  completed\n",
      "#0001232229\n",
      "Item  102  completed\n",
      "#0001166291\n",
      "Item  103  completed\n",
      "#0000893670\n",
      "Item  104  completed\n",
      "#000;margin\n",
      "Item  105  completed\n",
      "#0000813781\n",
      "Item  106  completed\n",
      "#0001628365\n",
      "Item  107  completed\n",
      "#0001130626\n",
      "Item  108  completed\n",
      "#0001099980\n",
      "Item  109  completed\n",
      "#0001211351\n",
      "Item  110  completed\n",
      "#000;margin\n",
      "Item  111  completed\n",
      "#0001289871\n",
      "Item  112  completed\n",
      "#0001282582\n",
      "Item  113  completed\n",
      "#000;margin\n",
      "Item  114  completed\n",
      "#0001062613\n",
      "Item  115  completed\n",
      "#0000949228\n",
      "Item  116  completed\n",
      "#000;margin\n",
      "Item  117  completed\n",
      "#000;margin\n",
      "Item  118  completed\n",
      "#000;margin\n",
      "Item  119  completed\n",
      "#000;margin\n",
      "Item  120  completed\n",
      "#0001315054\n",
      "Item  121  completed\n",
      "#0000943320\n",
      "Item  122  completed\n",
      "#0001330849\n",
      "Item  123  completed\n",
      "#0001135906\n",
      "Item  124  completed\n",
      "#000;margin\n",
      "Item  125  completed\n",
      "#000;margin\n",
      "Item  126  completed\n",
      "#0001341137\n",
      "Item  127  completed\n",
      "#0001548816\n",
      "Item  128  completed\n",
      "0\n",
      "Item  129  completed\n",
      "#0001352045\n",
      "Item  130  completed\n",
      "#0001351509\n",
      "Item  131  completed\n",
      "#0001343202\n",
      "Item  132  completed\n",
      "#0001145061\n",
      "Item  133  completed\n",
      "#0001323033\n",
      "Item  134  completed\n",
      "#000;margin\n",
      "Item  135  completed\n",
      "0\n",
      "Item  136  completed\n",
      "0\n",
      "Item  137  completed\n",
      "0\n",
      "Item  138  completed\n",
      "#000;margin\n",
      "Item  139  completed\n",
      "#0001345968\n",
      "Item  140  completed\n",
      "#0001344376\n",
      "Item  141  completed\n",
      "#0000854709\n",
      "Item  142  completed\n",
      "#0001372791\n",
      "Item  143  completed\n",
      "#0000701345\n",
      "Item  144  completed\n",
      "#0001735828\n",
      "Item  145  completed\n",
      "#0001375083\n",
      "Item  146  completed\n",
      "#0001340752\n",
      "Item  147  completed\n",
      "0\n",
      "Item  148  completed\n",
      "#0001376610\n",
      "Item  149  completed\n",
      "#0001137469\n",
      "Item  150  completed\n",
      "#0000913665\n",
      "Item  151  completed\n",
      "#000;margin\n",
      "Item  152  completed\n",
      "0\n",
      "Item  153  completed\n",
      "#000;margin\n",
      "Item  154  completed\n",
      "#0001082084\n",
      "Item  155  completed\n",
      "#000;margin\n",
      "Item  156  completed\n",
      "#0001230355\n",
      "Item  157  completed\n",
      "#0001376812\n",
      "Item  158  completed\n",
      "0\n",
      "Item  159  completed\n",
      "#0001410056\n",
      "Item  160  completed\n",
      "#0001319009\n",
      "Item  161  completed\n",
      "#0001394954\n",
      "Item  162  completed\n",
      "#0001452384\n",
      "Item  163  completed\n",
      "#000;margin\n",
      "Item  164  completed\n",
      "#0001178946\n",
      "Item  165  completed\n",
      "#0001402281\n",
      "Item  166  completed\n",
      "#0001311486\n",
      "Item  167  completed\n",
      "0\n",
      "Item  168  completed\n",
      "0\n",
      "Item  169  completed\n",
      "#0001301206\n",
      "Item  170  completed\n",
      "#000;margin\n",
      "Item  171  completed\n",
      "#0001377720\n"
     ]
    }
   ],
   "source": [
    "#Web Scrape CIK IDs to identify bankrupt companies on the EDGAR database.\n",
    "#Imperfect code, need some manual work afterwards\n",
    "import requests\n",
    "import bs4\n",
    "  \n",
    "\n",
    "items= list(bankrupt[\"Name\"])\n",
    "cik=[]\n",
    "i=1\n",
    "for item in items:\n",
    "    begin=-1\n",
    "\n",
    "    url = 'https://google.com/search?q=' + item + \"cik\"\n",
    "        \n",
    "        # Fetch the URL data using requests.get(url),\n",
    "        # store it in a variable, request_result.\n",
    "    request_result=requests.get( url )\n",
    "        \n",
    "        # Creating soup from the fetched request\n",
    "    soup = bs4.BeautifulSoup(request_result.text,\"html.parser\")\n",
    "    text=str(soup)\n",
    "    begin=text.find(\"#00\")\n",
    "    if begin!=-1 and begin!=None:\n",
    "        code=text[begin:(begin+11)]\n",
    "    else:\n",
    "        code=0\n",
    "    cik=cik+[code]\n",
    "    print(\"Item \",i,\" completed\")\n",
    "    print(code)\n",
    "    i+=1\n"
   ]
  },
  {
   "cell_type": "code",
   "execution_count": null,
   "metadata": {
    "cell_id": "00013-187749ad-e588-4c97-866d-5b0ed56920ed",
    "deepnote_cell_type": "code",
    "deepnote_to_be_reexecuted": false,
    "execution_millis": 20,
    "execution_start": 1634243596555,
    "source_hash": "a1922868",
    "tags": []
   },
   "outputs": [
    {
     "name": "stderr",
     "output_type": "stream",
     "text": [
      "/shared-libs/python3.7/py-core/lib/python3.7/site-packages/ipykernel_launcher.py:1: SettingWithCopyWarning: \n",
      "A value is trying to be set on a copy of a slice from a DataFrame.\n",
      "Try using .loc[row_indexer,col_indexer] = value instead\n",
      "\n",
      "See the caveats in the documentation: https://pandas.pydata.org/pandas-docs/stable/user_guide/indexing.html#returning-a-view-versus-a-copy\n",
      "  \"\"\"Entry point for launching an IPython kernel.\n"
     ]
    }
   ],
   "source": [
    "bankrupt[\"CIK\"]=cik"
   ]
  },
  {
   "cell_type": "code",
   "execution_count": null,
   "metadata": {
    "cell_id": "00017-ad6c3670-ecdb-4054-ab47-47b9d6e85889",
    "deepnote_cell_type": "code",
    "deepnote_to_be_reexecuted": false,
    "execution_millis": 211,
    "execution_start": 1634243643327,
    "source_hash": "c72f9633",
    "tags": []
   },
   "outputs": [],
   "source": [
    "#Save bankrupt company list as .csv for future reuse\n",
    "bankrupt.to_csv(\"bankrupt.csv\")"
   ]
  },
  {
   "cell_type": "code",
   "execution_count": null,
   "metadata": {
    "cell_id": "00019-e9d6d259-0957-411f-954a-5d3a1c8f3ec3",
    "deepnote_cell_type": "code",
    "deepnote_to_be_reexecuted": false,
    "execution_millis": 0,
    "execution_start": 1634315574411,
    "source_hash": "ecc7db4b",
    "tags": []
   },
   "outputs": [],
   "source": [
    "CIK_Old=list(bankrupt[\"CIK\"])\n",
    "CIK=[s[1:] for s in CIK_Old]"
   ]
  },
  {
   "cell_type": "code",
   "execution_count": null,
   "metadata": {
    "cell_id": "00022-4149d843-cd3a-4d67-94fa-6906c03027c1",
    "deepnote_cell_type": "code",
    "deepnote_to_be_reexecuted": false,
    "execution_millis": 4490,
    "execution_start": 1634320909773,
    "source_hash": "5345f8d3",
    "tags": []
   },
   "outputs": [
    {
     "name": "stdout",
     "output_type": "stream",
     "text": [
      "Requirement already satisfied: sec_edgar_downloader==4.2.2 in /usr/local/lib/python3.7/site-packages (4.2.2)\n",
      "Requirement already satisfied: Faker in /usr/local/lib/python3.7/site-packages (from sec_edgar_downloader==4.2.2) (9.3.1)\n",
      "Requirement already satisfied: lxml in /shared-libs/python3.7/py/lib/python3.7/site-packages (from sec_edgar_downloader==4.2.2) (4.6.3)\n",
      "Requirement already satisfied: bs4 in /usr/local/lib/python3.7/site-packages (from sec_edgar_downloader==4.2.2) (0.0.1)\n",
      "Requirement already satisfied: requests in /shared-libs/python3.7/py/lib/python3.7/site-packages (from sec_edgar_downloader==4.2.2) (2.26.0)\n",
      "Requirement already satisfied: beautifulsoup4 in /usr/local/lib/python3.7/site-packages (from bs4->sec_edgar_downloader==4.2.2) (4.10.0)\n",
      "Requirement already satisfied: soupsieve>1.2 in /usr/local/lib/python3.7/site-packages (from beautifulsoup4->bs4->sec_edgar_downloader==4.2.2) (2.2.1)\n",
      "Requirement already satisfied: python-dateutil>=2.4 in /shared-libs/python3.7/py-core/lib/python3.7/site-packages (from Faker->sec_edgar_downloader==4.2.2) (2.8.2)\n",
      "Requirement already satisfied: text-unidecode==1.3 in /shared-libs/python3.7/py/lib/python3.7/site-packages (from Faker->sec_edgar_downloader==4.2.2) (1.3)\n",
      "Requirement already satisfied: six>=1.5 in /shared-libs/python3.7/py-core/lib/python3.7/site-packages (from python-dateutil>=2.4->Faker->sec_edgar_downloader==4.2.2) (1.16.0)\n",
      "Requirement already satisfied: charset-normalizer~=2.0.0 in /shared-libs/python3.7/py/lib/python3.7/site-packages (from requests->sec_edgar_downloader==4.2.2) (2.0.7)\n",
      "Requirement already satisfied: urllib3<1.27,>=1.21.1 in /shared-libs/python3.7/py/lib/python3.7/site-packages (from requests->sec_edgar_downloader==4.2.2) (1.26.7)\n",
      "Requirement already satisfied: certifi>=2017.4.17 in /shared-libs/python3.7/py/lib/python3.7/site-packages (from requests->sec_edgar_downloader==4.2.2) (2021.10.8)\n",
      "Requirement already satisfied: idna<4,>=2.5 in /shared-libs/python3.7/py-core/lib/python3.7/site-packages (from requests->sec_edgar_downloader==4.2.2) (3.3)\n",
      "\u001b[33mWARNING: You are using pip version 21.2.4; however, version 21.3 is available.\n",
      "You should consider upgrading via the '/root/venv/bin/python -m pip install --upgrade pip' command.\u001b[0m\n"
     ]
    }
   ],
   "source": [
    "#Install the EDGAR extraction package\n",
    "!pip install sec_edgar_downloader==4.2.2"
   ]
  },
  {
   "cell_type": "code",
   "execution_count": null,
   "metadata": {
    "cell_id": "00018-9cc52498-e010-4b18-86d9-825b554c9a18",
    "deepnote_cell_type": "code",
    "deepnote_to_be_reexecuted": false,
    "execution_millis": 568626,
    "execution_start": 1634320914270,
    "source_hash": "db8fab19",
    "tags": []
   },
   "outputs": [
    {
     "name": "stdout",
     "output_type": "stream",
     "text": [
      "Finished fetching company # 1\n",
      "Finished fetching company # 2\n",
      "Finished fetching company # 3\n",
      "Skipping filing detail download for '0000950116-01-000544' due to network error: 404 Client Error: Not Found for url: https://www.sec.gov/Archives/edgar/data/0000077281/000095011601000544/0001.txt.\n",
      "Finished fetching company # 4\n",
      "Finished fetching company # 5\n",
      "Finished fetching company # 6\n",
      "Finished fetching company # 7\n",
      "Finished fetching company # 8\n",
      "Finished fetching company # 9\n",
      "Finished fetching company # 10\n",
      "Skipping filing detail download for '0001001277-00-000282' due to network error: 404 Client Error: Not Found for url: https://www.sec.gov/Archives/edgar/data/0000811212/000100127700000282/0001.txt.\n",
      "Finished fetching company # 11\n",
      "Finished fetching company # 12\n",
      "Finished fetching company # 13\n",
      "Finished fetching company # 14\n",
      "Finished fetching company # 15\n",
      "Finished fetching company # 16\n",
      "Finished fetching company # 17\n",
      "Skipping filing detail download for '0000887919-01-000006' due to network error: 404 Client Error: Not Found for url: https://www.sec.gov/Archives/edgar/data/0000887919/000088791901000006/0001.txt.\n",
      "Finished fetching company # 18\n",
      "Finished fetching company # 19\n",
      "Finished fetching company # 20\n"
     ]
    }
   ],
   "source": [
    "from sec_edgar_downloader import Downloader\n",
    "\n",
    "# Download filings to the current working directory, auto skip if not found \n",
    "dl = Downloader()\n",
    "equity_ids = list(healthy[\"Ticker\"]) #list(bankrupt[\"CIK\"]) for downloading 10-Ks of bankrupt companies\n",
    "i=0\n",
    "for equity_id in equity_ids:\n",
    "    dl.get(\"10-K\", equity_id)\n",
    "    i+=1\n",
    "    print(\"Finished fetching company #\",i)"
   ]
  },
  {
   "cell_type": "code",
   "execution_count": null,
   "metadata": {
    "cell_id": "00023-93422560-6ac5-4d60-a906-06b1419d27fb",
    "deepnote_cell_type": "code",
    "deepnote_to_be_reexecuted": false,
    "execution_millis": 1,
    "execution_start": 1634298561705,
    "source_hash": "1e81cbfd",
    "tags": []
   },
   "outputs": [],
   "source": [
    "import os\n",
    "def get_immediate_subdirectories(a_dir):\n",
    "    return [name for name in os.listdir(a_dir)\n",
    "            if os.path.isdir(os.path.join(a_dir, name))]"
   ]
  },
  {
   "cell_type": "code",
   "execution_count": null,
   "metadata": {
    "cell_id": "00023-28e34e8f-05bd-498a-a497-46531e14b937",
    "deepnote_cell_type": "code",
    "deepnote_to_be_reexecuted": false,
    "execution_millis": 1216811,
    "execution_start": 1634298701766,
    "source_hash": "a708f70d",
    "tags": []
   },
   "outputs": [],
   "source": [
    "#Clean each HTML file with BeautifulSoup\n",
    "from bs4 import BeautifulSoup\n",
    "import os\n",
    "notfound=[]\n",
    "for number in CIK:\n",
    "    rootpath=\"/work/sec-edgar-filings/\"+number+\"/10-K/\"\n",
    "    try:\n",
    "        sublist=get_immediate_subdirectories(rootpath)\n",
    "        for index,suffix in enumerate(sublist):\n",
    "            filepath=rootpath+suffix+\"/\"+\"filing-details.html\"\n",
    "            targetpath=\"/work/clean/\"+number+\"/\"+suffix+\"/\"\n",
    "            os.makedirs(targetpath)\n",
    "            if os.path.exists(targetpath):\n",
    "                with open(filepath) as fp:\n",
    "                    try:\n",
    "                        soup = BeautifulSoup(fp, 'html.parser')\n",
    "                        text=soup.get_text()\n",
    "                        text = text.replace(\"\\n\", \" \")\n",
    "                        f = open(targetpath+\"report.txt\",\"w+\")\n",
    "                        f.write(text)\n",
    "                        f.close()\n",
    "                    except Exception:\n",
    "                        pass\n",
    "    except FileNotFoundError:\n",
    "        print(\"File not found at \",number)\n",
    "        notfound=notfound+[number]\n",
    "\n",
    "    "
   ]
  },
  {
   "cell_type": "code",
   "execution_count": null,
   "metadata": {
    "cell_id": "00026-1ec69ef5-a72c-4322-8812-9a7b964075b0",
    "deepnote_cell_type": "code",
    "tags": []
   },
   "outputs": [],
   "source": []
  },
  {
   "cell_type": "markdown",
   "metadata": {
    "created_in_deepnote_cell": true,
    "deepnote_cell_type": "markdown",
    "tags": []
   },
   "source": [
    "<a style='text-decoration:none;line-height:16px;display:flex;color:#5B5B62;padding:10px;justify-content:end;' href='https://deepnote.com?utm_source=created-in-deepnote-cell&projectId=170ba9c7-3bef-462e-a31c-502885a8eb34' target=\"_blank\">\n",
    "<img alt='Created in deepnote.com' style='display:inline;max-height:16px;margin:0px;margin-right:7.5px;' src='data:image/svg+xml;base64,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' > </img>\n",
    "Created in <span style='font-weight:600;margin-left:4px;'>Deepnote</span></a>"
   ]
  }
 ],
 "metadata": {
  "deepnote": {
   "is_reactive": false
  },
  "deepnote_execution_queue": [],
  "deepnote_notebook_id": "4c07538d-3652-4686-8d67-cd91c978bbc3",
  "language_info": {
   "name": "python"
  },
  "orig_nbformat": 2
 },
 "nbformat": 4,
 "nbformat_minor": 2
}
